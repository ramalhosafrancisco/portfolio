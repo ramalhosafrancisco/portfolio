{
 "cells": [
  {
   "cell_type": "markdown",
   "id": "26e6e5c8",
   "metadata": {},
   "source": [
    "# QSAM - Exercício Prático 2\n",
    "Dataset “1991_U.S._General_Social_Survey.xls”.\n",
    "Utilize a ferramenta que lhe seja mais favorável (R, Phyton, Excel, SPSS,…)  \n",
    "#### 1.Explore o ficheiro, e faça uma síntese descritiva e gráfica das variáveis 'happy' (felicidade), 'sex', 'life' (tipo de vida) e 'age'.\n",
    "#### 2.Teste a hipótese de a média das idades dos homens ser igual à das mulheres."
   ]
  },
  {
   "cell_type": "markdown",
   "id": "e7f59cb3",
   "metadata": {},
   "source": [
    "## Importação das bibliotecas"
   ]
  },
  {
   "cell_type": "code",
   "execution_count": 1,
   "id": "c43d50be",
   "metadata": {},
   "outputs": [],
   "source": [
    "import pandas as pd\n",
    "import numpy as np\n",
    "import matplotlib.pyplot as plt\n",
    "import seaborn as sns\n",
    "import scipy.stats as st\n",
    "from scipy.stats import ttest_ind\n",
    "from scipy.stats import norm\n",
    "import statistics as sta\n",
    "import warnings\n",
    "warnings.filterwarnings(\"ignore\")"
   ]
  },
  {
   "cell_type": "markdown",
   "id": "e141541b",
   "metadata": {},
   "source": [
    "## Carregamento do ficheiro para análise"
   ]
  },
  {
   "cell_type": "code",
   "execution_count": 2,
   "id": "ffa704dc",
   "metadata": {},
   "outputs": [],
   "source": [
    "df = pd.read_csv('1991_U.S._General_Social_Survey.csv', delimiter=';')"
   ]
  },
  {
   "cell_type": "code",
   "execution_count": 3,
   "id": "e1efcbad",
   "metadata": {},
   "outputs": [
    {
     "data": {
      "text/html": [
       "<div>\n",
       "<style scoped>\n",
       "    .dataframe tbody tr th:only-of-type {\n",
       "        vertical-align: middle;\n",
       "    }\n",
       "\n",
       "    .dataframe tbody tr th {\n",
       "        vertical-align: top;\n",
       "    }\n",
       "\n",
       "    .dataframe thead th {\n",
       "        text-align: right;\n",
       "    }\n",
       "</style>\n",
       "<table border=\"1\" class=\"dataframe\">\n",
       "  <thead>\n",
       "    <tr style=\"text-align: right;\">\n",
       "      <th></th>\n",
       "      <th>sex</th>\n",
       "      <th>race</th>\n",
       "      <th>region</th>\n",
       "      <th>happy</th>\n",
       "      <th>life</th>\n",
       "      <th>sibs</th>\n",
       "      <th>childs</th>\n",
       "      <th>age</th>\n",
       "      <th>educ</th>\n",
       "      <th>paeduc</th>\n",
       "      <th>...</th>\n",
       "      <th>work6</th>\n",
       "      <th>work7</th>\n",
       "      <th>work8</th>\n",
       "      <th>work9</th>\n",
       "      <th>prob1</th>\n",
       "      <th>prob2</th>\n",
       "      <th>prob3</th>\n",
       "      <th>prob4</th>\n",
       "      <th>Educ2</th>\n",
       "      <th>filter_$</th>\n",
       "    </tr>\n",
       "  </thead>\n",
       "  <tbody>\n",
       "    <tr>\n",
       "      <th>0</th>\n",
       "      <td>2</td>\n",
       "      <td>1</td>\n",
       "      <td>1,00</td>\n",
       "      <td>1</td>\n",
       "      <td>1</td>\n",
       "      <td>1</td>\n",
       "      <td>2</td>\n",
       "      <td>61</td>\n",
       "      <td>12</td>\n",
       "      <td>97</td>\n",
       "      <td>...</td>\n",
       "      <td>0</td>\n",
       "      <td>0</td>\n",
       "      <td>0</td>\n",
       "      <td>0</td>\n",
       "      <td>#NULO!</td>\n",
       "      <td>#NULO!</td>\n",
       "      <td>#NULO!</td>\n",
       "      <td>#NULO!</td>\n",
       "      <td>4</td>\n",
       "      <td>1</td>\n",
       "    </tr>\n",
       "    <tr>\n",
       "      <th>1</th>\n",
       "      <td>2</td>\n",
       "      <td>1</td>\n",
       "      <td>1,00</td>\n",
       "      <td>2</td>\n",
       "      <td>1</td>\n",
       "      <td>2</td>\n",
       "      <td>1</td>\n",
       "      <td>32</td>\n",
       "      <td>20</td>\n",
       "      <td>20</td>\n",
       "      <td>...</td>\n",
       "      <td>1</td>\n",
       "      <td>2</td>\n",
       "      <td>1</td>\n",
       "      <td>1</td>\n",
       "      <td>2</td>\n",
       "      <td>4</td>\n",
       "      <td>5</td>\n",
       "      <td>#NULO!</td>\n",
       "      <td>6</td>\n",
       "      <td>0</td>\n",
       "    </tr>\n",
       "    <tr>\n",
       "      <th>2</th>\n",
       "      <td>1</td>\n",
       "      <td>1</td>\n",
       "      <td>1,00</td>\n",
       "      <td>1</td>\n",
       "      <td>0</td>\n",
       "      <td>2</td>\n",
       "      <td>1</td>\n",
       "      <td>35</td>\n",
       "      <td>20</td>\n",
       "      <td>16</td>\n",
       "      <td>...</td>\n",
       "      <td>2</td>\n",
       "      <td>2</td>\n",
       "      <td>2</td>\n",
       "      <td>2</td>\n",
       "      <td>#NULO!</td>\n",
       "      <td>#NULO!</td>\n",
       "      <td>#NULO!</td>\n",
       "      <td>#NULO!</td>\n",
       "      <td>6</td>\n",
       "      <td>0</td>\n",
       "    </tr>\n",
       "    <tr>\n",
       "      <th>3</th>\n",
       "      <td>2</td>\n",
       "      <td>1</td>\n",
       "      <td>1,00</td>\n",
       "      <td>9</td>\n",
       "      <td>2</td>\n",
       "      <td>2</td>\n",
       "      <td>0</td>\n",
       "      <td>26</td>\n",
       "      <td>20</td>\n",
       "      <td>20</td>\n",
       "      <td>...</td>\n",
       "      <td>2</td>\n",
       "      <td>2</td>\n",
       "      <td>2</td>\n",
       "      <td>2</td>\n",
       "      <td>2</td>\n",
       "      <td>2</td>\n",
       "      <td>#NULO!</td>\n",
       "      <td>#NULO!</td>\n",
       "      <td>6</td>\n",
       "      <td>0</td>\n",
       "    </tr>\n",
       "    <tr>\n",
       "      <th>4</th>\n",
       "      <td>2</td>\n",
       "      <td>2</td>\n",
       "      <td>1,00</td>\n",
       "      <td>2</td>\n",
       "      <td>1</td>\n",
       "      <td>4</td>\n",
       "      <td>0</td>\n",
       "      <td>25</td>\n",
       "      <td>12</td>\n",
       "      <td>98</td>\n",
       "      <td>...</td>\n",
       "      <td>0</td>\n",
       "      <td>0</td>\n",
       "      <td>0</td>\n",
       "      <td>0</td>\n",
       "      <td>#NULO!</td>\n",
       "      <td>#NULO!</td>\n",
       "      <td>#NULO!</td>\n",
       "      <td>#NULO!</td>\n",
       "      <td>4</td>\n",
       "      <td>0</td>\n",
       "    </tr>\n",
       "    <tr>\n",
       "      <th>...</th>\n",
       "      <td>...</td>\n",
       "      <td>...</td>\n",
       "      <td>...</td>\n",
       "      <td>...</td>\n",
       "      <td>...</td>\n",
       "      <td>...</td>\n",
       "      <td>...</td>\n",
       "      <td>...</td>\n",
       "      <td>...</td>\n",
       "      <td>...</td>\n",
       "      <td>...</td>\n",
       "      <td>...</td>\n",
       "      <td>...</td>\n",
       "      <td>...</td>\n",
       "      <td>...</td>\n",
       "      <td>...</td>\n",
       "      <td>...</td>\n",
       "      <td>...</td>\n",
       "      <td>...</td>\n",
       "      <td>...</td>\n",
       "      <td>...</td>\n",
       "    </tr>\n",
       "    <tr>\n",
       "      <th>1512</th>\n",
       "      <td>1</td>\n",
       "      <td>1</td>\n",
       "      <td>3,00</td>\n",
       "      <td>1</td>\n",
       "      <td>0</td>\n",
       "      <td>4</td>\n",
       "      <td>0</td>\n",
       "      <td>35</td>\n",
       "      <td>12</td>\n",
       "      <td>8</td>\n",
       "      <td>...</td>\n",
       "      <td>2</td>\n",
       "      <td>2</td>\n",
       "      <td>2</td>\n",
       "      <td>2</td>\n",
       "      <td>#NULO!</td>\n",
       "      <td>#NULO!</td>\n",
       "      <td>#NULO!</td>\n",
       "      <td>#NULO!</td>\n",
       "      <td>4</td>\n",
       "      <td>0</td>\n",
       "    </tr>\n",
       "    <tr>\n",
       "      <th>1513</th>\n",
       "      <td>1</td>\n",
       "      <td>1</td>\n",
       "      <td>3,00</td>\n",
       "      <td>2</td>\n",
       "      <td>1</td>\n",
       "      <td>7</td>\n",
       "      <td>0</td>\n",
       "      <td>82</td>\n",
       "      <td>12</td>\n",
       "      <td>4</td>\n",
       "      <td>...</td>\n",
       "      <td>0</td>\n",
       "      <td>0</td>\n",
       "      <td>0</td>\n",
       "      <td>0</td>\n",
       "      <td>#NULO!</td>\n",
       "      <td>#NULO!</td>\n",
       "      <td>#NULO!</td>\n",
       "      <td>#NULO!</td>\n",
       "      <td>4</td>\n",
       "      <td>1</td>\n",
       "    </tr>\n",
       "    <tr>\n",
       "      <th>1514</th>\n",
       "      <td>1</td>\n",
       "      <td>1</td>\n",
       "      <td>3,00</td>\n",
       "      <td>2</td>\n",
       "      <td>0</td>\n",
       "      <td>9</td>\n",
       "      <td>1</td>\n",
       "      <td>30</td>\n",
       "      <td>9</td>\n",
       "      <td>8</td>\n",
       "      <td>...</td>\n",
       "      <td>2</td>\n",
       "      <td>2</td>\n",
       "      <td>2</td>\n",
       "      <td>2</td>\n",
       "      <td>#NULO!</td>\n",
       "      <td>#NULO!</td>\n",
       "      <td>#NULO!</td>\n",
       "      <td>#NULO!</td>\n",
       "      <td>3</td>\n",
       "      <td>0</td>\n",
       "    </tr>\n",
       "    <tr>\n",
       "      <th>1515</th>\n",
       "      <td>1</td>\n",
       "      <td>1</td>\n",
       "      <td>3,00</td>\n",
       "      <td>2</td>\n",
       "      <td>2</td>\n",
       "      <td>5</td>\n",
       "      <td>4</td>\n",
       "      <td>70</td>\n",
       "      <td>12</td>\n",
       "      <td>7</td>\n",
       "      <td>...</td>\n",
       "      <td>1</td>\n",
       "      <td>2</td>\n",
       "      <td>2</td>\n",
       "      <td>2</td>\n",
       "      <td>7</td>\n",
       "      <td>7</td>\n",
       "      <td>#NULO!</td>\n",
       "      <td>#NULO!</td>\n",
       "      <td>4</td>\n",
       "      <td>1</td>\n",
       "    </tr>\n",
       "    <tr>\n",
       "      <th>1516</th>\n",
       "      <td>2</td>\n",
       "      <td>1</td>\n",
       "      <td>3,00</td>\n",
       "      <td>1</td>\n",
       "      <td>0</td>\n",
       "      <td>4</td>\n",
       "      <td>3</td>\n",
       "      <td>47</td>\n",
       "      <td>12</td>\n",
       "      <td>12</td>\n",
       "      <td>...</td>\n",
       "      <td>2</td>\n",
       "      <td>2</td>\n",
       "      <td>2</td>\n",
       "      <td>2</td>\n",
       "      <td>#NULO!</td>\n",
       "      <td>#NULO!</td>\n",
       "      <td>#NULO!</td>\n",
       "      <td>#NULO!</td>\n",
       "      <td>4</td>\n",
       "      <td>0</td>\n",
       "    </tr>\n",
       "  </tbody>\n",
       "</table>\n",
       "<p>1517 rows × 45 columns</p>\n",
       "</div>"
      ],
      "text/plain": [
       "      sex  race region  happy  life  sibs  childs  age  educ  paeduc  ...  \\\n",
       "0       2     1   1,00      1     1     1       2   61    12      97  ...   \n",
       "1       2     1   1,00      2     1     2       1   32    20      20  ...   \n",
       "2       1     1   1,00      1     0     2       1   35    20      16  ...   \n",
       "3       2     1   1,00      9     2     2       0   26    20      20  ...   \n",
       "4       2     2   1,00      2     1     4       0   25    12      98  ...   \n",
       "...   ...   ...    ...    ...   ...   ...     ...  ...   ...     ...  ...   \n",
       "1512    1     1   3,00      1     0     4       0   35    12       8  ...   \n",
       "1513    1     1   3,00      2     1     7       0   82    12       4  ...   \n",
       "1514    1     1   3,00      2     0     9       1   30     9       8  ...   \n",
       "1515    1     1   3,00      2     2     5       4   70    12       7  ...   \n",
       "1516    2     1   3,00      1     0     4       3   47    12      12  ...   \n",
       "\n",
       "      work6  work7  work8 work9   prob1   prob2   prob3   prob4  Educ2  \\\n",
       "0         0      0      0     0  #NULO!  #NULO!  #NULO!  #NULO!      4   \n",
       "1         1      2      1     1       2       4       5  #NULO!      6   \n",
       "2         2      2      2     2  #NULO!  #NULO!  #NULO!  #NULO!      6   \n",
       "3         2      2      2     2       2       2  #NULO!  #NULO!      6   \n",
       "4         0      0      0     0  #NULO!  #NULO!  #NULO!  #NULO!      4   \n",
       "...     ...    ...    ...   ...     ...     ...     ...     ...    ...   \n",
       "1512      2      2      2     2  #NULO!  #NULO!  #NULO!  #NULO!      4   \n",
       "1513      0      0      0     0  #NULO!  #NULO!  #NULO!  #NULO!      4   \n",
       "1514      2      2      2     2  #NULO!  #NULO!  #NULO!  #NULO!      3   \n",
       "1515      1      2      2     2       7       7  #NULO!  #NULO!      4   \n",
       "1516      2      2      2     2  #NULO!  #NULO!  #NULO!  #NULO!      4   \n",
       "\n",
       "      filter_$  \n",
       "0            1  \n",
       "1            0  \n",
       "2            0  \n",
       "3            0  \n",
       "4            0  \n",
       "...        ...  \n",
       "1512         0  \n",
       "1513         1  \n",
       "1514         0  \n",
       "1515         1  \n",
       "1516         0  \n",
       "\n",
       "[1517 rows x 45 columns]"
      ]
     },
     "execution_count": 3,
     "metadata": {},
     "output_type": "execute_result"
    }
   ],
   "source": [
    "df"
   ]
  },
  {
   "cell_type": "markdown",
   "id": "72b5dfe0",
   "metadata": {},
   "source": [
    "## 1. Análise descritiva das varáveis de interesse"
   ]
  },
  {
   "cell_type": "code",
   "execution_count": 4,
   "id": "20cdf20c",
   "metadata": {},
   "outputs": [],
   "source": [
    "df=df[['sex','happy','life','age']] # criar um novo dataframe com apenas as variáveis de interesse a partir do dataframe fornecido."
   ]
  },
  {
   "cell_type": "code",
   "execution_count": 5,
   "id": "c77fd23c",
   "metadata": {},
   "outputs": [
    {
     "data": {
      "text/html": [
       "<div>\n",
       "<style scoped>\n",
       "    .dataframe tbody tr th:only-of-type {\n",
       "        vertical-align: middle;\n",
       "    }\n",
       "\n",
       "    .dataframe tbody tr th {\n",
       "        vertical-align: top;\n",
       "    }\n",
       "\n",
       "    .dataframe thead th {\n",
       "        text-align: right;\n",
       "    }\n",
       "</style>\n",
       "<table border=\"1\" class=\"dataframe\">\n",
       "  <thead>\n",
       "    <tr style=\"text-align: right;\">\n",
       "      <th></th>\n",
       "      <th>sex</th>\n",
       "      <th>happy</th>\n",
       "      <th>life</th>\n",
       "      <th>age</th>\n",
       "    </tr>\n",
       "  </thead>\n",
       "  <tbody>\n",
       "    <tr>\n",
       "      <th>0</th>\n",
       "      <td>2</td>\n",
       "      <td>1</td>\n",
       "      <td>1</td>\n",
       "      <td>61</td>\n",
       "    </tr>\n",
       "    <tr>\n",
       "      <th>1</th>\n",
       "      <td>2</td>\n",
       "      <td>2</td>\n",
       "      <td>1</td>\n",
       "      <td>32</td>\n",
       "    </tr>\n",
       "    <tr>\n",
       "      <th>2</th>\n",
       "      <td>1</td>\n",
       "      <td>1</td>\n",
       "      <td>0</td>\n",
       "      <td>35</td>\n",
       "    </tr>\n",
       "    <tr>\n",
       "      <th>3</th>\n",
       "      <td>2</td>\n",
       "      <td>9</td>\n",
       "      <td>2</td>\n",
       "      <td>26</td>\n",
       "    </tr>\n",
       "    <tr>\n",
       "      <th>4</th>\n",
       "      <td>2</td>\n",
       "      <td>2</td>\n",
       "      <td>1</td>\n",
       "      <td>25</td>\n",
       "    </tr>\n",
       "    <tr>\n",
       "      <th>...</th>\n",
       "      <td>...</td>\n",
       "      <td>...</td>\n",
       "      <td>...</td>\n",
       "      <td>...</td>\n",
       "    </tr>\n",
       "    <tr>\n",
       "      <th>1512</th>\n",
       "      <td>1</td>\n",
       "      <td>1</td>\n",
       "      <td>0</td>\n",
       "      <td>35</td>\n",
       "    </tr>\n",
       "    <tr>\n",
       "      <th>1513</th>\n",
       "      <td>1</td>\n",
       "      <td>2</td>\n",
       "      <td>1</td>\n",
       "      <td>82</td>\n",
       "    </tr>\n",
       "    <tr>\n",
       "      <th>1514</th>\n",
       "      <td>1</td>\n",
       "      <td>2</td>\n",
       "      <td>0</td>\n",
       "      <td>30</td>\n",
       "    </tr>\n",
       "    <tr>\n",
       "      <th>1515</th>\n",
       "      <td>1</td>\n",
       "      <td>2</td>\n",
       "      <td>2</td>\n",
       "      <td>70</td>\n",
       "    </tr>\n",
       "    <tr>\n",
       "      <th>1516</th>\n",
       "      <td>2</td>\n",
       "      <td>1</td>\n",
       "      <td>0</td>\n",
       "      <td>47</td>\n",
       "    </tr>\n",
       "  </tbody>\n",
       "</table>\n",
       "<p>1517 rows × 4 columns</p>\n",
       "</div>"
      ],
      "text/plain": [
       "      sex  happy  life  age\n",
       "0       2      1     1   61\n",
       "1       2      2     1   32\n",
       "2       1      1     0   35\n",
       "3       2      9     2   26\n",
       "4       2      2     1   25\n",
       "...   ...    ...   ...  ...\n",
       "1512    1      1     0   35\n",
       "1513    1      2     1   82\n",
       "1514    1      2     0   30\n",
       "1515    1      2     2   70\n",
       "1516    2      1     0   47\n",
       "\n",
       "[1517 rows x 4 columns]"
      ]
     },
     "execution_count": 5,
     "metadata": {},
     "output_type": "execute_result"
    }
   ],
   "source": [
    "df"
   ]
  },
  {
   "cell_type": "code",
   "execution_count": 6,
   "id": "5e910fc1",
   "metadata": {},
   "outputs": [
    {
     "data": {
      "text/html": [
       "<div>\n",
       "<style scoped>\n",
       "    .dataframe tbody tr th:only-of-type {\n",
       "        vertical-align: middle;\n",
       "    }\n",
       "\n",
       "    .dataframe tbody tr th {\n",
       "        vertical-align: top;\n",
       "    }\n",
       "\n",
       "    .dataframe thead th {\n",
       "        text-align: right;\n",
       "    }\n",
       "</style>\n",
       "<table border=\"1\" class=\"dataframe\">\n",
       "  <thead>\n",
       "    <tr style=\"text-align: right;\">\n",
       "      <th></th>\n",
       "      <th>sex</th>\n",
       "      <th>happy</th>\n",
       "      <th>life</th>\n",
       "      <th>age</th>\n",
       "    </tr>\n",
       "  </thead>\n",
       "  <tbody>\n",
       "    <tr>\n",
       "      <th>count</th>\n",
       "      <td>1517.000000</td>\n",
       "      <td>1517.000000</td>\n",
       "      <td>1517.000000</td>\n",
       "      <td>1517.000000</td>\n",
       "    </tr>\n",
       "    <tr>\n",
       "      <th>mean</th>\n",
       "      <td>1.580751</td>\n",
       "      <td>1.860910</td>\n",
       "      <td>1.104812</td>\n",
       "      <td>45.731707</td>\n",
       "    </tr>\n",
       "    <tr>\n",
       "      <th>std</th>\n",
       "      <td>0.493599</td>\n",
       "      <td>0.904274</td>\n",
       "      <td>1.116066</td>\n",
       "      <td>17.948214</td>\n",
       "    </tr>\n",
       "    <tr>\n",
       "      <th>min</th>\n",
       "      <td>1.000000</td>\n",
       "      <td>1.000000</td>\n",
       "      <td>0.000000</td>\n",
       "      <td>18.000000</td>\n",
       "    </tr>\n",
       "    <tr>\n",
       "      <th>25%</th>\n",
       "      <td>1.000000</td>\n",
       "      <td>1.000000</td>\n",
       "      <td>0.000000</td>\n",
       "      <td>32.000000</td>\n",
       "    </tr>\n",
       "    <tr>\n",
       "      <th>50%</th>\n",
       "      <td>2.000000</td>\n",
       "      <td>2.000000</td>\n",
       "      <td>1.000000</td>\n",
       "      <td>41.000000</td>\n",
       "    </tr>\n",
       "    <tr>\n",
       "      <th>75%</th>\n",
       "      <td>2.000000</td>\n",
       "      <td>2.000000</td>\n",
       "      <td>2.000000</td>\n",
       "      <td>60.000000</td>\n",
       "    </tr>\n",
       "    <tr>\n",
       "      <th>max</th>\n",
       "      <td>2.000000</td>\n",
       "      <td>9.000000</td>\n",
       "      <td>9.000000</td>\n",
       "      <td>99.000000</td>\n",
       "    </tr>\n",
       "  </tbody>\n",
       "</table>\n",
       "</div>"
      ],
      "text/plain": [
       "               sex        happy         life          age\n",
       "count  1517.000000  1517.000000  1517.000000  1517.000000\n",
       "mean      1.580751     1.860910     1.104812    45.731707\n",
       "std       0.493599     0.904274     1.116066    17.948214\n",
       "min       1.000000     1.000000     0.000000    18.000000\n",
       "25%       1.000000     1.000000     0.000000    32.000000\n",
       "50%       2.000000     2.000000     1.000000    41.000000\n",
       "75%       2.000000     2.000000     2.000000    60.000000\n",
       "max       2.000000     9.000000     9.000000    99.000000"
      ]
     },
     "execution_count": 6,
     "metadata": {},
     "output_type": "execute_result"
    }
   ],
   "source": [
    "df.describe() # método 'describe()' inclui estatísticas como contagem, média, desvio padrão, mínimo, percentis e máximo para cada coluna do DataFrame.\n",
    "              # Variável 'sex' neste método nao faz muito sentido interpretar, uma vez que 'sex' originalmente é uma variavel categorica que foi representada como numerica."
   ]
  },
  {
   "cell_type": "code",
   "execution_count": 7,
   "id": "6317334f",
   "metadata": {},
   "outputs": [
    {
     "data": {
      "text/html": [
       "<div>\n",
       "<style scoped>\n",
       "    .dataframe tbody tr th:only-of-type {\n",
       "        vertical-align: middle;\n",
       "    }\n",
       "\n",
       "    .dataframe tbody tr th {\n",
       "        vertical-align: top;\n",
       "    }\n",
       "\n",
       "    .dataframe thead th {\n",
       "        text-align: right;\n",
       "    }\n",
       "</style>\n",
       "<table border=\"1\" class=\"dataframe\">\n",
       "  <thead>\n",
       "    <tr style=\"text-align: right;\">\n",
       "      <th></th>\n",
       "      <th>index</th>\n",
       "      <th>median</th>\n",
       "    </tr>\n",
       "  </thead>\n",
       "  <tbody>\n",
       "    <tr>\n",
       "      <th>0</th>\n",
       "      <td>sex</td>\n",
       "      <td>2.0</td>\n",
       "    </tr>\n",
       "    <tr>\n",
       "      <th>1</th>\n",
       "      <td>happy</td>\n",
       "      <td>2.0</td>\n",
       "    </tr>\n",
       "    <tr>\n",
       "      <th>2</th>\n",
       "      <td>life</td>\n",
       "      <td>1.0</td>\n",
       "    </tr>\n",
       "    <tr>\n",
       "      <th>3</th>\n",
       "      <td>age</td>\n",
       "      <td>41.0</td>\n",
       "    </tr>\n",
       "  </tbody>\n",
       "</table>\n",
       "</div>"
      ],
      "text/plain": [
       "   index  median\n",
       "0    sex     2.0\n",
       "1  happy     2.0\n",
       "2   life     1.0\n",
       "3    age    41.0"
      ]
     },
     "execution_count": 7,
     "metadata": {},
     "output_type": "execute_result"
    }
   ],
   "source": [
    "df.median().reset_index(name='median') # cálculo da mediana para cada uma das variáveis. \n",
    "                                       # Variável 'sex' neste método nao faz muito sentido interpretar, uma vez que 'sex' originalmente é uma variavel categorica que foi representada como numerica."
   ]
  },
  {
   "cell_type": "code",
   "execution_count": 8,
   "id": "ef9292e8",
   "metadata": {},
   "outputs": [
    {
     "data": {
      "text/html": [
       "<div>\n",
       "<style scoped>\n",
       "    .dataframe tbody tr th:only-of-type {\n",
       "        vertical-align: middle;\n",
       "    }\n",
       "\n",
       "    .dataframe tbody tr th {\n",
       "        vertical-align: top;\n",
       "    }\n",
       "\n",
       "    .dataframe thead th {\n",
       "        text-align: right;\n",
       "    }\n",
       "</style>\n",
       "<table border=\"1\" class=\"dataframe\">\n",
       "  <thead>\n",
       "    <tr style=\"text-align: right;\">\n",
       "      <th></th>\n",
       "      <th>sex</th>\n",
       "      <th>happy</th>\n",
       "      <th>life</th>\n",
       "      <th>age</th>\n",
       "    </tr>\n",
       "  </thead>\n",
       "  <tbody>\n",
       "    <tr>\n",
       "      <th>0</th>\n",
       "      <td>2</td>\n",
       "      <td>2</td>\n",
       "      <td>0</td>\n",
       "      <td>35</td>\n",
       "    </tr>\n",
       "  </tbody>\n",
       "</table>\n",
       "</div>"
      ],
      "text/plain": [
       "   sex  happy  life  age\n",
       "0    2      2     0   35"
      ]
     },
     "execution_count": 8,
     "metadata": {},
     "output_type": "execute_result"
    }
   ],
   "source": [
    "df.mode() # cálculo da moda para cada uma das variáveis.\n",
    "           # Variável 'sex' neste método nao faz muito sentido interpretar, uma vez que 'sex' originalmente é uma variavel categorica que foi representada como numerica."
   ]
  },
  {
   "cell_type": "markdown",
   "id": "6473d5e9",
   "metadata": {},
   "source": [
    "## Análise Gráfica das Varáveis"
   ]
  },
  {
   "cell_type": "markdown",
   "id": "d3b5dd6f",
   "metadata": {},
   "source": [
    "### 'Happy'"
   ]
  },
  {
   "cell_type": "code",
   "execution_count": 9,
   "id": "2d027241",
   "metadata": {},
   "outputs": [],
   "source": [
    "df_happy=df.groupby('happy')['happy'].count().sort_values()"
   ]
  },
  {
   "cell_type": "code",
   "execution_count": 10,
   "id": "707bc5ca",
   "metadata": {},
   "outputs": [
    {
     "data": {
      "text/html": [
       "<div>\n",
       "<style scoped>\n",
       "    .dataframe tbody tr th:only-of-type {\n",
       "        vertical-align: middle;\n",
       "    }\n",
       "\n",
       "    .dataframe tbody tr th {\n",
       "        vertical-align: top;\n",
       "    }\n",
       "\n",
       "    .dataframe thead th {\n",
       "        text-align: right;\n",
       "    }\n",
       "</style>\n",
       "<table border=\"1\" class=\"dataframe\">\n",
       "  <thead>\n",
       "    <tr style=\"text-align: right;\">\n",
       "      <th></th>\n",
       "      <th>happy</th>\n",
       "      <th>count</th>\n",
       "    </tr>\n",
       "  </thead>\n",
       "  <tbody>\n",
       "    <tr>\n",
       "      <th>0</th>\n",
       "      <td>9</td>\n",
       "      <td>13</td>\n",
       "    </tr>\n",
       "    <tr>\n",
       "      <th>1</th>\n",
       "      <td>3</td>\n",
       "      <td>165</td>\n",
       "    </tr>\n",
       "    <tr>\n",
       "      <th>2</th>\n",
       "      <td>1</td>\n",
       "      <td>467</td>\n",
       "    </tr>\n",
       "    <tr>\n",
       "      <th>3</th>\n",
       "      <td>2</td>\n",
       "      <td>872</td>\n",
       "    </tr>\n",
       "  </tbody>\n",
       "</table>\n",
       "</div>"
      ],
      "text/plain": [
       "   happy  count\n",
       "0      9     13\n",
       "1      3    165\n",
       "2      1    467\n",
       "3      2    872"
      ]
     },
     "execution_count": 10,
     "metadata": {},
     "output_type": "execute_result"
    }
   ],
   "source": [
    "df_happy.reset_index(name='count')"
   ]
  },
  {
   "cell_type": "code",
   "execution_count": 11,
   "id": "de4d075e",
   "metadata": {},
   "outputs": [
    {
     "data": {
      "image/png": "[encoded data removed]",
      "text/plain": [
       "<Figure size 640x480 with 1 Axes>"
      ]
     },
     "metadata": {},
     "output_type": "display_data"
    }
   ],
   "source": [
    "df_happy.plot(kind='barh', color='blue')\n",
    "plt.title('Contagem por nível de felicidade')\n",
    "plt.xlabel('Contagem')\n",
    "for i, v in enumerate(df_happy):\n",
    "    plt.text(v, i, f'{v: .0f}', color='black')\n",
    "plt.ylabel('Níveis de felicidade')\n",
    "sns.despine()\n",
    "plt.show()"
   ]
  },
  {
   "cell_type": "code",
   "execution_count": 12,
   "id": "f495b1db",
   "metadata": {},
   "outputs": [
    {
     "data": {
      "image/png": "[encoded data removed]",
      "text/plain": [
       "<Figure size 640x480 with 1 Axes>"
      ]
     },
     "metadata": {},
     "output_type": "display_data"
    }
   ],
   "source": [
    "plt.pie(df_happy, autopct='%1.1f%%')\n",
    "plt.title('Distribuição por nível de felicidade')\n",
    "plt.legend(labels=df_happy.index, loc='upper right')\n",
    "plt.show()"
   ]
  },
  {
   "cell_type": "markdown",
   "id": "668361dd",
   "metadata": {},
   "source": [
    "### 'Life'"
   ]
  },
  {
   "cell_type": "code",
   "execution_count": 13,
   "id": "2c15d935",
   "metadata": {},
   "outputs": [],
   "source": [
    "df_life=df.groupby('life')['life'].count().sort_values()"
   ]
  },
  {
   "cell_type": "code",
   "execution_count": 14,
   "id": "03e37f00",
   "metadata": {},
   "outputs": [
    {
     "data": {
      "text/html": [
       "<div>\n",
       "<style scoped>\n",
       "    .dataframe tbody tr th:only-of-type {\n",
       "        vertical-align: middle;\n",
       "    }\n",
       "\n",
       "    .dataframe tbody tr th {\n",
       "        vertical-align: top;\n",
       "    }\n",
       "\n",
       "    .dataframe thead th {\n",
       "        text-align: right;\n",
       "    }\n",
       "</style>\n",
       "<table border=\"1\" class=\"dataframe\">\n",
       "  <thead>\n",
       "    <tr style=\"text-align: right;\">\n",
       "      <th></th>\n",
       "      <th>life</th>\n",
       "      <th>count</th>\n",
       "    </tr>\n",
       "  </thead>\n",
       "  <tbody>\n",
       "    <tr>\n",
       "      <th>0</th>\n",
       "      <td>9</td>\n",
       "      <td>5</td>\n",
       "    </tr>\n",
       "    <tr>\n",
       "      <th>1</th>\n",
       "      <td>8</td>\n",
       "      <td>8</td>\n",
       "    </tr>\n",
       "    <tr>\n",
       "      <th>2</th>\n",
       "      <td>3</td>\n",
       "      <td>41</td>\n",
       "    </tr>\n",
       "    <tr>\n",
       "      <th>3</th>\n",
       "      <td>1</td>\n",
       "      <td>434</td>\n",
       "    </tr>\n",
       "    <tr>\n",
       "      <th>4</th>\n",
       "      <td>2</td>\n",
       "      <td>505</td>\n",
       "    </tr>\n",
       "    <tr>\n",
       "      <th>5</th>\n",
       "      <td>0</td>\n",
       "      <td>524</td>\n",
       "    </tr>\n",
       "  </tbody>\n",
       "</table>\n",
       "</div>"
      ],
      "text/plain": [
       "   life  count\n",
       "0     9      5\n",
       "1     8      8\n",
       "2     3     41\n",
       "3     1    434\n",
       "4     2    505\n",
       "5     0    524"
      ]
     },
     "execution_count": 14,
     "metadata": {},
     "output_type": "execute_result"
    }
   ],
   "source": [
    "df_life.reset_index(name='count')"
   ]
  },
  {
   "cell_type": "code",
   "execution_count": 15,
   "id": "87c55ca2",
   "metadata": {},
   "outputs": [
    {
     "data": {
      "image/png": "[encoded data removed]",
      "text/plain": [
       "<Figure size 640x480 with 1 Axes>"
      ]
     },
     "metadata": {},
     "output_type": "display_data"
    }
   ],
   "source": [
    "df_life.plot(kind='barh', color= 'green')\n",
    "plt.title('Contagem por estilo de vida')\n",
    "plt.xlabel('Contagem')\n",
    "for i, v in enumerate(df_life):\n",
    "    plt.text(v, i, f'{v: .0f}', color='black')\n",
    "plt.ylabel('Estilos de vida')\n",
    "sns.despine()\n",
    "plt.show()"
   ]
  },
  {
   "cell_type": "markdown",
   "id": "293b108a",
   "metadata": {},
   "source": [
    "### 'Sex'"
   ]
  },
  {
   "cell_type": "code",
   "execution_count": 16,
   "id": "a744178c",
   "metadata": {},
   "outputs": [],
   "source": [
    "df['sex'] = df['sex'].replace({1: 'F', 2: 'M'})"
   ]
  },
  {
   "cell_type": "code",
   "execution_count": 17,
   "id": "16a5c1c9",
   "metadata": {},
   "outputs": [
    {
     "data": {
      "text/html": [
       "<div>\n",
       "<style scoped>\n",
       "    .dataframe tbody tr th:only-of-type {\n",
       "        vertical-align: middle;\n",
       "    }\n",
       "\n",
       "    .dataframe tbody tr th {\n",
       "        vertical-align: top;\n",
       "    }\n",
       "\n",
       "    .dataframe thead th {\n",
       "        text-align: right;\n",
       "    }\n",
       "</style>\n",
       "<table border=\"1\" class=\"dataframe\">\n",
       "  <thead>\n",
       "    <tr style=\"text-align: right;\">\n",
       "      <th></th>\n",
       "      <th>sex</th>\n",
       "      <th>count</th>\n",
       "    </tr>\n",
       "  </thead>\n",
       "  <tbody>\n",
       "    <tr>\n",
       "      <th>0</th>\n",
       "      <td>M</td>\n",
       "      <td>881</td>\n",
       "    </tr>\n",
       "    <tr>\n",
       "      <th>1</th>\n",
       "      <td>F</td>\n",
       "      <td>636</td>\n",
       "    </tr>\n",
       "  </tbody>\n",
       "</table>\n",
       "</div>"
      ],
      "text/plain": [
       "  sex  count\n",
       "0   M    881\n",
       "1   F    636"
      ]
     },
     "execution_count": 17,
     "metadata": {},
     "output_type": "execute_result"
    }
   ],
   "source": [
    "df_sex = df[['sex']].value_counts()\n",
    "df_sex.reset_index(name='count')"
   ]
  },
  {
   "cell_type": "code",
   "execution_count": 18,
   "id": "3198066a",
   "metadata": {},
   "outputs": [
    {
     "data": {
      "image/png": "[encoded data removed]",
      "text/plain": [
       "<Figure size 640x480 with 1 Axes>"
      ]
     },
     "metadata": {},
     "output_type": "display_data"
    }
   ],
   "source": [
    "plt.pie(df_sex, autopct='%1.1f%%')\n",
    "plt.title('Distribuição por Gênero')\n",
    "plt.legend(labels=df_sex.index, loc='upper right')\n",
    "plt.show()"
   ]
  },
  {
   "cell_type": "markdown",
   "id": "bec9991a",
   "metadata": {},
   "source": [
    "### 'Age'"
   ]
  },
  {
   "cell_type": "code",
   "execution_count": 19,
   "id": "23795814",
   "metadata": {},
   "outputs": [
    {
     "data": {
      "text/html": [
       "<div>\n",
       "<style scoped>\n",
       "    .dataframe tbody tr th:only-of-type {\n",
       "        vertical-align: middle;\n",
       "    }\n",
       "\n",
       "    .dataframe tbody tr th {\n",
       "        vertical-align: top;\n",
       "    }\n",
       "\n",
       "    .dataframe thead th {\n",
       "        text-align: right;\n",
       "    }\n",
       "</style>\n",
       "<table border=\"1\" class=\"dataframe\">\n",
       "  <thead>\n",
       "    <tr style=\"text-align: right;\">\n",
       "      <th></th>\n",
       "      <th>age</th>\n",
       "      <th>count</th>\n",
       "    </tr>\n",
       "  </thead>\n",
       "  <tbody>\n",
       "    <tr>\n",
       "      <th>0</th>\n",
       "      <td>35</td>\n",
       "      <td>55</td>\n",
       "    </tr>\n",
       "    <tr>\n",
       "      <th>1</th>\n",
       "      <td>32</td>\n",
       "      <td>44</td>\n",
       "    </tr>\n",
       "    <tr>\n",
       "      <th>2</th>\n",
       "      <td>33</td>\n",
       "      <td>38</td>\n",
       "    </tr>\n",
       "    <tr>\n",
       "      <th>3</th>\n",
       "      <td>21</td>\n",
       "      <td>38</td>\n",
       "    </tr>\n",
       "    <tr>\n",
       "      <th>4</th>\n",
       "      <td>41</td>\n",
       "      <td>38</td>\n",
       "    </tr>\n",
       "    <tr>\n",
       "      <th>...</th>\n",
       "      <td>...</td>\n",
       "      <td>...</td>\n",
       "    </tr>\n",
       "    <tr>\n",
       "      <th>67</th>\n",
       "      <td>84</td>\n",
       "      <td>5</td>\n",
       "    </tr>\n",
       "    <tr>\n",
       "      <th>68</th>\n",
       "      <td>87</td>\n",
       "      <td>4</td>\n",
       "    </tr>\n",
       "    <tr>\n",
       "      <th>69</th>\n",
       "      <td>18</td>\n",
       "      <td>3</td>\n",
       "    </tr>\n",
       "    <tr>\n",
       "      <th>70</th>\n",
       "      <td>99</td>\n",
       "      <td>3</td>\n",
       "    </tr>\n",
       "    <tr>\n",
       "      <th>71</th>\n",
       "      <td>88</td>\n",
       "      <td>2</td>\n",
       "    </tr>\n",
       "  </tbody>\n",
       "</table>\n",
       "<p>72 rows × 2 columns</p>\n",
       "</div>"
      ],
      "text/plain": [
       "    age  count\n",
       "0    35     55\n",
       "1    32     44\n",
       "2    33     38\n",
       "3    21     38\n",
       "4    41     38\n",
       "..  ...    ...\n",
       "67   84      5\n",
       "68   87      4\n",
       "69   18      3\n",
       "70   99      3\n",
       "71   88      2\n",
       "\n",
       "[72 rows x 2 columns]"
      ]
     },
     "execution_count": 19,
     "metadata": {},
     "output_type": "execute_result"
    }
   ],
   "source": [
    "df_age = df[['age']].value_counts()\n",
    "df_age.reset_index(name='count')"
   ]
  },
  {
   "cell_type": "code",
   "execution_count": 20,
   "id": "2baa7c2a",
   "metadata": {},
   "outputs": [
    {
     "data": {
      "image/png": "[encoded data removed]",
      "text/plain": [
       "<Figure size 1400x600 with 1 Axes>"
      ]
     },
     "metadata": {},
     "output_type": "display_data"
    }
   ],
   "source": [
    "plt.figure(figsize=(14, 6))\n",
    "palette = sns.color_palette(\"viridis\", n_colors=len(df[\"age\"].unique()))\n",
    "sns.countplot(x=df[\"age\"], palette=palette)\n",
    "plt.xticks(rotation=90)\n",
    "plt.xlabel('Idade')\n",
    "plt.ylabel('Contagem')\n",
    "plt.title('Distribuição de Idades')\n",
    "plt.show()"
   ]
  },
  {
   "cell_type": "markdown",
   "id": "70025e5e",
   "metadata": {},
   "source": [
    "## 2. Testar a hipótese da média das idades dos homens ser igual à das mulheres."
   ]
  },
  {
   "cell_type": "markdown",
   "id": "6253fa2f",
   "metadata": {},
   "source": [
    "### Teste de significância - Nível de significância: α = 5%"
   ]
  },
  {
   "cell_type": "markdown",
   "id": "586dffe0",
   "metadata": {},
   "source": [
    "#### Hipóteses: \n",
    "\n",
    "#### H0: a média das idades dos homens é igual à das mulheres.  \n",
    "#### H1: a média das idades dos homens é diferente da das mulheres."
   ]
  },
  {
   "cell_type": "markdown",
   "id": "3cc439dd",
   "metadata": {},
   "source": [
    "### Feito \"à mão\" - teste Z"
   ]
  },
  {
   "cell_type": "markdown",
   "id": "1b2c12e7",
   "metadata": {},
   "source": [
    "#### Calculo das médias (X)"
   ]
  },
  {
   "cell_type": "code",
   "execution_count": 21,
   "id": "ea8c5e5a",
   "metadata": {},
   "outputs": [],
   "source": [
    "age_men = df[df['sex'] == 'M']['age']\n",
    "age_women = df[df['sex'] == 'F']['age']"
   ]
  },
  {
   "cell_type": "code",
   "execution_count": 22,
   "id": "423a7619",
   "metadata": {},
   "outputs": [
    {
     "data": {
      "text/plain": [
       "46.851305334846764"
      ]
     },
     "execution_count": 22,
     "metadata": {},
     "output_type": "execute_result"
    }
   ],
   "source": [
    "mean_age_men=age_men.mean()\n",
    "mean_age_men"
   ]
  },
  {
   "cell_type": "code",
   "execution_count": 23,
   "id": "9d02b387",
   "metadata": {},
   "outputs": [
    {
     "data": {
      "text/plain": [
       "44.180817610062896"
      ]
     },
     "execution_count": 23,
     "metadata": {},
     "output_type": "execute_result"
    }
   ],
   "source": [
    "mean_age_women=age_women.mean()\n",
    "mean_age_women"
   ]
  },
  {
   "cell_type": "markdown",
   "id": "e9543420",
   "metadata": {},
   "source": [
    "#### Calculo dos devios padrão (σ)"
   ]
  },
  {
   "cell_type": "code",
   "execution_count": 24,
   "id": "2b12db1f",
   "metadata": {},
   "outputs": [
    {
     "data": {
      "text/plain": [
       "18.510117657122773"
      ]
     },
     "execution_count": 24,
     "metadata": {},
     "output_type": "execute_result"
    }
   ],
   "source": [
    "desvio_padrao_man = sta.stdev(age_men)\n",
    "desvio_padrao_man"
   ]
  },
  {
   "cell_type": "code",
   "execution_count": 25,
   "id": "9607cb36",
   "metadata": {},
   "outputs": [
    {
     "data": {
      "text/plain": [
       "17.032539769042206"
      ]
     },
     "execution_count": 25,
     "metadata": {},
     "output_type": "execute_result"
    }
   ],
   "source": [
    "desvio_padrao_woman = sta.stdev(age_women)\n",
    "desvio_padrao_woman"
   ]
  },
  {
   "cell_type": "markdown",
   "id": "09daae0b",
   "metadata": {},
   "source": [
    "#### Cálculo das populações (n)"
   ]
  },
  {
   "cell_type": "code",
   "execution_count": 26,
   "id": "5e825f65",
   "metadata": {},
   "outputs": [
    {
     "data": {
      "text/plain": [
       "881"
      ]
     },
     "execution_count": 26,
     "metadata": {},
     "output_type": "execute_result"
    }
   ],
   "source": [
    "n_man= df[df['sex']=='M']['sex'].count()\n",
    "n_man"
   ]
  },
  {
   "cell_type": "code",
   "execution_count": 27,
   "id": "acd7fc66",
   "metadata": {},
   "outputs": [
    {
     "data": {
      "text/plain": [
       "636"
      ]
     },
     "execution_count": 27,
     "metadata": {},
     "output_type": "execute_result"
    }
   ],
   "source": [
    "n_woman= df[df['sex']=='F']['sex'].count()\n",
    "n_woman"
   ]
  },
  {
   "cell_type": "markdown",
   "id": "dccdbaae",
   "metadata": {},
   "source": [
    "#### Teste Z"
   ]
  },
  {
   "cell_type": "code",
   "execution_count": 28,
   "id": "4902ed31",
   "metadata": {},
   "outputs": [],
   "source": [
    "z= ((mean_age_men)-(mean_age_women))/(np.sqrt((desvio_padrao_man**2 / n_man) + (desvio_padrao_woman**2 / n_woman))) # cálculo do z-score"
   ]
  },
  {
   "cell_type": "code",
   "execution_count": 29,
   "id": "bc2163d2",
   "metadata": {},
   "outputs": [
    {
     "data": {
      "text/plain": [
       "2.9050255577803856"
      ]
     },
     "execution_count": 29,
     "metadata": {},
     "output_type": "execute_result"
    }
   ],
   "source": [
    "z"
   ]
  },
  {
   "cell_type": "code",
   "execution_count": 30,
   "id": "6f8d07d8",
   "metadata": {},
   "outputs": [
    {
     "data": {
      "text/plain": [
       "0.0018000000000000238"
      ]
     },
     "execution_count": 30,
     "metadata": {},
     "output_type": "execute_result"
    }
   ],
   "source": [
    "p_value = (1-0.9982) # 0.9803 é retirado da tabela de distribuições a partir do valor do z-score.\n",
    "p_value"
   ]
  },
  {
   "cell_type": "markdown",
   "id": "b3604507",
   "metadata": {},
   "source": [
    "#### Conclusão\n",
    "#### α = 5%; p_value = 0.18%\n",
    "#### α > p_value => Então, rejeitamos H0 => H1: a média das idades dos homens é diferente da das mulheres."
   ]
  },
  {
   "cell_type": "markdown",
   "id": "529d0d78",
   "metadata": {},
   "source": [
    "### Feito em Python - teste T"
   ]
  },
  {
   "cell_type": "code",
   "execution_count": 31,
   "id": "3137d05f",
   "metadata": {},
   "outputs": [
    {
     "name": "stdout",
     "output_type": "stream",
     "text": [
      "Estatística de teste (t): 2.905025557780385\n",
      "p-value: 0.0037287130279952643\n"
     ]
    }
   ],
   "source": [
    "statistic, p_value = ttest_ind(age_men, age_women, equal_var=False) # equal_var=False permite variâncias diferentes entre os grupos.\n",
    "\n",
    "print(\"Estatística de teste (t):\", statistic)\n",
    "print(\"p-value:\", p_value)"
   ]
  },
  {
   "cell_type": "code",
   "execution_count": 32,
   "id": "c101a61c",
   "metadata": {},
   "outputs": [
    {
     "name": "stdout",
     "output_type": "stream",
     "text": [
      "Rejeitamos a hipótese nula. Há evidências suficientes para sugerir que há diferença nas médias.\n"
     ]
    }
   ],
   "source": [
    "α = 0.05\n",
    "\n",
    "if p_value < α:\n",
    "    print(\"Rejeitamos a hipótese nula. Há evidências suficientes para sugerir que há diferença nas médias.\")\n",
    "else:\n",
    "    print(\"Não há evidências suficientes para rejeitar a hipótese nula. Não há diferença significativa nas médias.\")"
   ]
  },
  {
   "cell_type": "markdown",
   "id": "bc3fa5b1",
   "metadata": {},
   "source": [
    "#### Conclusão\n",
    "#### α = 5%; p_value = 0.37%\n",
    "#### α > p_value => Então, rejeitamos H0 => H1: a média das idades dos homens é diferente da das mulheres."
   ]
  }
 ],
 "metadata": {
  "kernelspec": {
   "display_name": "Python 3 (ipykernel)",
   "language": "python",
   "name": "python3"
  },
  "language_info": {
   "codemirror_mode": {
    "name": "ipython",
    "version": 3
   },
   "file_extension": ".py",
   "mimetype": "text/x-python",
   "name": "python",
   "nbconvert_exporter": "python",
   "pygments_lexer": "ipython3",
   "version": "3.11.7"
  }
 },
 "nbformat": 4,
 "nbformat_minor": 5
}
