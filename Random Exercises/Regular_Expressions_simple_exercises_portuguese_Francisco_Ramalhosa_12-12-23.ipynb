{
 "cells": [
  {
   "cell_type": "code",
   "execution_count": 2,
   "id": "ad8c84ee",
   "metadata": {},
   "outputs": [],
   "source": [
    "import re\n"
   ]
  },
  {
   "cell_type": "markdown",
   "id": "a9feaa59",
   "metadata": {},
   "source": [
    "### Exemplos de teste "
   ]
  },
  {
   "cell_type": "code",
   "execution_count": 2,
   "id": "45689334",
   "metadata": {},
   "outputs": [],
   "source": [
    "e1='awww222aa5'\n",
    "e2='bxxx333aa'\n",
    "e3='assssawww222'\n"
   ]
  },
  {
   "cell_type": "markdown",
   "id": "075d0d53",
   "metadata": {},
   "source": [
    "### DESAFIO 1 - escreva uma expressão regular que valide a seguinte regra: caracter 'a', seguido de 3 caracteres de entre 'x', 'w', 'p'; seguido de 3 dígitos numéricos"
   ]
  },
  {
   "cell_type": "code",
   "execution_count": 3,
   "id": "675c6bdd",
   "metadata": {},
   "outputs": [
    {
     "name": "stdout",
     "output_type": "stream",
     "text": [
      "<re.Match object; span=(0, 7), match='awww222'>\n"
     ]
    }
   ],
   "source": [
    "print(re.search('[a][x,w,p]{3}[0-9]{3}',e1))"
   ]
  },
  {
   "cell_type": "code",
   "execution_count": 4,
   "id": "57e32e6f",
   "metadata": {},
   "outputs": [
    {
     "name": "stdout",
     "output_type": "stream",
     "text": [
      "None\n"
     ]
    }
   ],
   "source": [
    "print(re.search('[a][x,w,p]{3}[0-9]{3}',e2))"
   ]
  },
  {
   "cell_type": "code",
   "execution_count": 5,
   "id": "5dc90dfe",
   "metadata": {},
   "outputs": [
    {
     "name": "stdout",
     "output_type": "stream",
     "text": [
      "<re.Match object; span=(5, 12), match='awww222'>\n"
     ]
    }
   ],
   "source": [
    "print(re.search('[a][x,w,p]{3}[0-9]{3}',e3))"
   ]
  },
  {
   "cell_type": "markdown",
   "id": "6be9f35a",
   "metadata": {},
   "source": [
    "### DESAFIO 2 - altere a expressão anterior de forma a que só funcione para o início da string em pesquisa.\n"
   ]
  },
  {
   "cell_type": "code",
   "execution_count": 6,
   "id": "67cc04d0",
   "metadata": {},
   "outputs": [
    {
     "name": "stdout",
     "output_type": "stream",
     "text": [
      "<re.Match object; span=(0, 7), match='awww222'>\n"
     ]
    }
   ],
   "source": [
    "print(re.search('^a[xwp]{3}\\d{3}',e1)) # apenas 'a' sem parentisis retos, [xwp] sem virgulas entre as letras e '\\d' em vez de '[0-9]' também funciona."
   ]
  },
  {
   "cell_type": "code",
   "execution_count": 7,
   "id": "262d8542",
   "metadata": {},
   "outputs": [
    {
     "name": "stdout",
     "output_type": "stream",
     "text": [
      "None\n"
     ]
    }
   ],
   "source": [
    "print(re.search('^a[xwp]{3}\\d{3}',e2))"
   ]
  },
  {
   "cell_type": "code",
   "execution_count": 8,
   "id": "8794eed8",
   "metadata": {},
   "outputs": [
    {
     "name": "stdout",
     "output_type": "stream",
     "text": [
      "None\n"
     ]
    }
   ],
   "source": [
    "print(re.search('^a[xwp]{3}\\d{3}',e3))"
   ]
  },
  {
   "cell_type": "markdown",
   "id": "ab16c33d",
   "metadata": {},
   "source": [
    "### DESAFIO 3 - altere a primeira expressão de forma a que só funcione para o fim da string em pesquisa."
   ]
  },
  {
   "cell_type": "code",
   "execution_count": 9,
   "id": "afbc4f16",
   "metadata": {},
   "outputs": [
    {
     "name": "stdout",
     "output_type": "stream",
     "text": [
      "None\n"
     ]
    }
   ],
   "source": [
    "print(re.search('[a][xwp]{3}\\d{3}$',e1))"
   ]
  },
  {
   "cell_type": "code",
   "execution_count": 10,
   "id": "5c58f67a",
   "metadata": {},
   "outputs": [
    {
     "name": "stdout",
     "output_type": "stream",
     "text": [
      "None\n"
     ]
    }
   ],
   "source": [
    "print(re.search('[a][xwp]{3}\\d{3}$',e2))"
   ]
  },
  {
   "cell_type": "code",
   "execution_count": 11,
   "id": "3bfc0445",
   "metadata": {},
   "outputs": [
    {
     "name": "stdout",
     "output_type": "stream",
     "text": [
      "<re.Match object; span=(5, 12), match='awww222'>\n"
     ]
    }
   ],
   "source": [
    "print(re.search('[a][xwp]{3}\\d{3}$',e3))"
   ]
  },
  {
   "cell_type": "markdown",
   "id": "2d5332b4",
   "metadata": {},
   "source": [
    "### Problema: \n",
    "Uma associação regista a numeraçao dos seus socios de forma numerica (5 digitos numericos), no caso de querer identificar um socio infantil, ao numero habitual é acrescentado um hifen '-', seguido do carater 'i'. exemplos: efetivo: '12345'; infantil: '54321-i'\n",
    "\n",
    "expressao regex para identificar cada um dos cenarios\n",
    "\n"
   ]
  },
  {
   "cell_type": "code",
   "execution_count": 8,
   "id": "7c6a9140",
   "metadata": {},
   "outputs": [],
   "source": [
    "e4='22222'\n",
    "e5='22222-i'"
   ]
  },
  {
   "cell_type": "code",
   "execution_count": 9,
   "id": "ed91e4bf",
   "metadata": {},
   "outputs": [
    {
     "name": "stdout",
     "output_type": "stream",
     "text": [
      "<re.Match object; span=(0, 5), match='22222'>\n"
     ]
    }
   ],
   "source": [
    "print(re.search('\\d{5}$', e4))"
   ]
  },
  {
   "cell_type": "code",
   "execution_count": 10,
   "id": "e41e7f38",
   "metadata": {},
   "outputs": [
    {
     "name": "stdout",
     "output_type": "stream",
     "text": [
      "<re.Match object; span=(0, 7), match='22222-i'>\n"
     ]
    }
   ],
   "source": [
    "print(re.search('^\\d{5}-[i]$', e5))"
   ]
  },
  {
   "cell_type": "code",
   "execution_count": null,
   "id": "ed47e742",
   "metadata": {},
   "outputs": [],
   "source": []
  }
 ],
 "metadata": {
  "kernelspec": {
   "display_name": "Python 3 (ipykernel)",
   "language": "python",
   "name": "python3"
  },
  "language_info": {
   "codemirror_mode": {
    "name": "ipython",
    "version": 3
   },
   "file_extension": ".py",
   "mimetype": "text/x-python",
   "name": "python",
   "nbconvert_exporter": "python",
   "pygments_lexer": "ipython3",
   "version": "3.11.7"
  }
 },
 "nbformat": 4,
 "nbformat_minor": 5
}
