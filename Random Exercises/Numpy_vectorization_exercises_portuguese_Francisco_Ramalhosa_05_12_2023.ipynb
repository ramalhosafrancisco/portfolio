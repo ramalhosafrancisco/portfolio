{
 "cells": [
  {
   "cell_type": "markdown",
   "id": "f8334c67",
   "metadata": {},
   "source": [
    "# **Instruções**\n",
    "\n",
    "A técnica de vectorização em Numpy que vimos na última aula é muito útil para quando necessitamos de transformar os dados de uma estrutura (ex.: vector, matriz, etc...).\n",
    "\n",
    "Deve criar um notebook Jupyter, procurando escrever o código necessário para resolver os problemas seguintes, explicando por palavras suas o que fez. As justificações escritas, bem como a boa apresentação do notebook serão levados em conta.\n",
    "\n",
    "1. Crie uma matriz e um vector com dimensões à sua escolha, com valores inteiros aleatórios entre 0 e 20, ambos incluídos.\n",
    "Usando uma das duas técnicas de vectorização apresentadas na aula anterior, construa uma estrutura equivalente em dimensões à da matriz e do vector iniciais, em que os respetivos valores sejam de acordo com o seguinte:\n",
    "- entre 0 e 6 --> \"FRACO\"\n",
    "- entre 7 e 9 --> \"INSUFICIENTE\"\n",
    "- entre 10 e 13 --> \"SUFICIENTE\"\n",
    "- entre 14 e 16 --> \"BOM\"\n",
    "- entre 17 e 18 --> \"MUITO BOM\"\n",
    "- entre 19 e 20 --> \"EXCELENTE\"\n",
    "\n",
    "\n",
    "2. Crie uma matriz de dimensões 4x5 com valores inteiros aleatórios entre 0 e 100.  \n",
    "\n",
    "a) Usando uma das técnicas de vectorização, transforme os valores da matriz de modo a que cada valor seja convertido na proporção do mesmo relativamente à soma dos valores em linha\n",
    "\n",
    "b) Aplique a mesma técnica, mas relativamente à soma dos valores em coluna"
   ]
  },
  {
   "cell_type": "code",
   "execution_count": 1,
   "id": "878795bb",
   "metadata": {},
   "outputs": [],
   "source": [
    "import numpy as np\n",
    "import pandas as pd"
   ]
  },
  {
   "cell_type": "markdown",
   "id": "77b44741",
   "metadata": {},
   "source": [
    "## 1."
   ]
  },
  {
   "cell_type": "code",
   "execution_count": 2,
   "id": "d48e76b7",
   "metadata": {},
   "outputs": [
    {
     "data": {
      "text/plain": [
       "array([[18,  6,  1,  3, 11],\n",
       "       [12, 20, 13, 16,  2],\n",
       "       [ 2,  4,  4, 11, 11],\n",
       "       [14,  0,  7, 10, 20]])"
      ]
     },
     "execution_count": 2,
     "metadata": {},
     "output_type": "execute_result"
    }
   ],
   "source": [
    "matriz = np.random.randint(0, 21, size=(4,5))\n",
    "matriz"
   ]
  },
  {
   "cell_type": "code",
   "execution_count": 3,
   "id": "99f46b1c",
   "metadata": {},
   "outputs": [
    {
     "data": {
      "text/plain": [
       "array([ 7, 12,  4, 18, 13])"
      ]
     },
     "execution_count": 3,
     "metadata": {},
     "output_type": "execute_result"
    }
   ],
   "source": [
    "vetor = np.random.randint(0, 21, size=5)\n",
    "vetor"
   ]
  },
  {
   "cell_type": "code",
   "execution_count": 4,
   "id": "a433d264",
   "metadata": {},
   "outputs": [
    {
     "name": "stdout",
     "output_type": "stream",
     "text": [
      "['INSUFICIENTE' 'SUFICIENTE' 'FRACO' 'MUITO BOM' 'SUFICIENTE']\n",
      "[['MUITO BOM' 'FRACO' 'FRACO' 'FRACO' 'SUFICIENTE']\n",
      " ['SUFICIENTE' 'EXCELENTE' 'SUFICIENTE' 'BOM' 'FRACO']\n",
      " ['FRACO' 'FRACO' 'FRACO' 'SUFICIENTE' 'SUFICIENTE']\n",
      " ['BOM' 'FRACO' 'INSUFICIENTE' 'SUFICIENTE' 'EXCELENTE']]\n"
     ]
    }
   ],
   "source": [
    "def aplicar_notas(valor):\n",
    "    if 0 <= valor <= 6:\n",
    "        return \"FRACO\"\n",
    "    elif 7 <= valor <= 9:\n",
    "        return \"INSUFICIENTE\"\n",
    "    elif 10 <= valor <= 13:\n",
    "        return \"SUFICIENTE\"\n",
    "    elif 14 <= valor <= 16:\n",
    "        return \"BOM\"\n",
    "    elif 17 <= valor <= 18:\n",
    "        return \"MUITO BOM\"\n",
    "    elif 19 <= valor <= 20:\n",
    "        return \"EXCELENTE\"\n",
    "    \n",
    "teste_vec = np.vectorize(aplicar_notas)\n",
    "print(teste_vec(vetor))\n",
    "print(teste_vec(matriz))"
   ]
  },
  {
   "cell_type": "markdown",
   "id": "9d88ba03",
   "metadata": {},
   "source": [
    "No exercício 1., optei por utilizar a função .randit() do módulo .random da biblioteca numpy para construir uma matriz e um vetor com valores aleatórios entre 0 e 20 (valores inclusivos). A matriz possui 5 colunas e 4 linhas.  \n",
    "Depois, defini uma função de nome 'aplicar_notas(valor)', em que o parametro 'valor' irá retornar uma determinada classificação (em string), consoante o intervalo definido em cada uma das condições e mediante o valor gerado pela função .randit() na construção das estruturas de dados acima referidas.  \n",
    "\n",
    "\n",
    "A seguir, criei uma variável 'test_vec' que irá conter a função vectorize() da biblioteca numpy aplicado à função 'aplicar_notas'.   \n",
    "A função .vectorize() é útil porque permite converte uma função 'Python padrão (standard)' numa função vetorizada. A vetorização, no contexto do NumPy, refere-se à capacidade de aplicar uma função a todos os elementos de uma matriz ou vetor de uma só vez, sem a necessidade de usar 'loops'. Ao usar np.vectorize,é possível  transformar uma função que normalmente opera em valores únicos, numa função que opera em 'arrays' NumPy, aplicando a função a cada elemento do 'array'.  "
   ]
  },
  {
   "cell_type": "markdown",
   "id": "ce954e79",
   "metadata": {},
   "source": [
    "## 2."
   ]
  },
  {
   "cell_type": "code",
   "execution_count": 5,
   "id": "e2f17516",
   "metadata": {},
   "outputs": [
    {
     "data": {
      "text/plain": [
       "array([[27, 27, 43, 38, 95],\n",
       "       [81, 85, 85, 47, 82],\n",
       "       [ 8, 80, 81, 68, 37],\n",
       "       [84, 68, 48, 82, 68]])"
      ]
     },
     "execution_count": 5,
     "metadata": {},
     "output_type": "execute_result"
    }
   ],
   "source": [
    "matriz_2 = np.random.randint(0, 101, size=(4,5))\n",
    "matriz_2"
   ]
  },
  {
   "cell_type": "markdown",
   "id": "50f96267",
   "metadata": {},
   "source": [
    "#### a)"
   ]
  },
  {
   "cell_type": "code",
   "execution_count": 6,
   "id": "c0a2f755",
   "metadata": {},
   "outputs": [
    {
     "name": "stdout",
     "output_type": "stream",
     "text": [
      "[[230]\n",
      " [380]\n",
      " [274]\n",
      " [350]]\n",
      "[[0.1173913  0.1173913  0.18695652 0.16521739 0.41304348]\n",
      " [0.21315789 0.22368421 0.22368421 0.12368421 0.21578947]\n",
      " [0.02919708 0.2919708  0.29562044 0.24817518 0.1350365 ]\n",
      " [0.24       0.19428571 0.13714286 0.23428571 0.19428571]]\n"
     ]
    }
   ],
   "source": [
    "somas_linha = matriz_2.sum(axis=1, keepdims=True)\n",
    "print(somas_linha)\n",
    "matriz_proporcional_linha = matriz_2 / somas_linha\n",
    "print(matriz_proporcional_linha)"
   ]
  },
  {
   "cell_type": "markdown",
   "id": "69a60967",
   "metadata": {},
   "source": [
    "#### b)"
   ]
  },
  {
   "cell_type": "code",
   "execution_count": 7,
   "id": "553ffadc",
   "metadata": {},
   "outputs": [
    {
     "name": "stdout",
     "output_type": "stream",
     "text": [
      "[[200 260 257 235 282]]\n",
      "[[0.135      0.10384615 0.16731518 0.16170213 0.33687943]\n",
      " [0.405      0.32692308 0.3307393  0.2        0.29078014]\n",
      " [0.04       0.30769231 0.3151751  0.2893617  0.13120567]\n",
      " [0.42       0.26153846 0.18677043 0.34893617 0.24113475]]\n"
     ]
    }
   ],
   "source": [
    "somas_coluna = matriz_2.sum(axis=0, keepdims=True)\n",
    "print(somas_coluna)\n",
    "matriz_proporcional_coluna = matriz_2 / somas_coluna\n",
    "print(matriz_proporcional_coluna)"
   ]
  },
  {
   "cell_type": "markdown",
   "id": "21559534",
   "metadata": {},
   "source": [
    "No exercício 2, utilizei a função '.randint()' do módulo '.random' da biblioteca 'NumPy' para criar uma matriz com valores inteiros aleatórios no intervalo de 0 a 100, incluindo ambos os extremos. A matriz resultante possui 5 colunas e 4 linhas.\n",
    "\n",
    "Em seguida, apliquei a função '.sum()' do 'NumPy' para calcular a soma dos valores por linha (usando o parâmetro axis=1) e por coluna (com o parâmetro axis=0). Defini o parâmetro 'keepdims' como 'True', o que permite preservar as dimensões da matriz, mantendo os resultados das somas ao longo do eixo especificado na função.\n",
    "\n",
    "Posteriormente, para normalizar a matriz_2 em relação \"à proporção dos valores da mesma relativamente à soma dos valores em cada linha e coluna\", criei a variável 'matriz_proporcional'. Esta variável contém o resultado da divisão dos valores originais da matriz_2 pelas somas previamente calculadas das linhas e colunas, respectivamente."
   ]
  },
  {
   "cell_type": "markdown",
   "id": "fea2db64",
   "metadata": {},
   "source": [
    "#### 2. a), b) - alternativo"
   ]
  },
  {
   "cell_type": "code",
   "execution_count": 8,
   "id": "429788b0",
   "metadata": {},
   "outputs": [],
   "source": [
    "def soma(v):\n",
    "    return v/v.sum()\n",
    "\n"
   ]
  },
  {
   "cell_type": "code",
   "execution_count": 9,
   "id": "b8b1f657",
   "metadata": {},
   "outputs": [
    {
     "data": {
      "text/plain": [
       "array([[0.1173913 , 0.1173913 , 0.18695652, 0.16521739, 0.41304348],\n",
       "       [0.21315789, 0.22368421, 0.22368421, 0.12368421, 0.21578947],\n",
       "       [0.02919708, 0.2919708 , 0.29562044, 0.24817518, 0.1350365 ],\n",
       "       [0.24      , 0.19428571, 0.13714286, 0.23428571, 0.19428571]])"
      ]
     },
     "execution_count": 9,
     "metadata": {},
     "output_type": "execute_result"
    }
   ],
   "source": [
    "np.apply_along_axis(soma, 1, matriz_2)"
   ]
  },
  {
   "cell_type": "code",
   "execution_count": 10,
   "id": "b3f6411a",
   "metadata": {},
   "outputs": [
    {
     "data": {
      "text/plain": [
       "array([[0.135     , 0.10384615, 0.16731518, 0.16170213, 0.33687943],\n",
       "       [0.405     , 0.32692308, 0.3307393 , 0.2       , 0.29078014],\n",
       "       [0.04      , 0.30769231, 0.3151751 , 0.2893617 , 0.13120567],\n",
       "       [0.42      , 0.26153846, 0.18677043, 0.34893617, 0.24113475]])"
      ]
     },
     "execution_count": 10,
     "metadata": {},
     "output_type": "execute_result"
    }
   ],
   "source": [
    "np.apply_along_axis(soma, 0, matriz_2)"
   ]
  },
  {
   "cell_type": "markdown",
   "id": "919aa913",
   "metadata": {},
   "source": [
    "Outra técnica de vetorização para obter o mesmo resultado é através da função apply_along_axis() da biblioteca NumPy, que permite aplicar uma função definida ao longo de um eixo específico (especificado como segundo parâmetro da função apply_along_axis()) de um array multidimensional. \n",
    "\n",
    "Neste caso, a função definida por mim consiste em retornar o valor obtido pela divisão entre os diversos valores da matriz_2 (criada inicialmente) e os valores obtidos nas somas dos valores de cada uma das linhas/colunas.  \n"
   ]
  },
  {
   "cell_type": "markdown",
   "id": "7cf91f1f",
   "metadata": {},
   "source": [
    "## Conclusão\n",
    "\n",
    "A vetorização permite aplicar funções de forma eficiente a todos os elementos de uma estrutura de dados como por exemplo uma matriz ou vetor, sem recorrer a necessidade de aplicar 'loops'. A vetorização simplifica o código, tornando-o mais legível. "
   ]
  }
 ],
 "metadata": {
  "kernelspec": {
   "display_name": "Python 3 (ipykernel)",
   "language": "python",
   "name": "python3"
  },
  "language_info": {
   "codemirror_mode": {
    "name": "ipython",
    "version": 3
   },
   "file_extension": ".py",
   "mimetype": "text/x-python",
   "name": "python",
   "nbconvert_exporter": "python",
   "pygments_lexer": "ipython3",
   "version": "3.11.7"
  }
 },
 "nbformat": 4,
 "nbformat_minor": 5
}
