{
 "cells": [
  {
   "cell_type": "markdown",
   "id": "a319648a-5548-4340-9d9d-35835c86faad",
   "metadata": {},
   "source": [
    "# Introdução\n",
    "Este notebook servirá para aferir os conhecimentos adquiridos.\n",
    "Para esse efeito, ao invés de carregarmos e tratarmos um dataset lido a partir de um ficheiro, iremos criá-lo com recurso ao próprio PANDAS."
   ]
  },
  {
   "cell_type": "markdown",
   "id": "23a96571-f287-48bb-a008-e4aaf4708baa",
   "metadata": {},
   "source": [
    "## Criação do dataset...\n",
    "...a partir de um \"dicionário\" em Python"
   ]
  },
  {
   "cell_type": "code",
   "execution_count": 1,
   "id": "fc11f58c-3cca-490c-8f15-ed89e1a7076e",
   "metadata": {},
   "outputs": [
    {
     "data": {
      "text/html": [
       "<div>\n",
       "<style scoped>\n",
       "    .dataframe tbody tr th:only-of-type {\n",
       "        vertical-align: middle;\n",
       "    }\n",
       "\n",
       "    .dataframe tbody tr th {\n",
       "        vertical-align: top;\n",
       "    }\n",
       "\n",
       "    .dataframe thead th {\n",
       "        text-align: right;\n",
       "    }\n",
       "</style>\n",
       "<table border=\"1\" class=\"dataframe\">\n",
       "  <thead>\n",
       "    <tr style=\"text-align: right;\">\n",
       "      <th></th>\n",
       "      <th>Marcos</th>\n",
       "      <th>João</th>\n",
       "      <th>Margarida</th>\n",
       "      <th>Soraia</th>\n",
       "      <th>Bernardo</th>\n",
       "      <th>Joaquim</th>\n",
       "      <th>Isaura</th>\n",
       "      <th>Sara</th>\n",
       "      <th>Pedro</th>\n",
       "      <th>Mauro</th>\n",
       "    </tr>\n",
       "  </thead>\n",
       "  <tbody>\n",
       "    <tr>\n",
       "      <th>Matemática</th>\n",
       "      <td>9</td>\n",
       "      <td>12</td>\n",
       "      <td>10</td>\n",
       "      <td>15</td>\n",
       "      <td>16</td>\n",
       "      <td>13</td>\n",
       "      <td>19</td>\n",
       "      <td>11</td>\n",
       "      <td>15</td>\n",
       "      <td>11</td>\n",
       "    </tr>\n",
       "    <tr>\n",
       "      <th>Português</th>\n",
       "      <td>11</td>\n",
       "      <td>13</td>\n",
       "      <td>11</td>\n",
       "      <td>16</td>\n",
       "      <td>16</td>\n",
       "      <td>11</td>\n",
       "      <td>18</td>\n",
       "      <td>12</td>\n",
       "      <td>12</td>\n",
       "      <td>12</td>\n",
       "    </tr>\n",
       "    <tr>\n",
       "      <th>Inglês</th>\n",
       "      <td>8</td>\n",
       "      <td>10</td>\n",
       "      <td>13</td>\n",
       "      <td>18</td>\n",
       "      <td>17</td>\n",
       "      <td>12</td>\n",
       "      <td>18</td>\n",
       "      <td>9</td>\n",
       "      <td>13</td>\n",
       "      <td>9</td>\n",
       "    </tr>\n",
       "    <tr>\n",
       "      <th>Geografia</th>\n",
       "      <td>9</td>\n",
       "      <td>15</td>\n",
       "      <td>15</td>\n",
       "      <td>19</td>\n",
       "      <td>17</td>\n",
       "      <td>10</td>\n",
       "      <td>19</td>\n",
       "      <td>13</td>\n",
       "      <td>12</td>\n",
       "      <td>8</td>\n",
       "    </tr>\n",
       "    <tr>\n",
       "      <th>História</th>\n",
       "      <td>6</td>\n",
       "      <td>12</td>\n",
       "      <td>16</td>\n",
       "      <td>16</td>\n",
       "      <td>15</td>\n",
       "      <td>10</td>\n",
       "      <td>17</td>\n",
       "      <td>14</td>\n",
       "      <td>11</td>\n",
       "      <td>8</td>\n",
       "    </tr>\n",
       "    <tr>\n",
       "      <th>Física</th>\n",
       "      <td>12</td>\n",
       "      <td>13</td>\n",
       "      <td>17</td>\n",
       "      <td>14</td>\n",
       "      <td>14</td>\n",
       "      <td>8</td>\n",
       "      <td>18</td>\n",
       "      <td>11</td>\n",
       "      <td>11</td>\n",
       "      <td>14</td>\n",
       "    </tr>\n",
       "    <tr>\n",
       "      <th>Biologia</th>\n",
       "      <td>8</td>\n",
       "      <td>14</td>\n",
       "      <td>13</td>\n",
       "      <td>14</td>\n",
       "      <td>18</td>\n",
       "      <td>12</td>\n",
       "      <td>18</td>\n",
       "      <td>8</td>\n",
       "      <td>13</td>\n",
       "      <td>11</td>\n",
       "    </tr>\n",
       "  </tbody>\n",
       "</table>\n",
       "</div>"
      ],
      "text/plain": [
       "            Marcos  João  Margarida  Soraia  Bernardo  Joaquim  Isaura  Sara  \\\n",
       "Matemática       9    12         10      15        16       13      19    11   \n",
       "Português       11    13         11      16        16       11      18    12   \n",
       "Inglês           8    10         13      18        17       12      18     9   \n",
       "Geografia        9    15         15      19        17       10      19    13   \n",
       "História         6    12         16      16        15       10      17    14   \n",
       "Física          12    13         17      14        14        8      18    11   \n",
       "Biologia         8    14         13      14        18       12      18     8   \n",
       "\n",
       "            Pedro  Mauro  \n",
       "Matemática     15     11  \n",
       "Português      12     12  \n",
       "Inglês         13      9  \n",
       "Geografia      12      8  \n",
       "História       11      8  \n",
       "Física         11     14  \n",
       "Biologia       13     11  "
      ]
     },
     "execution_count": 1,
     "metadata": {},
     "output_type": "execute_result"
    }
   ],
   "source": [
    "import pandas as pd\n",
    "df = pd.DataFrame(data = {\n",
    "    \"Marcos\": [9, 11, 8, 9, 6, 12, 8],\n",
    "    \"João\": [12, 13, 10, 15, 12, 13, 14],\n",
    "    \"Margarida\": [10, 11, 13, 15, 16, 17, 13],\n",
    "    \"Soraia\": [15, 16, 18, 19, 16, 14, 14],\n",
    "    \"Bernardo\": [16, 16, 17, 17, 15, 14, 18],\n",
    "    \"Joaquim\": [13, 11, 12, 10, 10, 8, 12],\n",
    "    \"Isaura\": [19, 18, 18, 19, 17, 18, 18],\n",
    "    \"Sara\": [11, 12, 9, 13, 14, 11, 8],\n",
    "    \"Pedro\": [15, 12, 13, 12, 11, 11, 13],\n",
    "    \"Mauro\": [11, 12, 9, 8, 8, 14, 11],},\n",
    "    index = ['Matemática', 'Português', 'Inglês', 'Geografia', 'História', 'Física', 'Biologia'])\n",
    "df"
   ]
  },
  {
   "cell_type": "markdown",
   "id": "c0a93353-6169-4b36-8083-2cd9840af723",
   "metadata": {},
   "source": [
    "# **Questões**"
   ]
  },
  {
   "cell_type": "markdown",
   "id": "57cd2505-db99-494d-8572-f2f0119cf34e",
   "metadata": {},
   "source": [
    "## 1 - Obtenha uma visualização sumária dos primeiros 2 registos"
   ]
  },
  {
   "cell_type": "code",
   "execution_count": 2,
   "id": "56a6737c-45d3-4fea-b750-2d779b79f76e",
   "metadata": {},
   "outputs": [
    {
     "data": {
      "text/html": [
       "<div>\n",
       "<style scoped>\n",
       "    .dataframe tbody tr th:only-of-type {\n",
       "        vertical-align: middle;\n",
       "    }\n",
       "\n",
       "    .dataframe tbody tr th {\n",
       "        vertical-align: top;\n",
       "    }\n",
       "\n",
       "    .dataframe thead th {\n",
       "        text-align: right;\n",
       "    }\n",
       "</style>\n",
       "<table border=\"1\" class=\"dataframe\">\n",
       "  <thead>\n",
       "    <tr style=\"text-align: right;\">\n",
       "      <th></th>\n",
       "      <th>Marcos</th>\n",
       "      <th>João</th>\n",
       "      <th>Margarida</th>\n",
       "      <th>Soraia</th>\n",
       "      <th>Bernardo</th>\n",
       "      <th>Joaquim</th>\n",
       "      <th>Isaura</th>\n",
       "      <th>Sara</th>\n",
       "      <th>Pedro</th>\n",
       "      <th>Mauro</th>\n",
       "    </tr>\n",
       "  </thead>\n",
       "  <tbody>\n",
       "    <tr>\n",
       "      <th>Matemática</th>\n",
       "      <td>9</td>\n",
       "      <td>12</td>\n",
       "      <td>10</td>\n",
       "      <td>15</td>\n",
       "      <td>16</td>\n",
       "      <td>13</td>\n",
       "      <td>19</td>\n",
       "      <td>11</td>\n",
       "      <td>15</td>\n",
       "      <td>11</td>\n",
       "    </tr>\n",
       "    <tr>\n",
       "      <th>Português</th>\n",
       "      <td>11</td>\n",
       "      <td>13</td>\n",
       "      <td>11</td>\n",
       "      <td>16</td>\n",
       "      <td>16</td>\n",
       "      <td>11</td>\n",
       "      <td>18</td>\n",
       "      <td>12</td>\n",
       "      <td>12</td>\n",
       "      <td>12</td>\n",
       "    </tr>\n",
       "  </tbody>\n",
       "</table>\n",
       "</div>"
      ],
      "text/plain": [
       "            Marcos  João  Margarida  Soraia  Bernardo  Joaquim  Isaura  Sara  \\\n",
       "Matemática       9    12         10      15        16       13      19    11   \n",
       "Português       11    13         11      16        16       11      18    12   \n",
       "\n",
       "            Pedro  Mauro  \n",
       "Matemática     15     11  \n",
       "Português      12     12  "
      ]
     },
     "execution_count": 2,
     "metadata": {},
     "output_type": "execute_result"
    }
   ],
   "source": [
    "df.head(2)"
   ]
  },
  {
   "cell_type": "markdown",
   "id": "f2810155-54ed-455d-a9fa-aea67091d27b",
   "metadata": {},
   "source": [
    "## 2 - Obtenha uma visualização sumária dos úlitmos 3 registos"
   ]
  },
  {
   "cell_type": "code",
   "execution_count": 3,
   "id": "8185df02-48f3-491f-b865-6c94f43b1b18",
   "metadata": {},
   "outputs": [
    {
     "data": {
      "text/html": [
       "<div>\n",
       "<style scoped>\n",
       "    .dataframe tbody tr th:only-of-type {\n",
       "        vertical-align: middle;\n",
       "    }\n",
       "\n",
       "    .dataframe tbody tr th {\n",
       "        vertical-align: top;\n",
       "    }\n",
       "\n",
       "    .dataframe thead th {\n",
       "        text-align: right;\n",
       "    }\n",
       "</style>\n",
       "<table border=\"1\" class=\"dataframe\">\n",
       "  <thead>\n",
       "    <tr style=\"text-align: right;\">\n",
       "      <th></th>\n",
       "      <th>Marcos</th>\n",
       "      <th>João</th>\n",
       "      <th>Margarida</th>\n",
       "      <th>Soraia</th>\n",
       "      <th>Bernardo</th>\n",
       "      <th>Joaquim</th>\n",
       "      <th>Isaura</th>\n",
       "      <th>Sara</th>\n",
       "      <th>Pedro</th>\n",
       "      <th>Mauro</th>\n",
       "    </tr>\n",
       "  </thead>\n",
       "  <tbody>\n",
       "    <tr>\n",
       "      <th>História</th>\n",
       "      <td>6</td>\n",
       "      <td>12</td>\n",
       "      <td>16</td>\n",
       "      <td>16</td>\n",
       "      <td>15</td>\n",
       "      <td>10</td>\n",
       "      <td>17</td>\n",
       "      <td>14</td>\n",
       "      <td>11</td>\n",
       "      <td>8</td>\n",
       "    </tr>\n",
       "    <tr>\n",
       "      <th>Física</th>\n",
       "      <td>12</td>\n",
       "      <td>13</td>\n",
       "      <td>17</td>\n",
       "      <td>14</td>\n",
       "      <td>14</td>\n",
       "      <td>8</td>\n",
       "      <td>18</td>\n",
       "      <td>11</td>\n",
       "      <td>11</td>\n",
       "      <td>14</td>\n",
       "    </tr>\n",
       "    <tr>\n",
       "      <th>Biologia</th>\n",
       "      <td>8</td>\n",
       "      <td>14</td>\n",
       "      <td>13</td>\n",
       "      <td>14</td>\n",
       "      <td>18</td>\n",
       "      <td>12</td>\n",
       "      <td>18</td>\n",
       "      <td>8</td>\n",
       "      <td>13</td>\n",
       "      <td>11</td>\n",
       "    </tr>\n",
       "  </tbody>\n",
       "</table>\n",
       "</div>"
      ],
      "text/plain": [
       "          Marcos  João  Margarida  Soraia  Bernardo  Joaquim  Isaura  Sara  \\\n",
       "História       6    12         16      16        15       10      17    14   \n",
       "Física        12    13         17      14        14        8      18    11   \n",
       "Biologia       8    14         13      14        18       12      18     8   \n",
       "\n",
       "          Pedro  Mauro  \n",
       "História     11      8  \n",
       "Física       11     14  \n",
       "Biologia     13     11  "
      ]
     },
     "execution_count": 3,
     "metadata": {},
     "output_type": "execute_result"
    }
   ],
   "source": [
    "df.tail(3)"
   ]
  },
  {
   "cell_type": "markdown",
   "id": "7bb46f25-99cd-4f42-9f14-cc92384d4788",
   "metadata": {},
   "source": [
    "## 3 - Escreva o código que permite obter informação APENAS sobre o número de linhas e colunas do nosso dataframe."
   ]
  },
  {
   "cell_type": "code",
   "execution_count": 4,
   "id": "91caf4b1-7e60-4baf-b698-c7e4ca04509a",
   "metadata": {},
   "outputs": [
    {
     "data": {
      "text/plain": [
       "(7, 10)"
      ]
     },
     "execution_count": 4,
     "metadata": {},
     "output_type": "execute_result"
    }
   ],
   "source": [
    "df.shape"
   ]
  },
  {
   "cell_type": "markdown",
   "id": "66073bc7-c091-44b6-9ab0-06fd14e34280",
   "metadata": {},
   "source": [
    "## 4 - Escreva o código que lhe permite obter informação mais detalhada sobre a estrutura e conteúdos do dataframe em questão."
   ]
  },
  {
   "cell_type": "code",
   "execution_count": 5,
   "id": "eb4d5e13-070c-475c-96fe-5596b5f4e38e",
   "metadata": {},
   "outputs": [
    {
     "name": "stdout",
     "output_type": "stream",
     "text": [
      "<class 'pandas.core.frame.DataFrame'>\n",
      "Index: 7 entries, Matemática to Biologia\n",
      "Data columns (total 10 columns):\n",
      " #   Column     Non-Null Count  Dtype\n",
      "---  ------     --------------  -----\n",
      " 0   Marcos     7 non-null      int64\n",
      " 1   João       7 non-null      int64\n",
      " 2   Margarida  7 non-null      int64\n",
      " 3   Soraia     7 non-null      int64\n",
      " 4   Bernardo   7 non-null      int64\n",
      " 5   Joaquim    7 non-null      int64\n",
      " 6   Isaura     7 non-null      int64\n",
      " 7   Sara       7 non-null      int64\n",
      " 8   Pedro      7 non-null      int64\n",
      " 9   Mauro      7 non-null      int64\n",
      "dtypes: int64(10)\n",
      "memory usage: 616.0+ bytes\n"
     ]
    }
   ],
   "source": [
    "df.info()"
   ]
  },
  {
   "cell_type": "markdown",
   "id": "89b0a871-5241-426d-b3ab-1ce650164ef7",
   "metadata": {},
   "source": [
    "## 5 - Ainda falando de estrutura/conteúdos do dataframe (pergunta anterior), descreva por palavras suas a informação que consta da resposta anterior."
   ]
  },
  {
   "cell_type": "markdown",
   "id": "8f3f45df-86fe-44db-9f3a-dcce61afc5f0",
   "metadata": {},
   "source": [
    "Resposta: Trata-se de uma pauta de notas escolar em forma de uma tabela em que constam as classificações de diversas disciplinas que foram atribuidas a 10 alunos. Constam informações relativas ao numero de colunas (10) e respetivamente, o primeiro e último nomes dessas colunas. É também possivel constatar o número de valores nulos para cada uma das colunas (o qual nesta situação é zero, nao existem valores nulos). É possivel verificar que o tipo de dados de todas as colunas é 'inteiro', ou seja tratam-se se variáveis númericas. "
   ]
  },
  {
   "cell_type": "markdown",
   "id": "73984537-e4f9-4b17-9744-b14e3ef485c1",
   "metadata": {},
   "source": [
    "## 6 - Que função usaria para conhecer com mais algum detalhe a informação descritiva (e agregada) dos dados numéricos no nosso dataframe? (escreva o respetivo código)"
   ]
  },
  {
   "cell_type": "code",
   "execution_count": 6,
   "id": "ba91fd90-3656-4a8d-9626-8a1070f5c2b9",
   "metadata": {},
   "outputs": [
    {
     "data": {
      "text/html": [
       "<div>\n",
       "<style scoped>\n",
       "    .dataframe tbody tr th:only-of-type {\n",
       "        vertical-align: middle;\n",
       "    }\n",
       "\n",
       "    .dataframe tbody tr th {\n",
       "        vertical-align: top;\n",
       "    }\n",
       "\n",
       "    .dataframe thead th {\n",
       "        text-align: right;\n",
       "    }\n",
       "</style>\n",
       "<table border=\"1\" class=\"dataframe\">\n",
       "  <thead>\n",
       "    <tr style=\"text-align: right;\">\n",
       "      <th></th>\n",
       "      <th>Marcos</th>\n",
       "      <th>João</th>\n",
       "      <th>Margarida</th>\n",
       "      <th>Soraia</th>\n",
       "      <th>Bernardo</th>\n",
       "      <th>Joaquim</th>\n",
       "      <th>Isaura</th>\n",
       "      <th>Sara</th>\n",
       "      <th>Pedro</th>\n",
       "      <th>Mauro</th>\n",
       "    </tr>\n",
       "  </thead>\n",
       "  <tbody>\n",
       "    <tr>\n",
       "      <th>count</th>\n",
       "      <td>7.0</td>\n",
       "      <td>7.000000</td>\n",
       "      <td>7.000000</td>\n",
       "      <td>7.000000</td>\n",
       "      <td>7.000000</td>\n",
       "      <td>7.000000</td>\n",
       "      <td>7.000000</td>\n",
       "      <td>7.000000</td>\n",
       "      <td>7.000000</td>\n",
       "      <td>7.000000</td>\n",
       "    </tr>\n",
       "    <tr>\n",
       "      <th>mean</th>\n",
       "      <td>9.0</td>\n",
       "      <td>12.714286</td>\n",
       "      <td>13.571429</td>\n",
       "      <td>16.000000</td>\n",
       "      <td>16.142857</td>\n",
       "      <td>10.857143</td>\n",
       "      <td>18.142857</td>\n",
       "      <td>11.142857</td>\n",
       "      <td>12.428571</td>\n",
       "      <td>10.428571</td>\n",
       "    </tr>\n",
       "    <tr>\n",
       "      <th>std</th>\n",
       "      <td>2.0</td>\n",
       "      <td>1.603567</td>\n",
       "      <td>2.572751</td>\n",
       "      <td>1.914854</td>\n",
       "      <td>1.345185</td>\n",
       "      <td>1.676163</td>\n",
       "      <td>0.690066</td>\n",
       "      <td>2.115701</td>\n",
       "      <td>1.397276</td>\n",
       "      <td>2.225395</td>\n",
       "    </tr>\n",
       "    <tr>\n",
       "      <th>min</th>\n",
       "      <td>6.0</td>\n",
       "      <td>10.000000</td>\n",
       "      <td>10.000000</td>\n",
       "      <td>14.000000</td>\n",
       "      <td>14.000000</td>\n",
       "      <td>8.000000</td>\n",
       "      <td>17.000000</td>\n",
       "      <td>8.000000</td>\n",
       "      <td>11.000000</td>\n",
       "      <td>8.000000</td>\n",
       "    </tr>\n",
       "    <tr>\n",
       "      <th>25%</th>\n",
       "      <td>8.0</td>\n",
       "      <td>12.000000</td>\n",
       "      <td>12.000000</td>\n",
       "      <td>14.500000</td>\n",
       "      <td>15.500000</td>\n",
       "      <td>10.000000</td>\n",
       "      <td>18.000000</td>\n",
       "      <td>10.000000</td>\n",
       "      <td>11.500000</td>\n",
       "      <td>8.500000</td>\n",
       "    </tr>\n",
       "    <tr>\n",
       "      <th>50%</th>\n",
       "      <td>9.0</td>\n",
       "      <td>13.000000</td>\n",
       "      <td>13.000000</td>\n",
       "      <td>16.000000</td>\n",
       "      <td>16.000000</td>\n",
       "      <td>11.000000</td>\n",
       "      <td>18.000000</td>\n",
       "      <td>11.000000</td>\n",
       "      <td>12.000000</td>\n",
       "      <td>11.000000</td>\n",
       "    </tr>\n",
       "    <tr>\n",
       "      <th>75%</th>\n",
       "      <td>10.0</td>\n",
       "      <td>13.500000</td>\n",
       "      <td>15.500000</td>\n",
       "      <td>17.000000</td>\n",
       "      <td>17.000000</td>\n",
       "      <td>12.000000</td>\n",
       "      <td>18.500000</td>\n",
       "      <td>12.500000</td>\n",
       "      <td>13.000000</td>\n",
       "      <td>11.500000</td>\n",
       "    </tr>\n",
       "    <tr>\n",
       "      <th>max</th>\n",
       "      <td>12.0</td>\n",
       "      <td>15.000000</td>\n",
       "      <td>17.000000</td>\n",
       "      <td>19.000000</td>\n",
       "      <td>18.000000</td>\n",
       "      <td>13.000000</td>\n",
       "      <td>19.000000</td>\n",
       "      <td>14.000000</td>\n",
       "      <td>15.000000</td>\n",
       "      <td>14.000000</td>\n",
       "    </tr>\n",
       "  </tbody>\n",
       "</table>\n",
       "</div>"
      ],
      "text/plain": [
       "       Marcos       João  Margarida     Soraia   Bernardo    Joaquim  \\\n",
       "count     7.0   7.000000   7.000000   7.000000   7.000000   7.000000   \n",
       "mean      9.0  12.714286  13.571429  16.000000  16.142857  10.857143   \n",
       "std       2.0   1.603567   2.572751   1.914854   1.345185   1.676163   \n",
       "min       6.0  10.000000  10.000000  14.000000  14.000000   8.000000   \n",
       "25%       8.0  12.000000  12.000000  14.500000  15.500000  10.000000   \n",
       "50%       9.0  13.000000  13.000000  16.000000  16.000000  11.000000   \n",
       "75%      10.0  13.500000  15.500000  17.000000  17.000000  12.000000   \n",
       "max      12.0  15.000000  17.000000  19.000000  18.000000  13.000000   \n",
       "\n",
       "          Isaura       Sara      Pedro      Mauro  \n",
       "count   7.000000   7.000000   7.000000   7.000000  \n",
       "mean   18.142857  11.142857  12.428571  10.428571  \n",
       "std     0.690066   2.115701   1.397276   2.225395  \n",
       "min    17.000000   8.000000  11.000000   8.000000  \n",
       "25%    18.000000  10.000000  11.500000   8.500000  \n",
       "50%    18.000000  11.000000  12.000000  11.000000  \n",
       "75%    18.500000  12.500000  13.000000  11.500000  \n",
       "max    19.000000  14.000000  15.000000  14.000000  "
      ]
     },
     "execution_count": 6,
     "metadata": {},
     "output_type": "execute_result"
    }
   ],
   "source": [
    "df.describe()"
   ]
  },
  {
   "cell_type": "markdown",
   "id": "8da5b244-35d3-4f5a-9dc2-65dded554ea3",
   "metadata": {},
   "source": [
    "## 7 - Em relação ao resultado obtido na pergunta anterior, explique por palavras suas o significado de cada uma das agregações (primeira coluna)."
   ]
  },
  {
   "cell_type": "markdown",
   "id": "407b1c7b-249e-466c-8805-000464875dc8",
   "metadata": {},
   "source": [
    "Resposta: Count: contagem do numero de observações ou linhas que neste caso são as notas de cada uma das disciplinas;\n",
    "mean: é a media total das classificações;\n",
    "std: refere-se ao desvio padrao da média;\n",
    "min e max: é, respetivamente, o valor minimo e máximo observados no conjunto das entradas da coluna 'Marcus', que neste caso representa a nota mais baixa e a nota mais alta;\n",
    "25%, 50%, 75%: refere-se ao 1º, 2º e 3º quadrantes. Representam a disribuição das diferentes notas. Por exemplo 25% das notas são iguais ou menores que 8.\n"
   ]
  },
  {
   "cell_type": "markdown",
   "id": "3dce3014-0f1a-41fe-bf0e-ba1c9c3dfa87",
   "metadata": {},
   "source": [
    "## 8 - Isole a coluna (ou série) \"Isaura\" e guarde a sua referência numa variável c/ um nome à sua escolha."
   ]
  },
  {
   "cell_type": "code",
   "execution_count": 7,
   "id": "01fe6d2e-ba71-44bd-849d-eb4f47c61aa3",
   "metadata": {},
   "outputs": [
    {
     "data": {
      "text/plain": [
       "Matemática    19\n",
       "Português     18\n",
       "Inglês        18\n",
       "Geografia     19\n",
       "História      17\n",
       "Física        18\n",
       "Biologia      18\n",
       "Name: Isaura, dtype: int64"
      ]
     },
     "execution_count": 7,
     "metadata": {},
     "output_type": "execute_result"
    }
   ],
   "source": [
    "df_isaura= df['Isaura']\n",
    "df_isaura"
   ]
  },
  {
   "cell_type": "markdown",
   "id": "e5bc301e-2760-460c-9915-cad1456175f9",
   "metadata": {},
   "source": [
    "## 9 - Usando a variável que criou na pergunta anterior, e os seus conhecimentos sobre como obter informações descritivas de dados numéricos, qual o valor do **desvio-padrão** das respetivas classificações? (escreva o código na célula seguinte e a resposta na outra seguinte)"
   ]
  },
  {
   "cell_type": "code",
   "execution_count": 8,
   "id": "9a11ab0c-aab0-42a0-8ba3-5cfb5d703f45",
   "metadata": {},
   "outputs": [
    {
     "data": {
      "text/plain": [
       "0.6900655593423541"
      ]
     },
     "execution_count": 8,
     "metadata": {},
     "output_type": "execute_result"
    }
   ],
   "source": [
    "df_isaura.std()"
   ]
  },
  {
   "cell_type": "markdown",
   "id": "eec08ada-2a86-4e59-bcfe-552e18321af2",
   "metadata": {},
   "source": [
    "## 10 - Explique por palavras suas o significado daquele desvio-padrão (pergunta anterior) em relação aos dados que constam naquela coluna em análise."
   ]
  },
  {
   "cell_type": "markdown",
   "id": "3bea5242-102e-4105-91f2-b8b04ef5899c",
   "metadata": {},
   "source": [
    "Resposta: Neste caso, o desvio-padrão é de aproximadamente 0.69, o desvio-padrão é baixo, o que sugere que as classificações de Isaura estão relativamente próximas da sua média."
   ]
  },
  {
   "cell_type": "markdown",
   "id": "9cf66821-6867-44ac-b826-b7182f423de9",
   "metadata": {},
   "source": [
    "## 11 - A célula seguinte tem o código que permite fazer uma TRANSPOSIÇÃO de uma dataframe... Ou seja, orientar o dataframe de forma a que as linhas passem a ser colunas e as colunas passem a ser as linhas. Analise o resultado..."
   ]
  },
  {
   "cell_type": "code",
   "execution_count": 9,
   "id": "e855b2f8-2e4e-4a5d-92b7-25d3c2816b5c",
   "metadata": {},
   "outputs": [
    {
     "data": {
      "text/html": [
       "<div>\n",
       "<style scoped>\n",
       "    .dataframe tbody tr th:only-of-type {\n",
       "        vertical-align: middle;\n",
       "    }\n",
       "\n",
       "    .dataframe tbody tr th {\n",
       "        vertical-align: top;\n",
       "    }\n",
       "\n",
       "    .dataframe thead th {\n",
       "        text-align: right;\n",
       "    }\n",
       "</style>\n",
       "<table border=\"1\" class=\"dataframe\">\n",
       "  <thead>\n",
       "    <tr style=\"text-align: right;\">\n",
       "      <th></th>\n",
       "      <th>Matemática</th>\n",
       "      <th>Português</th>\n",
       "      <th>Inglês</th>\n",
       "      <th>Geografia</th>\n",
       "      <th>História</th>\n",
       "      <th>Física</th>\n",
       "      <th>Biologia</th>\n",
       "    </tr>\n",
       "  </thead>\n",
       "  <tbody>\n",
       "    <tr>\n",
       "      <th>Marcos</th>\n",
       "      <td>9</td>\n",
       "      <td>11</td>\n",
       "      <td>8</td>\n",
       "      <td>9</td>\n",
       "      <td>6</td>\n",
       "      <td>12</td>\n",
       "      <td>8</td>\n",
       "    </tr>\n",
       "    <tr>\n",
       "      <th>João</th>\n",
       "      <td>12</td>\n",
       "      <td>13</td>\n",
       "      <td>10</td>\n",
       "      <td>15</td>\n",
       "      <td>12</td>\n",
       "      <td>13</td>\n",
       "      <td>14</td>\n",
       "    </tr>\n",
       "    <tr>\n",
       "      <th>Margarida</th>\n",
       "      <td>10</td>\n",
       "      <td>11</td>\n",
       "      <td>13</td>\n",
       "      <td>15</td>\n",
       "      <td>16</td>\n",
       "      <td>17</td>\n",
       "      <td>13</td>\n",
       "    </tr>\n",
       "    <tr>\n",
       "      <th>Soraia</th>\n",
       "      <td>15</td>\n",
       "      <td>16</td>\n",
       "      <td>18</td>\n",
       "      <td>19</td>\n",
       "      <td>16</td>\n",
       "      <td>14</td>\n",
       "      <td>14</td>\n",
       "    </tr>\n",
       "    <tr>\n",
       "      <th>Bernardo</th>\n",
       "      <td>16</td>\n",
       "      <td>16</td>\n",
       "      <td>17</td>\n",
       "      <td>17</td>\n",
       "      <td>15</td>\n",
       "      <td>14</td>\n",
       "      <td>18</td>\n",
       "    </tr>\n",
       "    <tr>\n",
       "      <th>Joaquim</th>\n",
       "      <td>13</td>\n",
       "      <td>11</td>\n",
       "      <td>12</td>\n",
       "      <td>10</td>\n",
       "      <td>10</td>\n",
       "      <td>8</td>\n",
       "      <td>12</td>\n",
       "    </tr>\n",
       "    <tr>\n",
       "      <th>Isaura</th>\n",
       "      <td>19</td>\n",
       "      <td>18</td>\n",
       "      <td>18</td>\n",
       "      <td>19</td>\n",
       "      <td>17</td>\n",
       "      <td>18</td>\n",
       "      <td>18</td>\n",
       "    </tr>\n",
       "    <tr>\n",
       "      <th>Sara</th>\n",
       "      <td>11</td>\n",
       "      <td>12</td>\n",
       "      <td>9</td>\n",
       "      <td>13</td>\n",
       "      <td>14</td>\n",
       "      <td>11</td>\n",
       "      <td>8</td>\n",
       "    </tr>\n",
       "    <tr>\n",
       "      <th>Pedro</th>\n",
       "      <td>15</td>\n",
       "      <td>12</td>\n",
       "      <td>13</td>\n",
       "      <td>12</td>\n",
       "      <td>11</td>\n",
       "      <td>11</td>\n",
       "      <td>13</td>\n",
       "    </tr>\n",
       "    <tr>\n",
       "      <th>Mauro</th>\n",
       "      <td>11</td>\n",
       "      <td>12</td>\n",
       "      <td>9</td>\n",
       "      <td>8</td>\n",
       "      <td>8</td>\n",
       "      <td>14</td>\n",
       "      <td>11</td>\n",
       "    </tr>\n",
       "  </tbody>\n",
       "</table>\n",
       "</div>"
      ],
      "text/plain": [
       "           Matemática  Português  Inglês  Geografia  História  Física  \\\n",
       "Marcos              9         11       8          9         6      12   \n",
       "João               12         13      10         15        12      13   \n",
       "Margarida          10         11      13         15        16      17   \n",
       "Soraia             15         16      18         19        16      14   \n",
       "Bernardo           16         16      17         17        15      14   \n",
       "Joaquim            13         11      12         10        10       8   \n",
       "Isaura             19         18      18         19        17      18   \n",
       "Sara               11         12       9         13        14      11   \n",
       "Pedro              15         12      13         12        11      11   \n",
       "Mauro              11         12       9          8         8      14   \n",
       "\n",
       "           Biologia  \n",
       "Marcos            8  \n",
       "João             14  \n",
       "Margarida        13  \n",
       "Soraia           14  \n",
       "Bernardo         18  \n",
       "Joaquim          12  \n",
       "Isaura           18  \n",
       "Sara              8  \n",
       "Pedro            13  \n",
       "Mauro            11  "
      ]
     },
     "execution_count": 9,
     "metadata": {},
     "output_type": "execute_result"
    }
   ],
   "source": [
    "df2 = df.transpose()\n",
    "df2 # não mexemos no 'df' original; obtivemos uma cópia da transposição sob a variável 'df2'..."
   ]
  },
  {
   "cell_type": "markdown",
   "id": "4e8ad13f",
   "metadata": {},
   "source": [
    "Resposta: O resultado será um novo dataframe onde os rótulos das disciplinas são agora as colunas e os nomes dos alunos os índices das respetivas linhas. Isto pode ser útil em situações em que se deseja analisar os dados de uma perspectiva diferente. A forma de como se analisam os resultados depende do contexto e dos objetivos da análise."
   ]
  },
  {
   "cell_type": "markdown",
   "id": "50caa260-8419-42ee-94e5-99e2b1cb9fbb",
   "metadata": {},
   "source": [
    "## 12 - Usando o dataframe transposto 'df2' - *daqui em diante, será este que iremos usar até ao final do questionário* - execute a instrução que permite obter uma tabela de correlações entre as disciplinas."
   ]
  },
  {
   "cell_type": "code",
   "execution_count": 10,
   "id": "f49c60d2-9875-44ec-ae0c-30b82f5492d5",
   "metadata": {},
   "outputs": [
    {
     "data": {
      "text/html": [
       "<div>\n",
       "<style scoped>\n",
       "    .dataframe tbody tr th:only-of-type {\n",
       "        vertical-align: middle;\n",
       "    }\n",
       "\n",
       "    .dataframe tbody tr th {\n",
       "        vertical-align: top;\n",
       "    }\n",
       "\n",
       "    .dataframe thead th {\n",
       "        text-align: right;\n",
       "    }\n",
       "</style>\n",
       "<table border=\"1\" class=\"dataframe\">\n",
       "  <thead>\n",
       "    <tr style=\"text-align: right;\">\n",
       "      <th></th>\n",
       "      <th>Matemática</th>\n",
       "      <th>Português</th>\n",
       "      <th>Inglês</th>\n",
       "      <th>Geografia</th>\n",
       "      <th>História</th>\n",
       "      <th>Física</th>\n",
       "      <th>Biologia</th>\n",
       "    </tr>\n",
       "  </thead>\n",
       "  <tbody>\n",
       "    <tr>\n",
       "      <th>Matemática</th>\n",
       "      <td>1.000000</td>\n",
       "      <td>0.859374</td>\n",
       "      <td>0.852137</td>\n",
       "      <td>0.677623</td>\n",
       "      <td>0.581649</td>\n",
       "      <td>0.302003</td>\n",
       "      <td>0.831063</td>\n",
       "    </tr>\n",
       "    <tr>\n",
       "      <th>Português</th>\n",
       "      <td>0.859374</td>\n",
       "      <td>1.000000</td>\n",
       "      <td>0.832289</td>\n",
       "      <td>0.824576</td>\n",
       "      <td>0.661290</td>\n",
       "      <td>0.562401</td>\n",
       "      <td>0.792666</td>\n",
       "    </tr>\n",
       "    <tr>\n",
       "      <th>Inglês</th>\n",
       "      <td>0.852137</td>\n",
       "      <td>0.832289</td>\n",
       "      <td>1.000000</td>\n",
       "      <td>0.840092</td>\n",
       "      <td>0.768069</td>\n",
       "      <td>0.480014</td>\n",
       "      <td>0.847401</td>\n",
       "    </tr>\n",
       "    <tr>\n",
       "      <th>Geografia</th>\n",
       "      <td>0.677623</td>\n",
       "      <td>0.824576</td>\n",
       "      <td>0.840092</td>\n",
       "      <td>1.000000</td>\n",
       "      <td>0.913471</td>\n",
       "      <td>0.596137</td>\n",
       "      <td>0.744018</td>\n",
       "    </tr>\n",
       "    <tr>\n",
       "      <th>História</th>\n",
       "      <td>0.581649</td>\n",
       "      <td>0.661290</td>\n",
       "      <td>0.768069</td>\n",
       "      <td>0.913471</td>\n",
       "      <td>1.000000</td>\n",
       "      <td>0.579908</td>\n",
       "      <td>0.645777</td>\n",
       "    </tr>\n",
       "    <tr>\n",
       "      <th>Física</th>\n",
       "      <td>0.302003</td>\n",
       "      <td>0.562401</td>\n",
       "      <td>0.480014</td>\n",
       "      <td>0.596137</td>\n",
       "      <td>0.579908</td>\n",
       "      <td>1.000000</td>\n",
       "      <td>0.540189</td>\n",
       "    </tr>\n",
       "    <tr>\n",
       "      <th>Biologia</th>\n",
       "      <td>0.831063</td>\n",
       "      <td>0.792666</td>\n",
       "      <td>0.847401</td>\n",
       "      <td>0.744018</td>\n",
       "      <td>0.645777</td>\n",
       "      <td>0.540189</td>\n",
       "      <td>1.000000</td>\n",
       "    </tr>\n",
       "  </tbody>\n",
       "</table>\n",
       "</div>"
      ],
      "text/plain": [
       "            Matemática  Português    Inglês  Geografia  História    Física  \\\n",
       "Matemática    1.000000   0.859374  0.852137   0.677623  0.581649  0.302003   \n",
       "Português     0.859374   1.000000  0.832289   0.824576  0.661290  0.562401   \n",
       "Inglês        0.852137   0.832289  1.000000   0.840092  0.768069  0.480014   \n",
       "Geografia     0.677623   0.824576  0.840092   1.000000  0.913471  0.596137   \n",
       "História      0.581649   0.661290  0.768069   0.913471  1.000000  0.579908   \n",
       "Física        0.302003   0.562401  0.480014   0.596137  0.579908  1.000000   \n",
       "Biologia      0.831063   0.792666  0.847401   0.744018  0.645777  0.540189   \n",
       "\n",
       "            Biologia  \n",
       "Matemática  0.831063  \n",
       "Português   0.792666  \n",
       "Inglês      0.847401  \n",
       "Geografia   0.744018  \n",
       "História    0.645777  \n",
       "Física      0.540189  \n",
       "Biologia    1.000000  "
      ]
     },
     "execution_count": 10,
     "metadata": {},
     "output_type": "execute_result"
    }
   ],
   "source": [
    "df2.corr()"
   ]
  },
  {
   "cell_type": "markdown",
   "id": "300ac956-1120-4de0-a0b1-846e932b6b98",
   "metadata": {},
   "source": [
    "## 13 - Observe detalhadamente a tabela anterior e, usando as suas capacidades de análise, interpretação e palavras suas, escreva algumas conclusões que pode antecipar, desta fase exploratória."
   ]
  },
  {
   "cell_type": "markdown",
   "id": "40741ebe-0793-4689-b0c9-349fdbb9993e",
   "metadata": {},
   "source": [
    "Resposta: Todas as disciplinas tem correlações positivas entre si. Existem umas correlações mais fortes do que outras. Por exemplo a correlação entre Historia e Geografia sugere que se um aluno sobe a classificação a Historia é muito provavel que tenha um resultado semelhante a Geografia, já o mesmo nao se verifica entre Física e qualquer uma das restantes disciplinas."
   ]
  },
  {
   "cell_type": "markdown",
   "id": "42b98d4f-bc34-4323-a7ee-428000027e64",
   "metadata": {},
   "source": [
    "## 14 - Escreva o código que permite visualizar apenas as colunas de Matemática e Português, e apenas os últimos 3 registos. Se possível, use apenas uma linha de código única... Se não se lembrar, recorra ao apoio de uma variável."
   ]
  },
  {
   "cell_type": "code",
   "execution_count": 11,
   "id": "822aed59-b478-42de-ab9c-513794cc33fe",
   "metadata": {},
   "outputs": [
    {
     "data": {
      "text/html": [
       "<div>\n",
       "<style scoped>\n",
       "    .dataframe tbody tr th:only-of-type {\n",
       "        vertical-align: middle;\n",
       "    }\n",
       "\n",
       "    .dataframe tbody tr th {\n",
       "        vertical-align: top;\n",
       "    }\n",
       "\n",
       "    .dataframe thead th {\n",
       "        text-align: right;\n",
       "    }\n",
       "</style>\n",
       "<table border=\"1\" class=\"dataframe\">\n",
       "  <thead>\n",
       "    <tr style=\"text-align: right;\">\n",
       "      <th></th>\n",
       "      <th>Matemática</th>\n",
       "      <th>Português</th>\n",
       "    </tr>\n",
       "  </thead>\n",
       "  <tbody>\n",
       "    <tr>\n",
       "      <th>Sara</th>\n",
       "      <td>11</td>\n",
       "      <td>12</td>\n",
       "    </tr>\n",
       "    <tr>\n",
       "      <th>Pedro</th>\n",
       "      <td>15</td>\n",
       "      <td>12</td>\n",
       "    </tr>\n",
       "    <tr>\n",
       "      <th>Mauro</th>\n",
       "      <td>11</td>\n",
       "      <td>12</td>\n",
       "    </tr>\n",
       "  </tbody>\n",
       "</table>\n",
       "</div>"
      ],
      "text/plain": [
       "       Matemática  Português\n",
       "Sara           11         12\n",
       "Pedro          15         12\n",
       "Mauro          11         12"
      ]
     },
     "execution_count": 11,
     "metadata": {},
     "output_type": "execute_result"
    }
   ],
   "source": [
    "df2[['Matemática', 'Português']].tail(3)"
   ]
  },
  {
   "cell_type": "markdown",
   "id": "5a5ef843-ba02-4788-95d7-ab912e7bfb0f",
   "metadata": {},
   "source": [
    "## 15 - Isole o registo correspondente ao aluno Bernardo... e apresente-o como resultado,"
   ]
  },
  {
   "cell_type": "code",
   "execution_count": 12,
   "id": "98dee7c4-4bbb-42a1-abff-c6c1179d515e",
   "metadata": {},
   "outputs": [
    {
     "data": {
      "text/plain": [
       "Matemática    16\n",
       "Português     16\n",
       "Inglês        17\n",
       "Geografia     17\n",
       "História      15\n",
       "Física        14\n",
       "Biologia      18\n",
       "Name: Bernardo, dtype: int64"
      ]
     },
     "execution_count": 12,
     "metadata": {},
     "output_type": "execute_result"
    }
   ],
   "source": [
    "df_bernardo=df2.loc['Bernardo']\n",
    "df_bernardo"
   ]
  },
  {
   "cell_type": "markdown",
   "id": "d512a340-37ed-4989-a090-9ab6f55cd75d",
   "metadata": {},
   "source": [
    "## 16 - Usando o resultado anterior (terá sido prudente se usou uma variável 😉), obtenha uma informação descritiva/estatística sobre as classificações do Bernardo."
   ]
  },
  {
   "cell_type": "code",
   "execution_count": 13,
   "id": "31550109-0454-4d8b-87d1-022e9e5915da",
   "metadata": {},
   "outputs": [
    {
     "data": {
      "text/plain": [
       "count     7.000000\n",
       "mean     16.142857\n",
       "std       1.345185\n",
       "min      14.000000\n",
       "25%      15.500000\n",
       "50%      16.000000\n",
       "75%      17.000000\n",
       "max      18.000000\n",
       "Name: Bernardo, dtype: float64"
      ]
     },
     "execution_count": 13,
     "metadata": {},
     "output_type": "execute_result"
    }
   ],
   "source": [
    "df_bernardo.describe()"
   ]
  },
  {
   "cell_type": "markdown",
   "id": "25abba77-6f3b-4080-94ad-0bc1dc5b7f81",
   "metadata": {},
   "source": [
    "## 17 - Use uma linha de instrução única para selecionar os alunos que tiveram uma classificação superior ou igual a 15 em Matemática."
   ]
  },
  {
   "cell_type": "code",
   "execution_count": 18,
   "id": "17469aaf-1d5c-41ca-a964-bb7d0fdbeb5e",
   "metadata": {},
   "outputs": [
    {
     "data": {
      "text/plain": [
       "Soraia      15\n",
       "Bernardo    16\n",
       "Isaura      19\n",
       "Pedro       15\n",
       "Name: Matemática, dtype: int64"
      ]
     },
     "execution_count": 18,
     "metadata": {},
     "output_type": "execute_result"
    }
   ],
   "source": [
    "df2[df2['Matemática']>=15]['Matemática']"
   ]
  },
  {
   "cell_type": "markdown",
   "id": "80d46383-1f33-4b1e-8083-592e463f5f93",
   "metadata": {},
   "source": [
    "## 18 - Usando o princípio semelhante ao da pergunta anterior, use o código Python necessário para apresentar todos os alunos que tiveram classificação superior à média na disciplina de Português."
   ]
  },
  {
   "cell_type": "code",
   "execution_count": 21,
   "id": "b64d2fae-659f-46af-a31f-a54dcfe48152",
   "metadata": {},
   "outputs": [
    {
     "name": "stdout",
     "output_type": "stream",
     "text": [
      "media a portuges:  13.2\n"
     ]
    },
    {
     "data": {
      "text/plain": [
       "Soraia      16\n",
       "Bernardo    16\n",
       "Isaura      18\n",
       "Name: Português, dtype: int64"
      ]
     },
     "execution_count": 21,
     "metadata": {},
     "output_type": "execute_result"
    }
   ],
   "source": [
    "print('media a portuges: ', df2['Português'].mean())\n",
    "df3= df2[df2['Português']>=df2['Português'].mean()]\n",
    "df3['Português']"
   ]
  },
  {
   "cell_type": "markdown",
   "id": "0eeab693-dbaa-4c76-bf45-5b7fa713d642",
   "metadata": {},
   "source": [
    "## 19 - Analise o código Python seguinte, e corrija os erros que o impedem de executar normalmente. O objetivo é obter o resultado da sua execução."
   ]
  },
  {
   "cell_type": "code",
   "execution_count": 49,
   "id": "cd0dffbe-7b59-44aa-a720-0335f7cf42da",
   "metadata": {},
   "outputs": [
    {
     "data": {
      "text/plain": [
       "Marcos       OFF\n",
       "João          ON\n",
       "Margarida     ON\n",
       "Soraia        ON\n",
       "Bernardo      ON\n",
       "Joaquim       ON\n",
       "Isaura        ON\n",
       "Sara         OFF\n",
       "Pedro         ON\n",
       "Mauro        OFF\n",
       "dtype: object"
      ]
     },
     "execution_count": 49,
     "metadata": {},
     "output_type": "execute_result"
    }
   ],
   "source": [
    "def on_off(lst):\n",
    "    if len([x for x in lst if x < 10]) >= 2:\n",
    "        return 'OFF'\n",
    "    else:\n",
    "        return 'ON'\n",
    "\n",
    "df.apply(on_off)  # forma de aplicar uma função definida por nós a todos os registos/linhas do nosso dataframe"
   ]
  },
  {
   "cell_type": "markdown",
   "id": "3d3bf784-d445-4ece-9556-464c0914a907",
   "metadata": {},
   "source": [
    "## 20 - Agora que conseguiu executar o código anterior, e já conseguiu ver o respetivo resultado, procure explicar o resultado obtido, observando e seguindo o código Python que lhe deu origem."
   ]
  },
  {
   "cell_type": "markdown",
   "id": "fecd934a-b3f6-4b14-9fc2-ff93d9c4a8c3",
   "metadata": {},
   "source": [
    "Resposta: "
   ]
  },
  {
   "cell_type": "markdown",
   "id": "9d4de529",
   "metadata": {},
   "source": [
    "O resultado indica os alunos que reprovaram de ano ('OFF') e os que não reprovaram de ano ('ON'). A função determina que os alunos que tiveram classificação menor do que 10 a pelo menos duas disciplinas tem atribuida a designação 'OFF', que significa que o aluno reprovou. Quando o contrario acontece, o aluno fica com a designação 'ON', que significa que o aluno transitou. "
   ]
  },
  {
   "cell_type": "code",
   "execution_count": null,
   "id": "2990b4d5",
   "metadata": {},
   "outputs": [],
   "source": []
  }
 ],
 "metadata": {
  "kernelspec": {
   "display_name": "Python 3 (ipykernel)",
   "language": "python",
   "name": "python3"
  },
  "language_info": {
   "codemirror_mode": {
    "name": "ipython",
    "version": 3
   },
   "file_extension": ".py",
   "mimetype": "text/x-python",
   "name": "python",
   "nbconvert_exporter": "python",
   "pygments_lexer": "ipython3",
   "version": "3.11.7"
  }
 },
 "nbformat": 4,
 "nbformat_minor": 5
}
