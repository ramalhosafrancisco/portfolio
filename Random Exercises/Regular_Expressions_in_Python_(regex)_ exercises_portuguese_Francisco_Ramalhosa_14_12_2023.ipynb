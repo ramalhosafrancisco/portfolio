{
 "cells": [
  {
   "cell_type": "markdown",
   "id": "32b15867-57a0-474e-a201-193bb036808f",
   "metadata": {},
   "source": [
    "# Expressões Regulares em Python\n",
    "## Exercícios\n",
    "\n",
    "\n",
    "#### Para que os exercícios em que tem de encontrar a expressão regular possa ser considerado completo/correto, deve apresentar 3 ou mais exemplos 'positivos' e 3 ou mais exemplos 'negativos'."
   ]
  },
  {
   "cell_type": "code",
   "execution_count": 2,
   "id": "9d2f9e69",
   "metadata": {},
   "outputs": [],
   "source": [
    "import re"
   ]
  },
  {
   "cell_type": "markdown",
   "id": "f3d442a4-f5d8-40ff-afee-a9ca90e124c9",
   "metadata": {},
   "source": [
    "#### 1. Escreva uma expressão regular que valide strings (sequências de caracteres) que comecem com a letra 'a' seguido de 3 letras 'b'."
   ]
  },
  {
   "cell_type": "code",
   "execution_count": 2,
   "id": "98220dd6-d0b9-401c-886f-db8ab41cd75d",
   "metadata": {},
   "outputs": [
    {
     "name": "stdout",
     "output_type": "stream",
     "text": [
      "<re.Match object; span=(0, 4), match='abbb'>\n",
      "<re.Match object; span=(0, 4), match='abbb'>\n",
      "<re.Match object; span=(0, 4), match='abbb'>\n",
      "None\n",
      "None\n",
      "None\n"
     ]
    }
   ],
   "source": [
    "e1='abbb'\n",
    "e2='abbbb'\n",
    "e3='abbb222'\n",
    "\n",
    "e4='abb'\n",
    "e5='aabbb'\n",
    "e6='azzzbbb'\n",
    "\n",
    "pat='^ab{3}'\n",
    "\n",
    "print(re.search(pat,e1))\n",
    "print(re.search(pat,e2))\n",
    "print(re.search(pat,e3))\n",
    "print(re.search(pat,e4))\n",
    "print(re.search(pat,e5))\n",
    "print(re.search(pat,e6))"
   ]
  },
  {
   "cell_type": "markdown",
   "id": "a4d3fefd-bf8b-48c0-8e84-b91320417b98",
   "metadata": {},
   "source": [
    "#### 2. Escreva uma expressão regular que valide strings que comecem com 3 letras 'y' seguido de uma ou mais letras 'z'."
   ]
  },
  {
   "cell_type": "code",
   "execution_count": 3,
   "id": "fc4ad970-8eb1-483d-b28b-013a74923271",
   "metadata": {},
   "outputs": [
    {
     "name": "stdout",
     "output_type": "stream",
     "text": [
      "<re.Match object; span=(0, 4), match='yyyz'>\n",
      "<re.Match object; span=(0, 5), match='yyyzz'>\n",
      "<re.Match object; span=(0, 6), match='yyyzzz'>\n",
      "None\n",
      "None\n",
      "None\n"
     ]
    }
   ],
   "source": [
    "pat2='^y{3}z+'\n",
    "\n",
    "e7='yyyz'\n",
    "e8='yyyzz'\n",
    "e9='yyyzzz'\n",
    "\n",
    "e10='abb'\n",
    "e11='yyy1z'\n",
    "e12='yyyyz'\n",
    "\n",
    "print(re.search(pat2,e7))\n",
    "print(re.search(pat2,e8))\n",
    "print(re.search(pat2,e9))\n",
    "print(re.search(pat2,e10))\n",
    "print(re.search(pat2,e11))\n",
    "print(re.search(pat2,e12))"
   ]
  },
  {
   "cell_type": "markdown",
   "id": "333cea0f-0821-4331-9dc7-937bae992eb1",
   "metadata": {},
   "source": [
    "#### 3. Que expressão regular valida strings COMPLETAS (e não apenas qualquer sub-string) que tenham apenas caracteres alfabéticos e o caracter '_' (undercore); a string a validar não pode iniciar nem terminar com o caracter '_' (underscore)?"
   ]
  },
  {
   "cell_type": "code",
   "execution_count": 4,
   "id": "01e19e5c-601a-413c-aa6d-579b6cc05453",
   "metadata": {},
   "outputs": [
    {
     "name": "stdout",
     "output_type": "stream",
     "text": [
      "<re.Match object; span=(0, 5), match='aa_aa'>\n",
      "<re.Match object; span=(0, 7), match='bb_bbbb'>\n",
      "<re.Match object; span=(0, 3), match='c_c'>\n",
      "None\n",
      "None\n",
      "None\n"
     ]
    }
   ],
   "source": [
    "# pat3= '^[a-z]+(_+[a-z]+)*$' (alternativa)\n",
    "\n",
    "pat3='^[a-z]+[a-z_]*[a-z]+$'\n",
    "\n",
    "e13='aa_aa'\n",
    "e14='bb_bbbb'\n",
    "e15='c_c'\n",
    "\n",
    "e16='1_1'\n",
    "e17='_aa_a'\n",
    "e18='aa_'\n",
    "\n",
    "print(re.search(pat3,e13))\n",
    "print(re.search(pat3,e14))\n",
    "print(re.search(pat3,e15))\n",
    "print(re.search(pat3,e16))\n",
    "print(re.search(pat3,e17))\n",
    "print(re.search(pat3,e18))\n",
    "\n"
   ]
  },
  {
   "cell_type": "markdown",
   "id": "b61cae3c-e35d-4a79-b6cd-ebc16355e9a1",
   "metadata": {},
   "source": [
    "#### 4. Que expressão regular valida quaisquer strings COMPLETAS que tenham de iniciar e terminar com o caracter 'z'?"
   ]
  },
  {
   "cell_type": "code",
   "execution_count": 5,
   "id": "897e4ea9-48e7-48c5-ab38-a6e706c4f05f",
   "metadata": {},
   "outputs": [
    {
     "name": "stdout",
     "output_type": "stream",
     "text": [
      "<re.Match object; span=(0, 4), match='z__z'>\n",
      "<re.Match object; span=(0, 5), match='z111z'>\n",
      "<re.Match object; span=(0, 3), match='zzz'>\n",
      "None\n",
      "None\n",
      "None\n"
     ]
    }
   ],
   "source": [
    "pat4= '^z.*z$'\n",
    "\n",
    "e19='z__z'\n",
    "e20='z111z'\n",
    "e21='zzz'\n",
    "\n",
    "e22='azza'\n",
    "e23='1zz1'\n",
    "e24='_zz_'\n",
    "\n",
    "print(re.search(pat4,e19))\n",
    "print(re.search(pat4,e20))\n",
    "print(re.search(pat4,e21))\n",
    "print(re.search(pat4,e22))\n",
    "print(re.search(pat4,e23))\n",
    "print(re.search(pat4,e24))"
   ]
  },
  {
   "cell_type": "markdown",
   "id": "e30d25bf-aaf8-4c8b-a5f8-4397fdde42ee",
   "metadata": {},
   "source": [
    "#### 5. Escreva uma expressão regular que identifique strings (não necessariamente COMPLETAS) que tenham o caracter 'a' seguido de um número indeterminado de caracteres numéricos, e de 2 ou 3 caracteres de entre 'x', 'y' e 'z', e de 1 ou mais caracteres alfabéticos.\n",
    "Deve usar o conhecimento dado nas aulas... Por ex., npode usar **{n}** mas não deve usar **{m,n}**\n",
    "Tente esgotar ao máximo o número de exemplos para demonstrar validações 'positivas' e 'negativas'."
   ]
  },
  {
   "cell_type": "code",
   "execution_count": 6,
   "id": "569d8147-7900-4598-84ad-f287b7166fdc",
   "metadata": {},
   "outputs": [
    {
     "name": "stdout",
     "output_type": "stream",
     "text": [
      "<re.Match object; span=(3, 10), match='a11xxaa'>\n",
      "<re.Match object; span=(0, 7), match='a22xzab'>\n",
      "<re.Match object; span=(3, 9), match='a1xycc'>\n",
      "None\n",
      "None\n",
      "None\n"
     ]
    }
   ],
   "source": [
    "# pat5= 'a\\d+[xyz]{2,3}[a-z]+'  -> errado, porque não vai de acordo ao enunciado. Meta-carater '*' em vez do primeiro '+' -> \"seguido de um número indeterminado \". -> retificar exemplos mnegativos.\n",
    "\n",
    "# pat5 = 'a\\d*[xyz][xyz][xyz]?[a-z]+' -> versão mais extensa\n",
    "\n",
    "pat5 = 'a\\d*[xyz]{2}[xyz]?[a-z]+' \n",
    "\n",
    "# pat5 = 'a\\d*[xyz]{2}?[a-z]+' -> alternativa mais simplificada -> ultima repetição é considerada para '?'.\n",
    "\n",
    "e25='sdsa11xxaa22'\n",
    "e26='a22xzab'\n",
    "e27='zzza1xycc22'\n",
    "\n",
    "e28='1a_xyzzz111'\n",
    "e29='00f1ya'\n",
    "e30='axx5aa1'\n",
    "\n",
    "print(re.search(pat5,e25))\n",
    "print(re.search(pat5,e26))\n",
    "print(re.search(pat5,e27))\n",
    "print(re.search(pat5,e28))\n",
    "print(re.search(pat5,e29))\n",
    "print(re.search(pat5,e30))"
   ]
  },
  {
   "cell_type": "markdown",
   "id": "f6c538ce-b4f4-4163-b57c-b794179b2870",
   "metadata": {},
   "source": [
    "#### 6. Imagine que recebia um ficheiro com múltiplas strings de valores numéricos. Que regra escreveria para poder ignorar todos zeros (caracter '0') à esquerda de cada um dos números?"
   ]
  },
  {
   "cell_type": "code",
   "execution_count": 4,
   "id": "b0a5dd27-5430-4f50-a56f-c0da79057962",
   "metadata": {},
   "outputs": [
    {
     "name": "stdout",
     "output_type": "stream",
     "text": [
      "<re.Match object; span=(0, 5), match='00123'>\n",
      "<re.Match object; span=(0, 3), match='011'>\n",
      "<re.Match object; span=(0, 7), match='0110002'>\n",
      "None\n",
      "None\n",
      "None\n"
     ]
    }
   ],
   "source": [
    "pat6='^(?:0+)([1-9]\\d*)$'\n",
    "\n",
    "e31='00123'\n",
    "e32='011'\n",
    "e33='0110002'\n",
    "\n",
    "e34='100'\n",
    "e35='220022'\n",
    "e36='aa0055'\n",
    "\n",
    "print(re.search(pat6,e31))\n",
    "print(re.search(pat6,e32))\n",
    "print(re.search(pat6,e33))\n",
    "print(re.search(pat6,e34))\n",
    "print(re.search(pat6,e35))\n",
    "print(re.search(pat6,e36))"
   ]
  },
  {
   "cell_type": "markdown",
   "id": "37fdf7e6-c7b2-4427-90cc-936d3dcb26c1",
   "metadata": {},
   "source": [
    "#### 7. Que código Python escreveria para tentar isolar a sub-string 'xpto' de uma qualquer string original?"
   ]
  },
  {
   "cell_type": "code",
   "execution_count": 8,
   "id": "ea453138-d088-4877-b35a-e2526e03209b",
   "metadata": {},
   "outputs": [
    {
     "name": "stdout",
     "output_type": "stream",
     "text": [
      "xpto\n"
     ]
    }
   ],
   "source": [
    "sub_string= 'xpto'\n",
    "string= \"A nova versão daquele telemóvel é xpto\"\n",
    "\n",
    "match = re.search(sub_string, string)\n",
    "sub_string_isolada = match.group()\n",
    "print(sub_string_isolada)"
   ]
  },
  {
   "cell_type": "markdown",
   "id": "cc1b32ec-5924-4463-ad27-788f3158908a",
   "metadata": {},
   "source": [
    "#### 8. Investigue a utilização do meta-caracter '|' (pipe)... Que expressão regular usaria para identificar/validar strings COMPLETAS que iniciem pela sequência 'abc' ou 'xyz'?"
   ]
  },
  {
   "cell_type": "code",
   "execution_count": 5,
   "id": "8a2f1e40-4f0b-4b63-be01-1a6459b493fe",
   "metadata": {},
   "outputs": [
    {
     "name": "stdout",
     "output_type": "stream",
     "text": [
      "<re.Match object; span=(0, 6), match='abcabc'>\n",
      "<re.Match object; span=(0, 3), match='xyz'>\n",
      "<re.Match object; span=(0, 9), match='xyzxyz555'>\n",
      "None\n",
      "None\n",
      "None\n"
     ]
    }
   ],
   "source": [
    "pat7= '^(abc|xyz).*$'\n",
    "\n",
    "e37='abcabc'\n",
    "e38='xyz'\n",
    "e39='xyzxyz555'\n",
    "\n",
    "e40='1abc'\n",
    "e41='_xyz55'\n",
    "e42='axbycz00'\n",
    "\n",
    "print(re.search(pat7,e37))\n",
    "print(re.search(pat7,e38))\n",
    "print(re.search(pat7,e39))\n",
    "print(re.search(pat7,e40))\n",
    "print(re.search(pat7,e41))\n",
    "print(re.search(pat7,e42))\n"
   ]
  },
  {
   "cell_type": "markdown",
   "id": "e8bc3bc3-5947-46f9-bff3-e461d488150a",
   "metadata": {},
   "source": [
    "#### 9. Use uma expressão regular para identificar números de telefone válidos para Portugal, considerando que o indicativo (351) pode, ou não, estar presente ao início da sequência."
   ]
  },
  {
   "cell_type": "code",
   "execution_count": 7,
   "id": "e24961c3-16de-4957-a3a4-d950ce35fc2c",
   "metadata": {},
   "outputs": [
    {
     "name": "stdout",
     "output_type": "stream",
     "text": [
      "<re.Match object; span=(0, 12), match='351961234567'>\n",
      "<re.Match object; span=(0, 9), match='961234567'>\n",
      "<re.Match object; span=(0, 12), match='351911234557'>\n",
      "<re.Match object; span=(0, 13), match='+351967845129'>\n",
      "None\n",
      "None\n"
     ]
    }
   ],
   "source": [
    "pat8= '^((00|\\+)?(351))?[29]\\d{8}$'\n",
    "\n",
    "e43='351961234567'\n",
    "e44='961234567'\n",
    "e45='351911234557'\n",
    "\n",
    "e46='+351967845129'\n",
    "e47='92356223'\n",
    "e48='0035193452317849'\n",
    "\n",
    "print(re.search(pat8,e43))\n",
    "print(re.search(pat8,e44))\n",
    "print(re.search(pat8,e45))\n",
    "print(re.search(pat8,e46))\n",
    "print(re.search(pat8,e47))\n",
    "print(re.search(pat8,e48))"
   ]
  },
  {
   "cell_type": "markdown",
   "id": "abb89fa4-def4-4423-816c-fcd21d86e586",
   "metadata": {},
   "source": [
    "#### 10. Escreva uma função em Python que receba como argumento uma lista de strings; a função deverá devolver uma outra lista contendo apenas as strings da lista original que obedeçam à regra seguinte: INÍCIO c/ sequência de 3 ou mais letras 'a', seguido de 0 ou mais caracteres 'u', 'v' e 'w'.\n",
    "Deve usar o conhecimento dado nas aulas... Por ex., npode usar **{n}** mas não deve usar **{m,n}**\n",
    "Escreva o maior número de exemplos para chamar a sua função que demonstrem o seu funcionamento correto."
   ]
  },
  {
   "cell_type": "code",
   "execution_count": 14,
   "id": "b1e37dea-3e75-4769-89d2-b9832cfadcab",
   "metadata": {},
   "outputs": [
    {
     "name": "stdout",
     "output_type": "stream",
     "text": [
      "['aaauvw', 'aaaav', 'aaa', 'aaaa']\n"
     ]
    }
   ],
   "source": [
    "def lista_filtrada(lista):\n",
    "    padrao = re.compile('^aaa+[uvw]*$')\n",
    "    strings_filtradas = [s for s in lista if padrao.match(s)]\n",
    "    return strings_filtradas\n",
    "\n",
    "\n",
    "lista = [\"aaa5555\", \"aauvw485ds_\", \"aaauvw\", \"aaaav\", \"aaa\", \"aaaa\", \"aa\", \"a\"]\n",
    "\n",
    "resultado = lista_filtrada(lista)\n",
    "\n",
    "print(resultado)"
   ]
  },
  {
   "cell_type": "code",
   "execution_count": 13,
   "id": "a9a3beca",
   "metadata": {},
   "outputs": [
    {
     "name": "stdout",
     "output_type": "stream",
     "text": [
      "['aaauvw', 'aaaav', 'aaa', 'aaaa']\n"
     ]
    }
   ],
   "source": [
    "def selecionar(lista):\n",
    "    exp10 = '^a{3}a*[uvw]*$'\n",
    "    lista_selecionada = []\n",
    "    for x in lista:\n",
    "        if re.search(exp10, x) != None:\n",
    "            lista_selecionada.append(x)\n",
    " \n",
    "    print(lista_selecionada)\n",
    " \n",
    "lista_inicial = [\"aaa5555\", \"aauvw485ds_\", \"aaauvw\", \"aaaav\", \"aaa\", \"aaaa\", \"aa\", \"a\"]\n",
    "selecionar(lista_inicial)"
   ]
  },
  {
   "cell_type": "code",
   "execution_count": null,
   "id": "f764b3bf",
   "metadata": {},
   "outputs": [],
   "source": []
  }
 ],
 "metadata": {
  "kernelspec": {
   "display_name": "Python 3 (ipykernel)",
   "language": "python",
   "name": "python3"
  },
  "language_info": {
   "codemirror_mode": {
    "name": "ipython",
    "version": 3
   },
   "file_extension": ".py",
   "mimetype": "text/x-python",
   "name": "python",
   "nbconvert_exporter": "python",
   "pygments_lexer": "ipython3",
   "version": "3.11.7"
  }
 },
 "nbformat": 4,
 "nbformat_minor": 5
}
