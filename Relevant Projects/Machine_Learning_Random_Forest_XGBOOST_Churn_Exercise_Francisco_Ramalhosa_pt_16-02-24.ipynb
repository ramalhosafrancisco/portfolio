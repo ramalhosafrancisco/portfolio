{
 "cells": [
  {
   "cell_type": "markdown",
   "id": "dc6ca9c8-6940-43fb-81a1-df8898ad7bc4",
   "metadata": {},
   "source": [
    "## Libraries Import"
   ]
  },
  {
   "cell_type": "code",
   "execution_count": 82,
   "id": "6d0778f2-a9fb-42c3-afd6-ffac71e3022a",
   "metadata": {},
   "outputs": [],
   "source": [
    "import numpy as np\n",
    "import pandas as pd\n",
    "import matplotlib.pyplot as plt\n",
    "import seaborn as sns \n",
    "from sklearn.preprocessing import MinMaxScaler, OneHotEncoder, StandardScaler\n",
    "from sklearn.model_selection import train_test_split, GridSearchCV, RandomizedSearchCV, cross_val_score, cross_val_predict, cross_validate\n",
    "from sklearn.ensemble import RandomForestClassifier, BaggingClassifier\n",
    "from sklearn.linear_model import LogisticRegression, LinearRegression\n",
    "from sklearn.metrics import accuracy_score, confusion_matrix, classification_report, mean_absolute_error, roc_curve, auc, precision_score, recall_score, f1_score, roc_auc_score\n",
    "from sklearn.cluster import KMeans\n",
    "from sklearn.decomposition import PCA\n",
    "from sklearn.ensemble import IsolationForest\n",
    "from sklearn.covariance import EllipticEnvelope\n",
    "from sklearn.svm import OneClassSVM\n",
    "from sklearn.metrics import accuracy_score\n",
    "from sklearn.feature_selection import VarianceThreshold\n",
    "from mlxtend.feature_selection import SequentialFeatureSelector\n",
    "from scipy.stats import zscore, mstats, chi2_contingency, f_oneway\n",
    "from imblearn.under_sampling import TomekLinks\n",
    "from imblearn.over_sampling import BorderlineSMOTE\n",
    "from collections import Counter\n",
    "from xgboost import XGBClassifier\n",
    "import statsmodels.api as sm\n",
    "from statsmodels.regression.linear_model import OLS\n",
    "from statsmodels.stats.outliers_influence import OLSInfluence\n",
    "from scipy.stats import randint, shapiro, ttest_ind\n",
    "from scipy import stats\n",
    "\n",
    "import warnings\n",
    "warnings.filterwarnings('ignore')"
   ]
  },
  {
   "cell_type": "markdown",
   "id": "648c9281-61a4-448f-825c-ca2b14851446",
   "metadata": {},
   "source": [
    "## Dataset Import and Overview"
   ]
  },
  {
   "cell_type": "code",
   "execution_count": 2,
   "id": "f532f41b-6caa-401e-bcbe-ceb99402f979",
   "metadata": {},
   "outputs": [
    {
     "data": {
      "text/html": [
       "<div>\n",
       "<style scoped>\n",
       "    .dataframe tbody tr th:only-of-type {\n",
       "        vertical-align: middle;\n",
       "    }\n",
       "\n",
       "    .dataframe tbody tr th {\n",
       "        vertical-align: top;\n",
       "    }\n",
       "\n",
       "    .dataframe thead th {\n",
       "        text-align: right;\n",
       "    }\n",
       "</style>\n",
       "<table border=\"1\" class=\"dataframe\">\n",
       "  <thead>\n",
       "    <tr style=\"text-align: right;\">\n",
       "      <th></th>\n",
       "      <th>RowNumber</th>\n",
       "      <th>CustomerId</th>\n",
       "      <th>Surname</th>\n",
       "      <th>CreditScore</th>\n",
       "      <th>Geography</th>\n",
       "      <th>Gender</th>\n",
       "      <th>Age</th>\n",
       "      <th>Tenure</th>\n",
       "      <th>Balance</th>\n",
       "      <th>NumOfProducts</th>\n",
       "      <th>HasCrCard</th>\n",
       "      <th>IsActiveMember</th>\n",
       "      <th>EstimatedSalary</th>\n",
       "      <th>Exited</th>\n",
       "      <th>Complain</th>\n",
       "      <th>Satisfaction Score</th>\n",
       "      <th>Card Type</th>\n",
       "      <th>Point Earned</th>\n",
       "    </tr>\n",
       "  </thead>\n",
       "  <tbody>\n",
       "    <tr>\n",
       "      <th>0</th>\n",
       "      <td>1</td>\n",
       "      <td>15634602</td>\n",
       "      <td>Hargrave</td>\n",
       "      <td>619</td>\n",
       "      <td>France</td>\n",
       "      <td>Female</td>\n",
       "      <td>42</td>\n",
       "      <td>2</td>\n",
       "      <td>0.00</td>\n",
       "      <td>1</td>\n",
       "      <td>1</td>\n",
       "      <td>1</td>\n",
       "      <td>101348.88</td>\n",
       "      <td>1</td>\n",
       "      <td>1</td>\n",
       "      <td>2</td>\n",
       "      <td>DIAMOND</td>\n",
       "      <td>464</td>\n",
       "    </tr>\n",
       "    <tr>\n",
       "      <th>1</th>\n",
       "      <td>2</td>\n",
       "      <td>15647311</td>\n",
       "      <td>Hill</td>\n",
       "      <td>608</td>\n",
       "      <td>Spain</td>\n",
       "      <td>Female</td>\n",
       "      <td>41</td>\n",
       "      <td>1</td>\n",
       "      <td>83807.86</td>\n",
       "      <td>1</td>\n",
       "      <td>0</td>\n",
       "      <td>1</td>\n",
       "      <td>112542.58</td>\n",
       "      <td>0</td>\n",
       "      <td>1</td>\n",
       "      <td>3</td>\n",
       "      <td>DIAMOND</td>\n",
       "      <td>456</td>\n",
       "    </tr>\n",
       "    <tr>\n",
       "      <th>2</th>\n",
       "      <td>3</td>\n",
       "      <td>15619304</td>\n",
       "      <td>Onio</td>\n",
       "      <td>502</td>\n",
       "      <td>France</td>\n",
       "      <td>Female</td>\n",
       "      <td>42</td>\n",
       "      <td>8</td>\n",
       "      <td>159660.80</td>\n",
       "      <td>3</td>\n",
       "      <td>1</td>\n",
       "      <td>0</td>\n",
       "      <td>113931.57</td>\n",
       "      <td>1</td>\n",
       "      <td>1</td>\n",
       "      <td>3</td>\n",
       "      <td>DIAMOND</td>\n",
       "      <td>377</td>\n",
       "    </tr>\n",
       "    <tr>\n",
       "      <th>3</th>\n",
       "      <td>4</td>\n",
       "      <td>15701354</td>\n",
       "      <td>Boni</td>\n",
       "      <td>699</td>\n",
       "      <td>France</td>\n",
       "      <td>Female</td>\n",
       "      <td>39</td>\n",
       "      <td>1</td>\n",
       "      <td>0.00</td>\n",
       "      <td>2</td>\n",
       "      <td>0</td>\n",
       "      <td>0</td>\n",
       "      <td>93826.63</td>\n",
       "      <td>0</td>\n",
       "      <td>0</td>\n",
       "      <td>5</td>\n",
       "      <td>GOLD</td>\n",
       "      <td>350</td>\n",
       "    </tr>\n",
       "    <tr>\n",
       "      <th>4</th>\n",
       "      <td>5</td>\n",
       "      <td>15737888</td>\n",
       "      <td>Mitchell</td>\n",
       "      <td>850</td>\n",
       "      <td>Spain</td>\n",
       "      <td>Female</td>\n",
       "      <td>43</td>\n",
       "      <td>2</td>\n",
       "      <td>125510.82</td>\n",
       "      <td>1</td>\n",
       "      <td>1</td>\n",
       "      <td>1</td>\n",
       "      <td>79084.10</td>\n",
       "      <td>0</td>\n",
       "      <td>0</td>\n",
       "      <td>5</td>\n",
       "      <td>GOLD</td>\n",
       "      <td>425</td>\n",
       "    </tr>\n",
       "    <tr>\n",
       "      <th>...</th>\n",
       "      <td>...</td>\n",
       "      <td>...</td>\n",
       "      <td>...</td>\n",
       "      <td>...</td>\n",
       "      <td>...</td>\n",
       "      <td>...</td>\n",
       "      <td>...</td>\n",
       "      <td>...</td>\n",
       "      <td>...</td>\n",
       "      <td>...</td>\n",
       "      <td>...</td>\n",
       "      <td>...</td>\n",
       "      <td>...</td>\n",
       "      <td>...</td>\n",
       "      <td>...</td>\n",
       "      <td>...</td>\n",
       "      <td>...</td>\n",
       "      <td>...</td>\n",
       "    </tr>\n",
       "    <tr>\n",
       "      <th>9995</th>\n",
       "      <td>9996</td>\n",
       "      <td>15606229</td>\n",
       "      <td>Obijiaku</td>\n",
       "      <td>771</td>\n",
       "      <td>France</td>\n",
       "      <td>Male</td>\n",
       "      <td>39</td>\n",
       "      <td>5</td>\n",
       "      <td>0.00</td>\n",
       "      <td>2</td>\n",
       "      <td>1</td>\n",
       "      <td>0</td>\n",
       "      <td>96270.64</td>\n",
       "      <td>0</td>\n",
       "      <td>0</td>\n",
       "      <td>1</td>\n",
       "      <td>DIAMOND</td>\n",
       "      <td>300</td>\n",
       "    </tr>\n",
       "    <tr>\n",
       "      <th>9996</th>\n",
       "      <td>9997</td>\n",
       "      <td>15569892</td>\n",
       "      <td>Johnstone</td>\n",
       "      <td>516</td>\n",
       "      <td>France</td>\n",
       "      <td>Male</td>\n",
       "      <td>35</td>\n",
       "      <td>10</td>\n",
       "      <td>57369.61</td>\n",
       "      <td>1</td>\n",
       "      <td>1</td>\n",
       "      <td>1</td>\n",
       "      <td>101699.77</td>\n",
       "      <td>0</td>\n",
       "      <td>0</td>\n",
       "      <td>5</td>\n",
       "      <td>PLATINUM</td>\n",
       "      <td>771</td>\n",
       "    </tr>\n",
       "    <tr>\n",
       "      <th>9997</th>\n",
       "      <td>9998</td>\n",
       "      <td>15584532</td>\n",
       "      <td>Liu</td>\n",
       "      <td>709</td>\n",
       "      <td>France</td>\n",
       "      <td>Female</td>\n",
       "      <td>36</td>\n",
       "      <td>7</td>\n",
       "      <td>0.00</td>\n",
       "      <td>1</td>\n",
       "      <td>0</td>\n",
       "      <td>1</td>\n",
       "      <td>42085.58</td>\n",
       "      <td>1</td>\n",
       "      <td>1</td>\n",
       "      <td>3</td>\n",
       "      <td>SILVER</td>\n",
       "      <td>564</td>\n",
       "    </tr>\n",
       "    <tr>\n",
       "      <th>9998</th>\n",
       "      <td>9999</td>\n",
       "      <td>15682355</td>\n",
       "      <td>Sabbatini</td>\n",
       "      <td>772</td>\n",
       "      <td>Germany</td>\n",
       "      <td>Male</td>\n",
       "      <td>42</td>\n",
       "      <td>3</td>\n",
       "      <td>75075.31</td>\n",
       "      <td>2</td>\n",
       "      <td>1</td>\n",
       "      <td>0</td>\n",
       "      <td>92888.52</td>\n",
       "      <td>1</td>\n",
       "      <td>1</td>\n",
       "      <td>2</td>\n",
       "      <td>GOLD</td>\n",
       "      <td>339</td>\n",
       "    </tr>\n",
       "    <tr>\n",
       "      <th>9999</th>\n",
       "      <td>10000</td>\n",
       "      <td>15628319</td>\n",
       "      <td>Walker</td>\n",
       "      <td>792</td>\n",
       "      <td>France</td>\n",
       "      <td>Female</td>\n",
       "      <td>28</td>\n",
       "      <td>4</td>\n",
       "      <td>130142.79</td>\n",
       "      <td>1</td>\n",
       "      <td>1</td>\n",
       "      <td>0</td>\n",
       "      <td>38190.78</td>\n",
       "      <td>0</td>\n",
       "      <td>0</td>\n",
       "      <td>3</td>\n",
       "      <td>DIAMOND</td>\n",
       "      <td>911</td>\n",
       "    </tr>\n",
       "  </tbody>\n",
       "</table>\n",
       "<p>10000 rows × 18 columns</p>\n",
       "</div>"
      ],
      "text/plain": [
       "      RowNumber  CustomerId    Surname  CreditScore Geography  Gender  Age  \\\n",
       "0             1    15634602   Hargrave          619    France  Female   42   \n",
       "1             2    15647311       Hill          608     Spain  Female   41   \n",
       "2             3    15619304       Onio          502    France  Female   42   \n",
       "3             4    15701354       Boni          699    France  Female   39   \n",
       "4             5    15737888   Mitchell          850     Spain  Female   43   \n",
       "...         ...         ...        ...          ...       ...     ...  ...   \n",
       "9995       9996    15606229   Obijiaku          771    France    Male   39   \n",
       "9996       9997    15569892  Johnstone          516    France    Male   35   \n",
       "9997       9998    15584532        Liu          709    France  Female   36   \n",
       "9998       9999    15682355  Sabbatini          772   Germany    Male   42   \n",
       "9999      10000    15628319     Walker          792    France  Female   28   \n",
       "\n",
       "      Tenure    Balance  NumOfProducts  HasCrCard  IsActiveMember  \\\n",
       "0          2       0.00              1          1               1   \n",
       "1          1   83807.86              1          0               1   \n",
       "2          8  159660.80              3          1               0   \n",
       "3          1       0.00              2          0               0   \n",
       "4          2  125510.82              1          1               1   \n",
       "...      ...        ...            ...        ...             ...   \n",
       "9995       5       0.00              2          1               0   \n",
       "9996      10   57369.61              1          1               1   \n",
       "9997       7       0.00              1          0               1   \n",
       "9998       3   75075.31              2          1               0   \n",
       "9999       4  130142.79              1          1               0   \n",
       "\n",
       "      EstimatedSalary  Exited  Complain  Satisfaction Score Card Type  \\\n",
       "0           101348.88       1         1                   2   DIAMOND   \n",
       "1           112542.58       0         1                   3   DIAMOND   \n",
       "2           113931.57       1         1                   3   DIAMOND   \n",
       "3            93826.63       0         0                   5      GOLD   \n",
       "4            79084.10       0         0                   5      GOLD   \n",
       "...               ...     ...       ...                 ...       ...   \n",
       "9995         96270.64       0         0                   1   DIAMOND   \n",
       "9996        101699.77       0         0                   5  PLATINUM   \n",
       "9997         42085.58       1         1                   3    SILVER   \n",
       "9998         92888.52       1         1                   2      GOLD   \n",
       "9999         38190.78       0         0                   3   DIAMOND   \n",
       "\n",
       "      Point Earned  \n",
       "0              464  \n",
       "1              456  \n",
       "2              377  \n",
       "3              350  \n",
       "4              425  \n",
       "...            ...  \n",
       "9995           300  \n",
       "9996           771  \n",
       "9997           564  \n",
       "9998           339  \n",
       "9999           911  \n",
       "\n",
       "[10000 rows x 18 columns]"
      ]
     },
     "execution_count": 2,
     "metadata": {},
     "output_type": "execute_result"
    }
   ],
   "source": [
    "df = pd.read_csv('Customer-Churn-Records.csv')\n",
    "df"
   ]
  },
  {
   "cell_type": "markdown",
   "id": "cfd1bfc7-3381-4344-95d5-6cebd634c976",
   "metadata": {},
   "source": [
    "## Data Process"
   ]
  },
  {
   "cell_type": "markdown",
   "id": "1ce03934-486c-487e-8746-37a7b92a2289",
   "metadata": {},
   "source": [
    "### Null values"
   ]
  },
  {
   "cell_type": "code",
   "execution_count": 3,
   "id": "c2cb1795-6a6d-466e-b3f9-a359d04b455f",
   "metadata": {},
   "outputs": [
    {
     "data": {
      "text/plain": [
       "RowNumber             0\n",
       "CustomerId            0\n",
       "Surname               0\n",
       "CreditScore           0\n",
       "Geography             0\n",
       "Gender                0\n",
       "Age                   0\n",
       "Tenure                0\n",
       "Balance               0\n",
       "NumOfProducts         0\n",
       "HasCrCard             0\n",
       "IsActiveMember        0\n",
       "EstimatedSalary       0\n",
       "Exited                0\n",
       "Complain              0\n",
       "Satisfaction Score    0\n",
       "Card Type             0\n",
       "Point Earned          0\n",
       "dtype: int64"
      ]
     },
     "execution_count": 3,
     "metadata": {},
     "output_type": "execute_result"
    }
   ],
   "source": [
    "df.isnull().sum()"
   ]
  },
  {
   "cell_type": "markdown",
   "id": "94e348fe-c856-437b-8fe3-f15618db3d36",
   "metadata": {},
   "source": [
    "There is no null values in this DataFrame."
   ]
  },
  {
   "cell_type": "markdown",
   "id": "f69898be-03a8-40c1-9217-d8d1d3ddd32e",
   "metadata": {},
   "source": [
    "### Duplicates"
   ]
  },
  {
   "cell_type": "code",
   "execution_count": 4,
   "id": "1edb2da7-cb7f-4521-b477-4f266680fa6a",
   "metadata": {},
   "outputs": [
    {
     "name": "stdout",
     "output_type": "stream",
     "text": [
      "Number of duplicated rows:  0\n"
     ]
    }
   ],
   "source": [
    "duplicated_rows = df.duplicated() \n",
    "print('Number of duplicated rows: ', duplicated_rows.sum())"
   ]
  },
  {
   "cell_type": "markdown",
   "id": "6cbe3ad0-37e5-4410-b946-8dc4124b67b9",
   "metadata": {},
   "source": [
    "### Data Types"
   ]
  },
  {
   "cell_type": "code",
   "execution_count": 5,
   "id": "866bb7e9-ee7e-4afe-83e7-ea31442acf9b",
   "metadata": {},
   "outputs": [
    {
     "data": {
      "text/plain": [
       "RowNumber               int64\n",
       "CustomerId              int64\n",
       "Surname                object\n",
       "CreditScore             int64\n",
       "Geography              object\n",
       "Gender                 object\n",
       "Age                     int64\n",
       "Tenure                  int64\n",
       "Balance               float64\n",
       "NumOfProducts           int64\n",
       "HasCrCard               int64\n",
       "IsActiveMember          int64\n",
       "EstimatedSalary       float64\n",
       "Exited                  int64\n",
       "Complain                int64\n",
       "Satisfaction Score      int64\n",
       "Card Type              object\n",
       "Point Earned            int64\n",
       "dtype: object"
      ]
     },
     "execution_count": 5,
     "metadata": {},
     "output_type": "execute_result"
    }
   ],
   "source": [
    "df.dtypes"
   ]
  },
  {
   "cell_type": "markdown",
   "id": "fd4ee9e4-e90e-4dfc-b63b-b36f1bb61a31",
   "metadata": {},
   "source": [
    "### High Correlation Filter"
   ]
  },
  {
   "cell_type": "code",
   "execution_count": 6,
   "id": "680f581b-c312-49be-ace1-dde3c817e85c",
   "metadata": {},
   "outputs": [
    {
     "data": {
      "text/html": [
       "<div>\n",
       "<style scoped>\n",
       "    .dataframe tbody tr th:only-of-type {\n",
       "        vertical-align: middle;\n",
       "    }\n",
       "\n",
       "    .dataframe tbody tr th {\n",
       "        vertical-align: top;\n",
       "    }\n",
       "\n",
       "    .dataframe thead th {\n",
       "        text-align: right;\n",
       "    }\n",
       "</style>\n",
       "<table border=\"1\" class=\"dataframe\">\n",
       "  <thead>\n",
       "    <tr style=\"text-align: right;\">\n",
       "      <th></th>\n",
       "      <th>CreditScore</th>\n",
       "      <th>Age</th>\n",
       "      <th>Tenure</th>\n",
       "      <th>Balance</th>\n",
       "      <th>NumOfProducts</th>\n",
       "      <th>EstimatedSalary</th>\n",
       "      <th>Exited</th>\n",
       "      <th>Complain</th>\n",
       "      <th>Point Earned</th>\n",
       "    </tr>\n",
       "  </thead>\n",
       "  <tbody>\n",
       "    <tr>\n",
       "      <th>CreditScore</th>\n",
       "      <td>NaN</td>\n",
       "      <td>NaN</td>\n",
       "      <td>NaN</td>\n",
       "      <td>NaN</td>\n",
       "      <td>NaN</td>\n",
       "      <td>NaN</td>\n",
       "      <td>NaN</td>\n",
       "      <td>NaN</td>\n",
       "      <td>NaN</td>\n",
       "    </tr>\n",
       "    <tr>\n",
       "      <th>Age</th>\n",
       "      <td>-0.003965</td>\n",
       "      <td>NaN</td>\n",
       "      <td>NaN</td>\n",
       "      <td>NaN</td>\n",
       "      <td>NaN</td>\n",
       "      <td>NaN</td>\n",
       "      <td>NaN</td>\n",
       "      <td>NaN</td>\n",
       "      <td>NaN</td>\n",
       "    </tr>\n",
       "    <tr>\n",
       "      <th>Tenure</th>\n",
       "      <td>0.000842</td>\n",
       "      <td>-0.009997</td>\n",
       "      <td>NaN</td>\n",
       "      <td>NaN</td>\n",
       "      <td>NaN</td>\n",
       "      <td>NaN</td>\n",
       "      <td>NaN</td>\n",
       "      <td>NaN</td>\n",
       "      <td>NaN</td>\n",
       "    </tr>\n",
       "    <tr>\n",
       "      <th>Balance</th>\n",
       "      <td>0.006268</td>\n",
       "      <td>0.028308</td>\n",
       "      <td>-0.012254</td>\n",
       "      <td>NaN</td>\n",
       "      <td>NaN</td>\n",
       "      <td>NaN</td>\n",
       "      <td>NaN</td>\n",
       "      <td>NaN</td>\n",
       "      <td>NaN</td>\n",
       "    </tr>\n",
       "    <tr>\n",
       "      <th>NumOfProducts</th>\n",
       "      <td>0.012238</td>\n",
       "      <td>-0.030680</td>\n",
       "      <td>0.013444</td>\n",
       "      <td>-0.304180</td>\n",
       "      <td>NaN</td>\n",
       "      <td>NaN</td>\n",
       "      <td>NaN</td>\n",
       "      <td>NaN</td>\n",
       "      <td>NaN</td>\n",
       "    </tr>\n",
       "    <tr>\n",
       "      <th>EstimatedSalary</th>\n",
       "      <td>-0.001384</td>\n",
       "      <td>-0.007201</td>\n",
       "      <td>0.007784</td>\n",
       "      <td>0.012797</td>\n",
       "      <td>0.014204</td>\n",
       "      <td>NaN</td>\n",
       "      <td>NaN</td>\n",
       "      <td>NaN</td>\n",
       "      <td>NaN</td>\n",
       "    </tr>\n",
       "    <tr>\n",
       "      <th>Exited</th>\n",
       "      <td>-0.026771</td>\n",
       "      <td>0.285296</td>\n",
       "      <td>-0.013656</td>\n",
       "      <td>0.118577</td>\n",
       "      <td>-0.047611</td>\n",
       "      <td>0.012490</td>\n",
       "      <td>NaN</td>\n",
       "      <td>NaN</td>\n",
       "      <td>NaN</td>\n",
       "    </tr>\n",
       "    <tr>\n",
       "      <th>Complain</th>\n",
       "      <td>-0.027048</td>\n",
       "      <td>0.283530</td>\n",
       "      <td>-0.013047</td>\n",
       "      <td>0.119124</td>\n",
       "      <td>-0.046357</td>\n",
       "      <td>0.012494</td>\n",
       "      <td>0.995693</td>\n",
       "      <td>NaN</td>\n",
       "      <td>NaN</td>\n",
       "    </tr>\n",
       "    <tr>\n",
       "      <th>Point Earned</th>\n",
       "      <td>0.000077</td>\n",
       "      <td>0.002222</td>\n",
       "      <td>-0.010196</td>\n",
       "      <td>0.014608</td>\n",
       "      <td>-0.015330</td>\n",
       "      <td>-0.001515</td>\n",
       "      <td>-0.004628</td>\n",
       "      <td>-0.002893</td>\n",
       "      <td>NaN</td>\n",
       "    </tr>\n",
       "  </tbody>\n",
       "</table>\n",
       "</div>"
      ],
      "text/plain": [
       "                 CreditScore       Age    Tenure   Balance  NumOfProducts  \\\n",
       "CreditScore              NaN       NaN       NaN       NaN            NaN   \n",
       "Age                -0.003965       NaN       NaN       NaN            NaN   \n",
       "Tenure              0.000842 -0.009997       NaN       NaN            NaN   \n",
       "Balance             0.006268  0.028308 -0.012254       NaN            NaN   \n",
       "NumOfProducts       0.012238 -0.030680  0.013444 -0.304180            NaN   \n",
       "EstimatedSalary    -0.001384 -0.007201  0.007784  0.012797       0.014204   \n",
       "Exited             -0.026771  0.285296 -0.013656  0.118577      -0.047611   \n",
       "Complain           -0.027048  0.283530 -0.013047  0.119124      -0.046357   \n",
       "Point Earned        0.000077  0.002222 -0.010196  0.014608      -0.015330   \n",
       "\n",
       "                 EstimatedSalary    Exited  Complain  Point Earned  \n",
       "CreditScore                  NaN       NaN       NaN           NaN  \n",
       "Age                          NaN       NaN       NaN           NaN  \n",
       "Tenure                       NaN       NaN       NaN           NaN  \n",
       "Balance                      NaN       NaN       NaN           NaN  \n",
       "NumOfProducts                NaN       NaN       NaN           NaN  \n",
       "EstimatedSalary              NaN       NaN       NaN           NaN  \n",
       "Exited                  0.012490       NaN       NaN           NaN  \n",
       "Complain                0.012494  0.995693       NaN           NaN  \n",
       "Point Earned           -0.001515 -0.004628 -0.002893           NaN  "
      ]
     },
     "metadata": {},
     "output_type": "display_data"
    }
   ],
   "source": [
    "X = df.drop(['RowNumber', 'CustomerId', 'Surname','HasCrCard', 'IsActiveMember', 'Satisfaction Score', 'Card Type', 'Gender', 'Geography'], axis=1)\n",
    "\n",
    "# correlation matrix \n",
    "cor_mat = X.corr()\n",
    "\n",
    "# Bit of crazy numpy. We are getting the triangular matrix \n",
    "# the same size as our correlation matrix, with just Trues and \n",
    "# Falses, to then use in a mask. (you can just copy paste this though) \n",
    "lower_triangle_mask = np.triu(np.ones(cor_mat.shape)).astype('bool')\n",
    "\n",
    "# Now mask the correlation matrix, keeping only the lower triangle \n",
    "cor_mat_lower = cor_mat.mask(lower_triangle_mask)\n",
    "\n",
    "# Et voila! \n",
    "display(cor_mat_lower)"
   ]
  },
  {
   "cell_type": "code",
   "execution_count": 7,
   "id": "be6dce88-1a69-46c7-b89b-75860013ef3e",
   "metadata": {},
   "outputs": [
    {
     "data": {
      "image/png": "[encoded data removed]",
      "text/plain": [
       "<Figure size 500x300 with 2 Axes>"
      ]
     },
     "metadata": {},
     "output_type": "display_data"
    }
   ],
   "source": [
    "plt.figure(figsize = (5,3)) # <-- just sets the figure size \n",
    "\n",
    "sns.heatmap(cor_mat_lower, \n",
    "            annot=True,     # <-- write the numbers on the squares\n",
    "            cmap='RdBu_r'); # <-- use a \"red into blue, reversed\" colormap "
   ]
  },
  {
   "cell_type": "markdown",
   "id": "ab1fb0b9-7980-4854-b825-a2069158e85d",
   "metadata": {},
   "source": [
    "When analyzing the high correlation of 0.996, between the 'Exited' and 'Complain' variables, it becomes evident that including 'Complain' in the predictive model may be redundant. This is because we are interested in predicting the 'Exited' variable even before any complaints from the customer, aiming to identify the factors contributing to the bank's customer churn. In this context, the presence of a complaint is an obvious indicator of a higher likelihood of churn. Therefore, the decision to remove 'Complain' from the training and testing datasets of the model is justified not only to simplify the model but also to avoid multicollinearity issues and focus on the most relevant variables for the desired prediction. This results in a more effective and interpretable model, capable of providing clear insights into the factors influencing customer churn in the bank."
   ]
  },
  {
   "cell_type": "markdown",
   "id": "ecd8eceb-5bfc-4e25-bb9a-2e6704c58bd4",
   "metadata": {},
   "source": [
    "### Selected Variables"
   ]
  },
  {
   "cell_type": "code",
   "execution_count": 8,
   "id": "b5503cde-d01a-4528-b632-0b6884f70350",
   "metadata": {},
   "outputs": [],
   "source": [
    "numerical_variables = df[['CreditScore', 'Age', 'Tenure', 'Balance', 'NumOfProducts', 'EstimatedSalary', 'Point Earned']]\n",
    "categorical_variables = df[['HasCrCard', 'IsActiveMember', 'Satisfaction Score', 'Card Type', 'Gender', 'Geography']]\n",
    "excluded_variables = df[['RowNumber', 'CustomerId', 'Complain', 'Surname']]\n",
    "target = df['Exited']"
   ]
  },
  {
   "cell_type": "markdown",
   "id": "66c26bab-6277-43a7-83e1-7195743efbce",
   "metadata": {},
   "source": [
    "## Descriptive Data Analysis"
   ]
  },
  {
   "cell_type": "markdown",
   "id": "364f1aa0-b8b7-4597-b9d8-c84f3f9a87c7",
   "metadata": {},
   "source": [
    "The '.describe()' method was used to generate descriptive statistics of the numeric variables of the DataFrame. It provides information such as the count, mean, standard deviation, minimum, 25th percentile (Q1), median (50th percentile or Q2), 75th percentile (Q3), and maximum. This summary helps to understand the distribution and characteristics of the data."
   ]
  },
  {
   "cell_type": "code",
   "execution_count": 9,
   "id": "055006e3-93a1-44c7-bc5e-02058cf8e319",
   "metadata": {},
   "outputs": [
    {
     "data": {
      "text/html": [
       "<div>\n",
       "<style scoped>\n",
       "    .dataframe tbody tr th:only-of-type {\n",
       "        vertical-align: middle;\n",
       "    }\n",
       "\n",
       "    .dataframe tbody tr th {\n",
       "        vertical-align: top;\n",
       "    }\n",
       "\n",
       "    .dataframe thead th {\n",
       "        text-align: right;\n",
       "    }\n",
       "</style>\n",
       "<table border=\"1\" class=\"dataframe\">\n",
       "  <thead>\n",
       "    <tr style=\"text-align: right;\">\n",
       "      <th></th>\n",
       "      <th>CreditScore</th>\n",
       "      <th>Age</th>\n",
       "      <th>Tenure</th>\n",
       "      <th>Balance</th>\n",
       "      <th>NumOfProducts</th>\n",
       "      <th>EstimatedSalary</th>\n",
       "      <th>Point Earned</th>\n",
       "    </tr>\n",
       "  </thead>\n",
       "  <tbody>\n",
       "    <tr>\n",
       "      <th>count</th>\n",
       "      <td>10000.000000</td>\n",
       "      <td>10000.000000</td>\n",
       "      <td>10000.000000</td>\n",
       "      <td>10000.000000</td>\n",
       "      <td>10000.000000</td>\n",
       "      <td>10000.000000</td>\n",
       "      <td>10000.000000</td>\n",
       "    </tr>\n",
       "    <tr>\n",
       "      <th>mean</th>\n",
       "      <td>650.528800</td>\n",
       "      <td>38.921800</td>\n",
       "      <td>5.012800</td>\n",
       "      <td>76485.889288</td>\n",
       "      <td>1.530200</td>\n",
       "      <td>100090.239881</td>\n",
       "      <td>606.515100</td>\n",
       "    </tr>\n",
       "    <tr>\n",
       "      <th>std</th>\n",
       "      <td>96.653299</td>\n",
       "      <td>10.487806</td>\n",
       "      <td>2.892174</td>\n",
       "      <td>62397.405202</td>\n",
       "      <td>0.581654</td>\n",
       "      <td>57510.492818</td>\n",
       "      <td>225.924839</td>\n",
       "    </tr>\n",
       "    <tr>\n",
       "      <th>min</th>\n",
       "      <td>350.000000</td>\n",
       "      <td>18.000000</td>\n",
       "      <td>0.000000</td>\n",
       "      <td>0.000000</td>\n",
       "      <td>1.000000</td>\n",
       "      <td>11.580000</td>\n",
       "      <td>119.000000</td>\n",
       "    </tr>\n",
       "    <tr>\n",
       "      <th>25%</th>\n",
       "      <td>584.000000</td>\n",
       "      <td>32.000000</td>\n",
       "      <td>3.000000</td>\n",
       "      <td>0.000000</td>\n",
       "      <td>1.000000</td>\n",
       "      <td>51002.110000</td>\n",
       "      <td>410.000000</td>\n",
       "    </tr>\n",
       "    <tr>\n",
       "      <th>50%</th>\n",
       "      <td>652.000000</td>\n",
       "      <td>37.000000</td>\n",
       "      <td>5.000000</td>\n",
       "      <td>97198.540000</td>\n",
       "      <td>1.000000</td>\n",
       "      <td>100193.915000</td>\n",
       "      <td>605.000000</td>\n",
       "    </tr>\n",
       "    <tr>\n",
       "      <th>75%</th>\n",
       "      <td>718.000000</td>\n",
       "      <td>44.000000</td>\n",
       "      <td>7.000000</td>\n",
       "      <td>127644.240000</td>\n",
       "      <td>2.000000</td>\n",
       "      <td>149388.247500</td>\n",
       "      <td>801.000000</td>\n",
       "    </tr>\n",
       "    <tr>\n",
       "      <th>max</th>\n",
       "      <td>850.000000</td>\n",
       "      <td>92.000000</td>\n",
       "      <td>10.000000</td>\n",
       "      <td>250898.090000</td>\n",
       "      <td>4.000000</td>\n",
       "      <td>199992.480000</td>\n",
       "      <td>1000.000000</td>\n",
       "    </tr>\n",
       "  </tbody>\n",
       "</table>\n",
       "</div>"
      ],
      "text/plain": [
       "        CreditScore           Age        Tenure        Balance  NumOfProducts  \\\n",
       "count  10000.000000  10000.000000  10000.000000   10000.000000   10000.000000   \n",
       "mean     650.528800     38.921800      5.012800   76485.889288       1.530200   \n",
       "std       96.653299     10.487806      2.892174   62397.405202       0.581654   \n",
       "min      350.000000     18.000000      0.000000       0.000000       1.000000   \n",
       "25%      584.000000     32.000000      3.000000       0.000000       1.000000   \n",
       "50%      652.000000     37.000000      5.000000   97198.540000       1.000000   \n",
       "75%      718.000000     44.000000      7.000000  127644.240000       2.000000   \n",
       "max      850.000000     92.000000     10.000000  250898.090000       4.000000   \n",
       "\n",
       "       EstimatedSalary  Point Earned  \n",
       "count     10000.000000  10000.000000  \n",
       "mean     100090.239881    606.515100  \n",
       "std       57510.492818    225.924839  \n",
       "min          11.580000    119.000000  \n",
       "25%       51002.110000    410.000000  \n",
       "50%      100193.915000    605.000000  \n",
       "75%      149388.247500    801.000000  \n",
       "max      199992.480000   1000.000000  "
      ]
     },
     "execution_count": 9,
     "metadata": {},
     "output_type": "execute_result"
    }
   ],
   "source": [
    "numerical_variables.describe()"
   ]
  },
  {
   "cell_type": "markdown",
   "id": "c44a5f33-98ae-415a-a97a-e688766798de",
   "metadata": {},
   "source": [
    "## Analysis of the Distribution of Numerical Variables"
   ]
  },
  {
   "cell_type": "code",
   "execution_count": 10,
   "id": "130d0550-7668-4800-b677-d548dd68dcaf",
   "metadata": {},
   "outputs": [
    {
     "data": {
      "text/plain": [
       "<Figure size 2000x1200 with 0 Axes>"
      ]
     },
     "metadata": {},
     "output_type": "display_data"
    },
    {
     "data": {
      "image/png": "[encoded data removed]",
      "text/plain": [
       "<Figure size 640x480 with 9 Axes>"
      ]
     },
     "metadata": {},
     "output_type": "display_data"
    }
   ],
   "source": [
    "plt.figure(figsize=(20, 12))\n",
    "numerical_variables.hist(bins=20) \n",
    "plt.xticks(rotation=45)  \n",
    "plt.subplots_adjust(wspace=0.7, hspace=0.8)\n",
    "plt.show()"
   ]
  },
  {
   "cell_type": "markdown",
   "id": "68933613-b02f-4dcc-be1d-314ce8968b13",
   "metadata": {},
   "source": [
    "## Pre-processing"
   ]
  },
  {
   "cell_type": "markdown",
   "id": "7469162a-24bb-469e-a3c7-b5165617bfbc",
   "metadata": {},
   "source": [
    "### Validation Techniques (Train-Test Split)"
   ]
  },
  {
   "cell_type": "markdown",
   "id": "6e7abcd6-e1bd-4d2b-a62a-39ee5acc4683",
   "metadata": {},
   "source": [
    "The dataset is divided into two parts: a training set used to train the model and a separate test set used to evaluate its performance.\n"
   ]
  },
  {
   "cell_type": "code",
   "execution_count": 11,
   "id": "3a8ce71c-8bb4-411d-9c40-5db1923c44f1",
   "metadata": {},
   "outputs": [],
   "source": [
    "X = df.drop(['Exited','RowNumber', 'CustomerId', 'Complain', 'Surname'], axis=1) \n",
    "y = df['Exited']"
   ]
  },
  {
   "cell_type": "code",
   "execution_count": 12,
   "id": "411bbc97-ddc0-4290-be55-efeab6e5883e",
   "metadata": {},
   "outputs": [],
   "source": [
    "X_train, X_test, y_train, y_test = train_test_split(X, y, test_size=0.3, random_state=42)"
   ]
  },
  {
   "cell_type": "markdown",
   "id": "c370ee0a-19d3-475f-b14c-ec9a7572794f",
   "metadata": {},
   "source": [
    "I separated the training and testing sets after the split based on their variable types: numerical and categorical. I did this to simplify the subsequent preprocessing steps, such as applying one-hot encoding for categorical variables and MinMax normalization for numerical variables.\n",
    "\n",
    "After applying these preprocessing steps to each set separately, I merged them back into a single training set and a single testing set. This ensured consistency between variables and prepared the data to be fed into a machine learning model.\n",
    "\n",
    "This approach proved useful because different preprocessing techniques are typically applied to different types of variables. By initially separating the training and testing sets, I could apply these techniques in isolation, avoiding any leakage of information from the testing set to the training set during preprocessing."
   ]
  },
  {
   "cell_type": "code",
   "execution_count": 13,
   "id": "d97a3a5f-8e93-45b2-97eb-e05379fbdd2d",
   "metadata": {},
   "outputs": [],
   "source": [
    "X_train_num = X_train[['CreditScore', 'Age', 'Tenure', 'Balance', 'NumOfProducts', 'EstimatedSalary', 'Point Earned']]"
   ]
  },
  {
   "cell_type": "code",
   "execution_count": 14,
   "id": "6720611a-88a2-4c05-8041-2a3f15baa2dd",
   "metadata": {},
   "outputs": [],
   "source": [
    "X_train_cat = X_train[['HasCrCard', 'IsActiveMember', 'Satisfaction Score', 'Card Type', 'Gender', 'Geography']]"
   ]
  },
  {
   "cell_type": "code",
   "execution_count": 15,
   "id": "2f28e2fb-6c41-4acf-8734-ad10e101884c",
   "metadata": {},
   "outputs": [],
   "source": [
    "X_test_num = X_test[['CreditScore', 'Age', 'Tenure', 'Balance', 'NumOfProducts', 'EstimatedSalary', 'Point Earned']]"
   ]
  },
  {
   "cell_type": "code",
   "execution_count": 16,
   "id": "fe4428cb-4ff9-4478-a381-4f32cb9aac6a",
   "metadata": {},
   "outputs": [],
   "source": [
    "X_test_cat = X_test[['HasCrCard', 'IsActiveMember', 'Satisfaction Score', 'Card Type', 'Gender', 'Geography']]"
   ]
  },
  {
   "cell_type": "markdown",
   "id": "01aba920-b4bd-4525-a4ed-2df732b7f31d",
   "metadata": {},
   "source": [
    "### Feature Normalization"
   ]
  },
  {
   "cell_type": "markdown",
   "id": "18dd22b4-ff26-437c-9d6c-4af659843829",
   "metadata": {},
   "source": [
    "MinMaxScaler was applied. It is a feature normalization technique widely used in data preprocessing. Its main function is to resize numeric variables values between 0 and 1."
   ]
  },
  {
   "cell_type": "code",
   "execution_count": 17,
   "id": "cf68b4ae-2ad5-4fbb-bcd9-b81d16782d84",
   "metadata": {},
   "outputs": [],
   "source": [
    "scaler_minmax = MinMaxScaler()\n",
    "X_train_num = scaler_minmax.fit_transform(X_train_num)\n",
    "X_test_num = scaler_minmax.transform(X_test_num)\n"
   ]
  },
  {
   "cell_type": "code",
   "execution_count": 18,
   "id": "9aa82102-4a91-446c-bea3-82a9c0a60f25",
   "metadata": {},
   "outputs": [],
   "source": [
    "X_train_num_df = pd.DataFrame(X_train_num, columns=['CreditScore', 'Age', 'Tenure', 'Balance', 'NumOfProducts', 'EstimatedSalary', 'Point Earned'])"
   ]
  },
  {
   "cell_type": "code",
   "execution_count": 19,
   "id": "528cccd1-abce-484f-b29c-1a9803d0e014",
   "metadata": {},
   "outputs": [],
   "source": [
    "X_test_num_df = pd.DataFrame(X_test_num, columns=['CreditScore', 'Age', 'Tenure', 'Balance', 'NumOfProducts', 'EstimatedSalary', 'Point Earned'])"
   ]
  },
  {
   "cell_type": "markdown",
   "id": "630af25d-512c-4737-a628-d39fa3b1df8e",
   "metadata": {},
   "source": [
    "### One-hot Encoding"
   ]
  },
  {
   "cell_type": "markdown",
   "id": "e5cfa111-2622-4069-bb55-121be33a0a05",
   "metadata": {},
   "source": [
    "One-hot encoding is a popular technique for handling categorical variables. Where each category is transformed into a binary vector (with a value of 1 indicating the presence of that category and 0 indicating absence).\n",
    "It is particularly useful because it allows machine learning algorithms to work with categorical data, which are typically non-numeric, in a format that they can understand."
   ]
  },
  {
   "cell_type": "code",
   "execution_count": 20,
   "id": "a713c579-2bcc-419f-8ee9-f76b827cdc6b",
   "metadata": {},
   "outputs": [],
   "source": [
    "encoder = OneHotEncoder(drop='first') \n",
    "X_train_cat = encoder.fit_transform(X_train_cat)\n",
    "X_test_cat = encoder.transform(X_test_cat)"
   ]
  },
  {
   "cell_type": "code",
   "execution_count": 21,
   "id": "13971142-6a59-437f-9133-f643b0dee50c",
   "metadata": {},
   "outputs": [],
   "source": [
    "X_train_cat_df = pd.DataFrame(\n",
    "    X_train_cat.toarray(),\n",
    "    columns=encoder.get_feature_names_out(['HasCrCard', 'IsActiveMember', 'Satisfaction Score', 'Card Type', 'Gender', 'Geography'])\n",
    ")"
   ]
  },
  {
   "cell_type": "code",
   "execution_count": 22,
   "id": "2498155a-01a2-40d8-ba25-4da465c96ec4",
   "metadata": {},
   "outputs": [],
   "source": [
    "X_test_cat_df = pd.DataFrame(\n",
    "    X_test_cat.toarray(),\n",
    "    columns=encoder.get_feature_names_out(['HasCrCard', 'IsActiveMember', 'Satisfaction Score', 'Card Type', 'Gender', 'Geography'])\n",
    ")"
   ]
  },
  {
   "cell_type": "markdown",
   "id": "0193f931-6d0c-435b-b9ce-1416d39392ea",
   "metadata": {},
   "source": [
    "### Independent Variables Concatenation (X_train, X_test)"
   ]
  },
  {
   "cell_type": "code",
   "execution_count": 23,
   "id": "5ad53eeb-709a-49a4-a547-3eec42630ee5",
   "metadata": {},
   "outputs": [],
   "source": [
    "X_train = pd.concat([X_train_num_df, X_train_cat_df], axis=1)\n",
    "X_test = pd.concat([X_test_num_df, X_test_cat_df], axis=1)"
   ]
  },
  {
   "cell_type": "markdown",
   "id": "08b5db18-9f06-40bb-874d-b717b6dd6944",
   "metadata": {},
   "source": [
    "### Imbalanced Dataset Techniques"
   ]
  },
  {
   "cell_type": "markdown",
   "id": "e2f531ca-5694-4ce5-8c56-a42f154330bf",
   "metadata": {},
   "source": [
    "In real-world scenarios, datasets often exhibit class imbalances, where one class significantly outnumbers the others. This can pose challenges for machine learning models, as they may struggle to effectively learn from the minority class examples, leading to biased predictions.  \n",
    "\n",
    "To address this issue, various techniques have been developed to balance the dataset distribution. Two common approaches are Tomek Links, which focuses on removing examples from the majority class that are near the decision boundary, and Borderline-SMOTE, which synthesizes new examples for the minority class.  \n",
    "\n",
    "To determine the most suitable technique for this particular dataset, I applyed these methods and evaluated the performance of XGBClassifier. By comparing metrics like mean absolute error across different techniques, it becomes possible to identify the approach that enhances more accurate predictions."
   ]
  },
  {
   "cell_type": "markdown",
   "id": "9dbf0ed0-08c6-4be8-9ffe-6a74b9a6e069",
   "metadata": {},
   "source": [
    "#### Tomek Links (underfitting)"
   ]
  },
  {
   "cell_type": "code",
   "execution_count": 24,
   "id": "555d05d2-2aef-4677-a46e-b439eae6a623",
   "metadata": {},
   "outputs": [
    {
     "name": "stdout",
     "output_type": "stream",
     "text": [
      "Counter({0: 5073, 1: 1454})\n",
      "MAE: 0.139\n"
     ]
    }
   ],
   "source": [
    "# define the undersampling method\n",
    "tom = TomekLinks()\n",
    "\n",
    "# transform the dataset\n",
    "X_tom, y_tom = tom.fit_resample(X_train, y_train)\n",
    "\n",
    "# summarize the new class distribution\n",
    "counter = Counter(y_tom)\n",
    "print(counter)\n",
    "\n",
    "# fit the model\n",
    "model = XGBClassifier(random_state=42)\n",
    "model.fit(X_tom, y_tom)\n",
    "\n",
    "# evaluate the model\n",
    "yhat = model.predict(X_test)\n",
    "\n",
    "# evaluate predictions\n",
    "mae = mean_absolute_error(y_test, yhat)\n",
    "print('MAE: %.3f' % mae)"
   ]
  },
  {
   "cell_type": "markdown",
   "id": "44552548-1728-404f-ada8-41f10dfc7b88",
   "metadata": {},
   "source": [
    "#### Borderline-SMOTE (overfitting)"
   ]
  },
  {
   "cell_type": "code",
   "execution_count": 25,
   "id": "7651b0d4-3327-491d-b980-1b71b3bda36d",
   "metadata": {},
   "outputs": [
    {
     "name": "stdout",
     "output_type": "stream",
     "text": [
      "Counter({1: 5546, 0: 5546})\n",
      "MAE: 0.145\n"
     ]
    }
   ],
   "source": [
    "# define the undersampling method\n",
    "bsmt = BorderlineSMOTE()\n",
    "\n",
    "# transform the dataset\n",
    "X_bsmt, y_bsmt = bsmt.fit_resample(X_train, y_train)\n",
    "\n",
    "# summarize the new class distribution\n",
    "counter = Counter(y_bsmt)\n",
    "print(counter)\n",
    "\n",
    "# fit the model\n",
    "model = XGBClassifier(random_state=42)\n",
    "model.fit(X_bsmt, y_bsmt)\n",
    "\n",
    "# evaluate the model\n",
    "yhat = model.predict(X_test)\n",
    "\n",
    "# evaluate predictions\n",
    "mae = mean_absolute_error(y_test, yhat)\n",
    "print('MAE: %.3f' % mae)"
   ]
  },
  {
   "cell_type": "markdown",
   "id": "e9700187-e609-426c-b59e-151e4b98fdfe",
   "metadata": {},
   "source": [
    "### Outlier Detection"
   ]
  },
  {
   "cell_type": "markdown",
   "id": "366f17d1-1421-4dd8-9a53-1f380c7f3b25",
   "metadata": {},
   "source": [
    "Outliers are data points that deviate significantly from the majority of the data, potentially indicating anomalies, errors, or interesting patterns.\n",
    "\n",
    "To address this challenge, I've explored various outlier detection techniques, among which Isolation Forest and Minimum Covariance Determinant (MCD). Isolation Forest leverages the concept of decision trees to isolate outliers by partitioning the data into subsets, while MCD estimates the parameters of a multivariate Gaussian distribution to identify outliers based on their distance from the center of the data distribution.  \n",
    "\n",
    "To determine the most suitable outlier detection technique, I applyed these methods and evaluated the performance of XGBClassifier. By comparing metrics like mean absolute error across different techniques, it becomes possible to identify the approach that enhances more accurate predictions."
   ]
  },
  {
   "cell_type": "markdown",
   "id": "f415e656-7f4c-46b6-b82a-ec1ab074f6a6",
   "metadata": {},
   "source": [
    "#### Isolation Forest"
   ]
  },
  {
   "cell_type": "code",
   "execution_count": 26,
   "id": "0d55cf1f-3130-4d72-8ec6-89fe6056710a",
   "metadata": {},
   "outputs": [
    {
     "name": "stdout",
     "output_type": "stream",
     "text": [
      "(6527, 19) (6527,)\n",
      "(5874, 19) (5874,)\n",
      "MAE: 0.1433333333\n"
     ]
    }
   ],
   "source": [
    "# summarize the shape of the training dataset\n",
    "print(X_tom.shape, y_tom.shape)\n",
    "\n",
    "# identify outliers in the training dataset\n",
    "iso = IsolationForest(contamination=0.1)\n",
    "y_iso = iso.fit_predict(X_tom)\n",
    "\n",
    "# select all rows that are not outliers\n",
    "mask = y_iso != -1\n",
    "X_train_iso, y_train_iso = X_tom[mask], y_tom[mask]\n",
    "\n",
    "# summarize the shape of the updated training dataset\n",
    "print(X_train_iso.shape, y_train_iso.shape)\n",
    "\n",
    "# fit the model\n",
    "model = XGBClassifier(random_state=42)\n",
    "model.fit(X_train_iso, y_train_iso)\n",
    "\n",
    "# evaluate the model\n",
    "yhat = model.predict(X_test)\n",
    "\n",
    "# evaluate predictions\n",
    "mae = mean_absolute_error(y_test, yhat)\n",
    "print('MAE: %.10f' % mae)"
   ]
  },
  {
   "cell_type": "markdown",
   "id": "4d784c91-1817-4bd7-af08-29f0054b6006",
   "metadata": {},
   "source": [
    "#### Minimum Covariance Determinant"
   ]
  },
  {
   "cell_type": "code",
   "execution_count": 27,
   "id": "0d9fa70b-18ec-4ce4-9647-1901d8b723ac",
   "metadata": {},
   "outputs": [
    {
     "name": "stdout",
     "output_type": "stream",
     "text": [
      "(6527, 19) (6527,)\n",
      "(6461, 19) (6461,)\n",
      "MAE: 0.1446666667\n"
     ]
    }
   ],
   "source": [
    "# summarize the shape of the training dataset\n",
    "print(X_tom.shape, y_tom.shape)\n",
    "\n",
    "# identify outliers in the training dataset\n",
    "ee = EllipticEnvelope(contamination=0.01)\n",
    "y_ee = ee.fit_predict(X_tom)\n",
    "\n",
    "# select all rows that are not outliers\n",
    "mask = y_ee != -1\n",
    "X_train_ee, y_train_ee = X_tom[mask], y_tom[mask]\n",
    "\n",
    "\n",
    "# summarize the shape of the updated training dataset\n",
    "print(X_train_ee.shape, y_train_ee.shape)\n",
    "\n",
    "# fit the model\n",
    "model = XGBClassifier(random_state=42)\n",
    "model.fit(X_train_ee, y_train_ee)\n",
    "\n",
    "# evaluate the model\n",
    "yhat = model.predict(X_test)\n",
    "\n",
    "# evaluate predictions\n",
    "mae = mean_absolute_error(y_test, yhat)\n",
    "print('MAE: %.10f' % mae)"
   ]
  },
  {
   "cell_type": "markdown",
   "id": "5a12b27f-7116-41b0-8eff-d450b4a938ac",
   "metadata": {},
   "source": [
    "## Classification Model"
   ]
  },
  {
   "cell_type": "markdown",
   "id": "b9380081-c861-429c-932b-203abbacf93c",
   "metadata": {},
   "source": [
    "After determining the best technique for handling imbalanced datasets and outlier detection based on the training datasets subjected to these preprocessing methods, I evaluated the performance of four models: Logistic Regression, Random Forest Classifier, Bagging, and eXtreme Gradient Boosting (XGBoost) Classifier.  \n",
    "The evaluation was based on metrics, including: mean absolute error; accuracy; confusion matrix and classification report (precision, recall, f1-score, support)."
   ]
  },
  {
   "cell_type": "markdown",
   "id": "39f40906-848a-4533-9436-4dd0bb630e80",
   "metadata": {},
   "source": [
    "### Classification with Logistic Regression"
   ]
  },
  {
   "cell_type": "code",
   "execution_count": 28,
   "id": "aa5450fd-c5e1-47cb-a4dc-a4f92aff8871",
   "metadata": {},
   "outputs": [
    {
     "name": "stdout",
     "output_type": "stream",
     "text": [
      "Accuracy:\n",
      " 0.817\n",
      "\n",
      "Confusion Matrix:\n",
      " [[2315  101]\n",
      " [ 448  136]]\n",
      "\n",
      "Classification Report:\n",
      "               precision    recall  f1-score   support\n",
      "\n",
      "           0       0.84      0.96      0.89      2416\n",
      "           1       0.57      0.23      0.33       584\n",
      "\n",
      "    accuracy                           0.82      3000\n",
      "   macro avg       0.71      0.60      0.61      3000\n",
      "weighted avg       0.79      0.82      0.78      3000\n",
      "\n"
     ]
    }
   ],
   "source": [
    "# Initialize the model\n",
    "model = LogisticRegression(random_state=42)\n",
    "\n",
    "# Train the model\n",
    "model.fit(X_train_iso, y_train_iso)\n",
    "\n",
    "# Threshold for classification\n",
    "threshold = 0.5\n",
    "\n",
    "# Predicting probabilities of the positive class for the test data\n",
    "probs_positive_class = model.predict_proba(X_test)[:, 1]\n",
    "\n",
    "# Converting probability predictions to binary predictions based on the threshold\n",
    "predictions = (probs_positive_class > threshold).astype(int)\n",
    "\n",
    "# Evaluate the model\n",
    "accuracy = accuracy_score(y_test, predictions)\n",
    "print('Accuracy:\\n', accuracy)\n",
    "\n",
    "# Confusion Matrix\n",
    "conf_matrix = confusion_matrix(y_test, predictions)\n",
    "print('\\nConfusion Matrix:\\n', conf_matrix)\n",
    "\n",
    "# Classification report\n",
    "class_report = classification_report(y_test, predictions)\n",
    "print('\\nClassification Report:\\n', class_report)"
   ]
  },
  {
   "cell_type": "code",
   "execution_count": 29,
   "id": "6efb6df5-948b-4995-8a93-9045d87d4c28",
   "metadata": {},
   "outputs": [
    {
     "data": {
      "image/png": "[encoded data removed]",
      "text/plain": [
       "<Figure size 1000x800 with 1 Axes>"
      ]
     },
     "metadata": {},
     "output_type": "display_data"
    }
   ],
   "source": [
    "# Predicting probabilities of the positive class for the test data\n",
    "y_prob = model.predict_proba(X_test)[:, 1]\n",
    "\n",
    "# Calculating the false positive rate (FPR), true positive rate (TPR), and thresholds for the ROC curve\n",
    "fpr, tpr, thresholds = roc_curve(y_test, y_prob)\n",
    "\n",
    "# Calculating the area under the ROC curve (AUC)\n",
    "roc_auc = auc(fpr, tpr)\n",
    "\n",
    "# Plotting the ROC curve\n",
    "plt.figure(figsize=(10, 8))\n",
    "\n",
    "plt.plot(fpr, tpr, color='darkorange', lw=2, label='ROC curve (area = {:.2f})'.format(roc_auc))\n",
    "plt.plot([0, 1], [0, 1], color='navy', lw=2, linestyle='--')\n",
    "\n",
    "plt.xlim([0.0, 1.0])\n",
    "plt.ylim([0.0, 1.0])\n",
    "\n",
    "plt.xlabel('False Positive Rate (FPR)')\n",
    "plt.ylabel('True Positive Rate (TPR)')\n",
    "plt.title('ROC Curve')\n",
    "plt.legend(loc=\"lower right\")\n",
    "\n",
    "plt.show()"
   ]
  },
  {
   "cell_type": "markdown",
   "id": "efaf480b-1ec3-441a-bd2b-a9e11f2860a9",
   "metadata": {},
   "source": [
    "### Random Forest Classifier"
   ]
  },
  {
   "cell_type": "code",
   "execution_count": 30,
   "id": "8d179dc8-aa66-4dbe-b618-645244da33a8",
   "metadata": {},
   "outputs": [
    {
     "name": "stdout",
     "output_type": "stream",
     "text": [
      "MAE: 0.1313333333\n",
      "Accuracy: 0.8686666666666667\n",
      "Confusion Matrix:\n",
      "[[2332   84]\n",
      " [ 310  274]]\n",
      "\n",
      "Classification Report:\n",
      "              precision    recall  f1-score   support\n",
      "\n",
      "           0       0.88      0.97      0.92      2416\n",
      "           1       0.77      0.47      0.58       584\n",
      "\n",
      "    accuracy                           0.87      3000\n",
      "   macro avg       0.82      0.72      0.75      3000\n",
      "weighted avg       0.86      0.87      0.86      3000\n",
      "\n"
     ]
    }
   ],
   "source": [
    "# Initialize the RandomForest classifier model\n",
    "rfc = RandomForestClassifier(random_state=42)\n",
    "\n",
    "# Train the model\n",
    "rfc.fit(X_train_iso, y_train_iso)\n",
    "\n",
    "# Make predictions\n",
    "y_pred = rfc.predict(X_test)\n",
    "\n",
    "# Evaluate predictions\n",
    "mae = mean_absolute_error(y_test, y_pred)\n",
    "print('MAE: %.10f' % mae)\n",
    "\n",
    "# Evaluate the model\n",
    "accuracy = rfc.score(X_test, y_test)\n",
    "print(\"Accuracy:\", accuracy)\n",
    "\n",
    "# Confusion Matrix\n",
    "conf_matrix = confusion_matrix(y_test, y_pred)\n",
    "print(\"Confusion Matrix:\")\n",
    "print(conf_matrix)\n",
    "\n",
    "# Classification Report\n",
    "class_report = classification_report(y_test, y_pred)\n",
    "print(\"\\nClassification Report:\")\n",
    "print(class_report)"
   ]
  },
  {
   "cell_type": "markdown",
   "id": "64425601-2077-47b9-a5ba-0676694b7eee",
   "metadata": {},
   "source": [
    "### Bagging"
   ]
  },
  {
   "cell_type": "code",
   "execution_count": 31,
   "id": "4f49324a-f348-4efe-99ce-edfd9557d725",
   "metadata": {},
   "outputs": [
    {
     "name": "stdout",
     "output_type": "stream",
     "text": [
      "MAE: 0.1536666667\n",
      "Accuracy: 0.8463333333333334\n",
      "Confusion Matrix:\n",
      "[[2271  145]\n",
      " [ 316  268]]\n",
      "\n",
      "Classification Report:\n",
      "              precision    recall  f1-score   support\n",
      "\n",
      "           0       0.88      0.94      0.91      2416\n",
      "           1       0.65      0.46      0.54       584\n",
      "\n",
      "    accuracy                           0.85      3000\n",
      "   macro avg       0.76      0.70      0.72      3000\n",
      "weighted avg       0.83      0.85      0.84      3000\n",
      "\n"
     ]
    }
   ],
   "source": [
    "# Initialize the Bagging classifier model\n",
    "bagging = BaggingClassifier(random_state=42)\n",
    "\n",
    "# Train the model\n",
    "bagging.fit(X_train_iso, y_train_iso)\n",
    "\n",
    "# Make predictions\n",
    "y_pred = bagging.predict(X_test)\n",
    "\n",
    "# Evaluate predictions\n",
    "mae = mean_absolute_error(y_test, y_pred)\n",
    "print('MAE: %.10f' % mae)\n",
    "\n",
    "# Evaluate the model\n",
    "accuracy_bagging = bagging.score(X_test, y_test)\n",
    "print(\"Accuracy:\", accuracy_bagging)\n",
    "\n",
    "# Confusion Matrix\n",
    "conf_matrix_bagging = confusion_matrix(y_test, y_pred)\n",
    "print(\"Confusion Matrix:\")\n",
    "print(conf_matrix_bagging)\n",
    "\n",
    "# Classification Report\n",
    "class_report_bagging = classification_report(y_test, y_pred)\n",
    "print(\"\\nClassification Report:\")\n",
    "print(class_report_bagging)"
   ]
  },
  {
   "cell_type": "markdown",
   "id": "674c4c1f-0a51-4eb2-83e0-140b7627b34e",
   "metadata": {},
   "source": [
    "### eXtreme Gradient Boosting (XGBoost) Classifier"
   ]
  },
  {
   "cell_type": "code",
   "execution_count": 32,
   "id": "2925084b-3901-4e06-a07f-747fe958d449",
   "metadata": {},
   "outputs": [
    {
     "name": "stdout",
     "output_type": "stream",
     "text": [
      "MAE: 0.1433333333\n",
      "Accuracy: 0.8566666666666667\n",
      "Confusion Matrix:\n",
      "[[2262  154]\n",
      " [ 276  308]]\n",
      "\n",
      "Classification Report:\n",
      "              precision    recall  f1-score   support\n",
      "\n",
      "           0       0.89      0.94      0.91      2416\n",
      "           1       0.67      0.53      0.59       584\n",
      "\n",
      "    accuracy                           0.86      3000\n",
      "   macro avg       0.78      0.73      0.75      3000\n",
      "weighted avg       0.85      0.86      0.85      3000\n",
      "\n"
     ]
    }
   ],
   "source": [
    "# Initialize the XGBoost classifier model\n",
    "xgboost = XGBClassifier(random_state=42)\n",
    "\n",
    "# Train the model\n",
    "xgboost.fit(X_train_iso, y_train_iso, verbose = False)\n",
    "\n",
    "# Make predictions\n",
    "y_pred = xgboost.predict(X_test)\n",
    "\n",
    "# Evaluate predictions\n",
    "mae = mean_absolute_error(y_test, y_pred)\n",
    "print('MAE: %.10f' % mae)\n",
    "\n",
    "# Evaluate the model\n",
    "accuracy_xgboost = xgboost.score(X_test, y_test)\n",
    "print(\"Accuracy:\", accuracy_xgboost)\n",
    "\n",
    "# Confusion Matrix\n",
    "conf_matrix_xgboost = confusion_matrix(y_test, y_pred)\n",
    "print(\"Confusion Matrix:\")\n",
    "print(conf_matrix_xgboost)\n",
    "\n",
    "# Classification Report\n",
    "class_report_xgboost = classification_report(y_test, y_pred)\n",
    "print(\"\\nClassification Report:\")\n",
    "print(class_report_xgboost)"
   ]
  },
  {
   "cell_type": "markdown",
   "id": "2dfba20a-8492-4554-a677-1e1ab38b031a",
   "metadata": {},
   "source": [
    "## Feature Selection"
   ]
  },
  {
   "cell_type": "markdown",
   "id": "1ffeae31-947e-4dda-9a29-b631c6801bcd",
   "metadata": {},
   "source": [
    "### Feature Importance"
   ]
  },
  {
   "cell_type": "markdown",
   "id": "ffeb3149-9253-4767-ac82-bd12365f8a31",
   "metadata": {},
   "source": [
    "It refers to understanding the contribution of each input feature (variable) to the prediction made by a model. It helps in identifying which features have the most influence on the model's output and can provide valuable insights."
   ]
  },
  {
   "cell_type": "code",
   "execution_count": 33,
   "id": "f874bdbe-fbfc-4f67-93d4-cf09c0e0620f",
   "metadata": {},
   "outputs": [
    {
     "data": {
      "text/plain": [
       "array([0.09972904, 0.2117045 , 0.0631322 , 0.11080251, 0.09207139,\n",
       "       0.10585587, 0.1053094 , 0.01672503, 0.04032831, 0.01321519,\n",
       "       0.01284949, 0.01287907, 0.01299584, 0.01325214, 0.01391487,\n",
       "       0.01488715, 0.01797507, 0.02980835, 0.01256455])"
      ]
     },
     "execution_count": 33,
     "metadata": {},
     "output_type": "execute_result"
    }
   ],
   "source": [
    "rfc.feature_importances_"
   ]
  },
  {
   "cell_type": "code",
   "execution_count": 34,
   "id": "88e3a3aa-c2ac-44ff-9629-ea02c86eb5a6",
   "metadata": {},
   "outputs": [
    {
     "data": {
      "text/plain": [
       "Text(0, 0.5, 'Feature')"
      ]
     },
     "execution_count": 34,
     "metadata": {},
     "output_type": "execute_result"
    },
    {
     "data": {
      "image/png": "[encoded data removed]",
      "text/plain": [
       "<Figure size 500x500 with 1 Axes>"
      ]
     },
     "metadata": {},
     "output_type": "display_data"
    }
   ],
   "source": [
    "# Define size of bar plot\n",
    "plt.figure(figsize=(5,5))\n",
    "\n",
    "# Plot Searborn bar chart\n",
    "sns.barplot(x=rfc.feature_importances_, y=X_train.columns)\n",
    "\n",
    "# Add chart labels\n",
    "plt.title('Feature Importance')\n",
    "plt.xlabel('Importance')\n",
    "plt.ylabel('Feature') "
   ]
  },
  {
   "cell_type": "markdown",
   "id": "8564089a-b232-429b-b0ab-008c01fb52fc",
   "metadata": {},
   "source": [
    "I removed all variables with an importance score below 0.025."
   ]
  },
  {
   "cell_type": "code",
   "execution_count": 35,
   "id": "3d629129-6b9b-414a-a986-c7cfceab173c",
   "metadata": {},
   "outputs": [],
   "source": [
    "X_train_feature_selected = X_train_iso.drop(columns=['HasCrCard_1', 'Satisfaction Score_2', 'Satisfaction Score_3',\n",
    "       'Satisfaction Score_4', 'Satisfaction Score_5', 'Card Type_GOLD',\n",
    "       'Card Type_PLATINUM', 'Card Type_SILVER', 'Gender_Male',\n",
    "       'Geography_Spain',])\n",
    "X_test_feature_selected = X_test.drop(columns=['HasCrCard_1', 'Satisfaction Score_2', 'Satisfaction Score_3',\n",
    "       'Satisfaction Score_4', 'Satisfaction Score_5', 'Card Type_GOLD',\n",
    "       'Card Type_PLATINUM', 'Card Type_SILVER', 'Gender_Male',\n",
    "       'Geography_Spain',])"
   ]
  },
  {
   "cell_type": "markdown",
   "id": "c042b833-45f4-4707-b5f7-0eecdb9fa82f",
   "metadata": {},
   "source": [
    "I adapted it to the Random Forest and XGBoost classifiers to understand if better results could be achieved."
   ]
  },
  {
   "cell_type": "markdown",
   "id": "758ba6e4-5b4b-4503-98e2-784aa634183b",
   "metadata": {},
   "source": [
    "#### Random Forest Classifier (with Feature Importance)"
   ]
  },
  {
   "cell_type": "code",
   "execution_count": 36,
   "id": "6b4c4cf0-2d76-4207-b00d-9f01fe1021d6",
   "metadata": {},
   "outputs": [
    {
     "name": "stdout",
     "output_type": "stream",
     "text": [
      "MAE: 0.1386666667\n",
      "Accuracy: 0.8613333333333333\n",
      "Confusion Matrix:\n",
      "[[2298  118]\n",
      " [ 298  286]]\n",
      "\n",
      "Classification Report:\n",
      "              precision    recall  f1-score   support\n",
      "\n",
      "           0       0.89      0.95      0.92      2416\n",
      "           1       0.71      0.49      0.58       584\n",
      "\n",
      "    accuracy                           0.86      3000\n",
      "   macro avg       0.80      0.72      0.75      3000\n",
      "weighted avg       0.85      0.86      0.85      3000\n",
      "\n"
     ]
    }
   ],
   "source": [
    "# Train the model\n",
    "rfc.fit(X_train_feature_selected ,y_train_iso)\n",
    "\n",
    "# Make predictions\n",
    "y_pred_feature_selected = rfc.predict(X_test_feature_selected)\n",
    "\n",
    "# Evaluate predictions\n",
    "mae_feature_selected = mean_absolute_error(y_test, y_pred_feature_selected)\n",
    "print('MAE: %.10f' % mae_feature_selected)\n",
    "\n",
    "# Evaluate the model\n",
    "accuracy = rfc.score(X_test_feature_selected, y_test)\n",
    "print(\"Accuracy:\", accuracy)\n",
    "\n",
    "# Confusion Matrix\n",
    "conf_matrix = confusion_matrix(y_test, y_pred_feature_selected)\n",
    "print(\"Confusion Matrix:\")\n",
    "print(conf_matrix)\n",
    "\n",
    "# Classification Report\n",
    "class_report = classification_report(y_test, y_pred_feature_selected)\n",
    "print(\"\\nClassification Report:\")\n",
    "print(class_report)"
   ]
  },
  {
   "cell_type": "markdown",
   "id": "672f4b0a-a886-4179-a57e-4d31a55655a9",
   "metadata": {},
   "source": [
    "#### XGBoost Classifier (with Feature Importance)"
   ]
  },
  {
   "cell_type": "code",
   "execution_count": 37,
   "id": "c03e3dfd-569d-443d-97f7-84abc7cac35c",
   "metadata": {},
   "outputs": [
    {
     "name": "stdout",
     "output_type": "stream",
     "text": [
      "MAE: 0.1450000000\n",
      "Accuracy: 0.855\n",
      "Confusion Matrix:\n",
      "[[2274  142]\n",
      " [ 293  291]]\n",
      "\n",
      "Classification Report:\n",
      "              precision    recall  f1-score   support\n",
      "\n",
      "           0       0.89      0.94      0.91      2416\n",
      "           1       0.67      0.50      0.57       584\n",
      "\n",
      "    accuracy                           0.85      3000\n",
      "   macro avg       0.78      0.72      0.74      3000\n",
      "weighted avg       0.84      0.85      0.85      3000\n",
      "\n"
     ]
    }
   ],
   "source": [
    "# Train the model\n",
    "xgboost.fit(X_train_feature_selected ,y_train_iso)\n",
    "\n",
    "# Make predictions\n",
    "y_pred_feature_selected = xgboost.predict(X_test_feature_selected)\n",
    "\n",
    "# Evaluate predictions\n",
    "mae_feature_selected = mean_absolute_error(y_test, y_pred_feature_selected)\n",
    "print('MAE: %.10f' % mae_feature_selected)\n",
    "\n",
    "# Evaluate the model\n",
    "accuracy = xgboost.score(X_test_feature_selected, y_test)\n",
    "print(\"Accuracy:\", accuracy)\n",
    "\n",
    "# Confusion Matrix\n",
    "conf_matrix = confusion_matrix(y_test, y_pred_feature_selected)\n",
    "print(\"Confusion Matrix:\")\n",
    "print(conf_matrix)\n",
    "\n",
    "# Classification Report\n",
    "class_report = classification_report(y_test, y_pred_feature_selected)\n",
    "print(\"\\nClassification Report:\")\n",
    "print(class_report)"
   ]
  },
  {
   "cell_type": "markdown",
   "id": "36ae39db-0306-47cb-afaf-ec3992779da5",
   "metadata": {},
   "source": [
    "In this specific situation, removing features with less importance did not have much influence on improving the performance of the predictive models."
   ]
  },
  {
   "cell_type": "markdown",
   "id": "bf64e0cb-91f8-4c90-b0c4-b036b0260dde",
   "metadata": {},
   "source": [
    "### Backward Feature Selection"
   ]
  },
  {
   "cell_type": "markdown",
   "id": "e83db3b6-6423-44c7-8fbc-d627c0d7b9ca",
   "metadata": {},
   "source": [
    "Backward Feature Selection is a technique used to select the most relevant set of features. This approach starts with the full set of features and then iteratively removes the least important ones one by one until a stopping criterion is reached."
   ]
  },
  {
   "cell_type": "code",
   "execution_count": 38,
   "id": "6062c0ec-7deb-4bd9-bdbb-179381921030",
   "metadata": {},
   "outputs": [
    {
     "name": "stderr",
     "output_type": "stream",
     "text": [
      "[Parallel(n_jobs=1)]: Using backend SequentialBackend with 1 concurrent workers.\n",
      "[Parallel(n_jobs=1)]: Done  19 out of  19 | elapsed:  1.2min finished\n",
      "Features: 18/4[Parallel(n_jobs=1)]: Using backend SequentialBackend with 1 concurrent workers.\n",
      "[Parallel(n_jobs=1)]: Done  18 out of  18 | elapsed:  1.1min finished\n",
      "Features: 17/4[Parallel(n_jobs=1)]: Using backend SequentialBackend with 1 concurrent workers.\n",
      "[Parallel(n_jobs=1)]: Done  17 out of  17 | elapsed:   56.7s finished\n",
      "Features: 16/4[Parallel(n_jobs=1)]: Using backend SequentialBackend with 1 concurrent workers.\n",
      "[Parallel(n_jobs=1)]: Done  16 out of  16 | elapsed:   47.3s finished\n",
      "Features: 15/4[Parallel(n_jobs=1)]: Using backend SequentialBackend with 1 concurrent workers.\n",
      "[Parallel(n_jobs=1)]: Done  15 out of  15 | elapsed:   45.1s finished\n",
      "Features: 14/4[Parallel(n_jobs=1)]: Using backend SequentialBackend with 1 concurrent workers.\n",
      "[Parallel(n_jobs=1)]: Done  14 out of  14 | elapsed:   46.8s finished\n",
      "Features: 13/4[Parallel(n_jobs=1)]: Using backend SequentialBackend with 1 concurrent workers.\n",
      "[Parallel(n_jobs=1)]: Done  13 out of  13 | elapsed:   43.7s finished\n",
      "Features: 12/4[Parallel(n_jobs=1)]: Using backend SequentialBackend with 1 concurrent workers.\n",
      "[Parallel(n_jobs=1)]: Done  12 out of  12 | elapsed:   39.6s finished\n",
      "Features: 11/4[Parallel(n_jobs=1)]: Using backend SequentialBackend with 1 concurrent workers.\n",
      "[Parallel(n_jobs=1)]: Done  11 out of  11 | elapsed:   37.7s finished\n",
      "Features: 10/4[Parallel(n_jobs=1)]: Using backend SequentialBackend with 1 concurrent workers.\n",
      "[Parallel(n_jobs=1)]: Done  10 out of  10 | elapsed:   35.6s finished\n",
      "Features: 9/4[Parallel(n_jobs=1)]: Using backend SequentialBackend with 1 concurrent workers.\n",
      "[Parallel(n_jobs=1)]: Done   9 out of   9 | elapsed:   27.8s finished\n",
      "Features: 8/4[Parallel(n_jobs=1)]: Using backend SequentialBackend with 1 concurrent workers.\n",
      "[Parallel(n_jobs=1)]: Done   8 out of   8 | elapsed:   26.5s finished\n",
      "Features: 7/4[Parallel(n_jobs=1)]: Using backend SequentialBackend with 1 concurrent workers.\n",
      "[Parallel(n_jobs=1)]: Done   7 out of   7 | elapsed:   24.7s finished\n",
      "Features: 6/4[Parallel(n_jobs=1)]: Using backend SequentialBackend with 1 concurrent workers.\n",
      "[Parallel(n_jobs=1)]: Done   6 out of   6 | elapsed:   18.9s finished\n",
      "Features: 5/4[Parallel(n_jobs=1)]: Using backend SequentialBackend with 1 concurrent workers.\n",
      "[Parallel(n_jobs=1)]: Done   5 out of   5 | elapsed:   17.2s finished\n",
      "Features: 4/4"
     ]
    },
    {
     "data": {
      "text/html": [
       "<style>#sk-container-id-1 {color: black;background-color: white;}#sk-container-id-1 pre{padding: 0;}#sk-container-id-1 div.sk-toggleable {background-color: white;}#sk-container-id-1 label.sk-toggleable__label {cursor: pointer;display: block;width: 100%;margin-bottom: 0;padding: 0.3em;box-sizing: border-box;text-align: center;}#sk-container-id-1 label.sk-toggleable__label-arrow:before {content: \"▸\";float: left;margin-right: 0.25em;color: #696969;}#sk-container-id-1 label.sk-toggleable__label-arrow:hover:before {color: black;}#sk-container-id-1 div.sk-estimator:hover label.sk-toggleable__label-arrow:before {color: black;}#sk-container-id-1 div.sk-toggleable__content {max-height: 0;max-width: 0;overflow: hidden;text-align: left;background-color: #f0f8ff;}#sk-container-id-1 div.sk-toggleable__content pre {margin: 0.2em;color: black;border-radius: 0.25em;background-color: #f0f8ff;}#sk-container-id-1 input.sk-toggleable__control:checked~div.sk-toggleable__content {max-height: 200px;max-width: 100%;overflow: auto;}#sk-container-id-1 input.sk-toggleable__control:checked~label.sk-toggleable__label-arrow:before {content: \"▾\";}#sk-container-id-1 div.sk-estimator input.sk-toggleable__control:checked~label.sk-toggleable__label {background-color: #d4ebff;}#sk-container-id-1 div.sk-label input.sk-toggleable__control:checked~label.sk-toggleable__label {background-color: #d4ebff;}#sk-container-id-1 input.sk-hidden--visually {border: 0;clip: rect(1px 1px 1px 1px);clip: rect(1px, 1px, 1px, 1px);height: 1px;margin: -1px;overflow: hidden;padding: 0;position: absolute;width: 1px;}#sk-container-id-1 div.sk-estimator {font-family: monospace;background-color: #f0f8ff;border: 1px dotted black;border-radius: 0.25em;box-sizing: border-box;margin-bottom: 0.5em;}#sk-container-id-1 div.sk-estimator:hover {background-color: #d4ebff;}#sk-container-id-1 div.sk-parallel-item::after {content: \"\";width: 100%;border-bottom: 1px solid gray;flex-grow: 1;}#sk-container-id-1 div.sk-label:hover label.sk-toggleable__label {background-color: #d4ebff;}#sk-container-id-1 div.sk-serial::before {content: \"\";position: absolute;border-left: 1px solid gray;box-sizing: border-box;top: 0;bottom: 0;left: 50%;z-index: 0;}#sk-container-id-1 div.sk-serial {display: flex;flex-direction: column;align-items: center;background-color: white;padding-right: 0.2em;padding-left: 0.2em;position: relative;}#sk-container-id-1 div.sk-item {position: relative;z-index: 1;}#sk-container-id-1 div.sk-parallel {display: flex;align-items: stretch;justify-content: center;background-color: white;position: relative;}#sk-container-id-1 div.sk-item::before, #sk-container-id-1 div.sk-parallel-item::before {content: \"\";position: absolute;border-left: 1px solid gray;box-sizing: border-box;top: 0;bottom: 0;left: 50%;z-index: -1;}#sk-container-id-1 div.sk-parallel-item {display: flex;flex-direction: column;z-index: 1;position: relative;background-color: white;}#sk-container-id-1 div.sk-parallel-item:first-child::after {align-self: flex-end;width: 50%;}#sk-container-id-1 div.sk-parallel-item:last-child::after {align-self: flex-start;width: 50%;}#sk-container-id-1 div.sk-parallel-item:only-child::after {width: 0;}#sk-container-id-1 div.sk-dashed-wrapped {border: 1px dashed gray;margin: 0 0.4em 0.5em 0.4em;box-sizing: border-box;padding-bottom: 0.4em;background-color: white;}#sk-container-id-1 div.sk-label label {font-family: monospace;font-weight: bold;display: inline-block;line-height: 1.2em;}#sk-container-id-1 div.sk-label-container {text-align: center;}#sk-container-id-1 div.sk-container {/* jupyter's `normalize.less` sets `[hidden] { display: none; }` but bootstrap.min.css set `[hidden] { display: none !important; }` so we also need the `!important` here to be able to override the default hidden behavior on the sphinx rendered scikit-learn.org. See: https://github.com/scikit-learn/scikit-learn/issues/21755 */display: inline-block !important;position: relative;}#sk-container-id-1 div.sk-text-repr-fallback {display: none;}</style><div id=\"sk-container-id-1\" class=\"sk-top-container\"><div class=\"sk-text-repr-fallback\"><pre>SequentialFeatureSelector(estimator=RandomForestClassifier(random_state=42),\n",
       "                          forward=False, k_features=(4, 4),\n",
       "                          scoring=&#x27;neg_mean_squared_error&#x27;, verbose=1)</pre><b>In a Jupyter environment, please rerun this cell to show the HTML representation or trust the notebook. <br />On GitHub, the HTML representation is unable to render, please try loading this page with nbviewer.org.</b></div><div class=\"sk-container\" hidden><div class=\"sk-item sk-dashed-wrapped\"><div class=\"sk-label-container\"><div class=\"sk-label sk-toggleable\"><input class=\"sk-toggleable__control sk-hidden--visually\" id=\"sk-estimator-id-1\" type=\"checkbox\" ><label for=\"sk-estimator-id-1\" class=\"sk-toggleable__label sk-toggleable__label-arrow\">SequentialFeatureSelector</label><div class=\"sk-toggleable__content\"><pre>SequentialFeatureSelector(estimator=RandomForestClassifier(random_state=42),\n",
       "                          forward=False, k_features=(4, 4),\n",
       "                          scoring=&#x27;neg_mean_squared_error&#x27;, verbose=1)</pre></div></div></div><div class=\"sk-parallel\"><div class=\"sk-parallel-item\"><div class=\"sk-item\"><div class=\"sk-label-container\"><div class=\"sk-label sk-toggleable\"><input class=\"sk-toggleable__control sk-hidden--visually\" id=\"sk-estimator-id-2\" type=\"checkbox\" ><label for=\"sk-estimator-id-2\" class=\"sk-toggleable__label sk-toggleable__label-arrow\">estimator: RandomForestClassifier</label><div class=\"sk-toggleable__content\"><pre>RandomForestClassifier(random_state=42)</pre></div></div></div><div class=\"sk-serial\"><div class=\"sk-item\"><div class=\"sk-estimator sk-toggleable\"><input class=\"sk-toggleable__control sk-hidden--visually\" id=\"sk-estimator-id-3\" type=\"checkbox\" ><label for=\"sk-estimator-id-3\" class=\"sk-toggleable__label sk-toggleable__label-arrow\">RandomForestClassifier</label><div class=\"sk-toggleable__content\"><pre>RandomForestClassifier(random_state=42)</pre></div></div></div></div></div></div></div></div></div></div>"
      ],
      "text/plain": [
       "SequentialFeatureSelector(estimator=RandomForestClassifier(random_state=42),\n",
       "                          forward=False, k_features=(4, 4),\n",
       "                          scoring='neg_mean_squared_error', verbose=1)"
      ]
     },
     "execution_count": 38,
     "metadata": {},
     "output_type": "execute_result"
    }
   ],
   "source": [
    "sfs = SequentialFeatureSelector(rfc, k_features=4, forward=False, verbose=1, scoring='neg_mean_squared_error')\n",
    "\n",
    "sfs.fit(X_train_iso, y_train_iso)"
   ]
  },
  {
   "cell_type": "code",
   "execution_count": 39,
   "id": "c047fbab-2bae-4d94-ae07-631659d79e45",
   "metadata": {},
   "outputs": [
    {
     "data": {
      "text/plain": [
       "CreditScore             float64\n",
       "Age                     float64\n",
       "Tenure                  float64\n",
       "Balance                 float64\n",
       "NumOfProducts           float64\n",
       "EstimatedSalary         float64\n",
       "Point Earned            float64\n",
       "HasCrCard_1             float64\n",
       "IsActiveMember_1        float64\n",
       "Satisfaction Score_2    float64\n",
       "Satisfaction Score_3    float64\n",
       "Satisfaction Score_4    float64\n",
       "Satisfaction Score_5    float64\n",
       "Card Type_GOLD          float64\n",
       "Card Type_PLATINUM      float64\n",
       "Card Type_SILVER        float64\n",
       "Gender_Male             float64\n",
       "Geography_Germany       float64\n",
       "Geography_Spain         float64\n",
       "dtype: object"
      ]
     },
     "execution_count": 39,
     "metadata": {},
     "output_type": "execute_result"
    }
   ],
   "source": [
    "X_train_iso.dtypes"
   ]
  },
  {
   "cell_type": "code",
   "execution_count": 40,
   "id": "eb3b79af-1bba-4335-9448-6df4682ba685",
   "metadata": {},
   "outputs": [
    {
     "name": "stdout",
     "output_type": "stream",
     "text": [
      "['Age', 'Balance', 'NumOfProducts', 'IsActiveMember_1']\n"
     ]
    }
   ],
   "source": [
    "feat_names_sfs = list(sfs.k_feature_names_)\n",
    "print(feat_names_sfs)"
   ]
  },
  {
   "cell_type": "code",
   "execution_count": 41,
   "id": "d78286e9-bb13-430f-b5a1-46321bfb9db1",
   "metadata": {},
   "outputs": [],
   "source": [
    "# drop of columns that were not selected.\n",
    "\n",
    "X_train_sfs = X_train_iso.drop(columns=['CreditScore', 'Balance', 'EstimatedSalary', 'Point Earned', 'HasCrCard_1', \n",
    "                'IsActiveMember_1', 'Satisfaction Score_2', 'Satisfaction Score_3', \n",
    "                'Satisfaction Score_4', 'Satisfaction Score_5', 'Card Type_GOLD', \n",
    "                'Card Type_PLATINUM', 'Card Type_SILVER', 'Gender_Male', 'Geography_Spain'])\n",
    "X_test_sfs = X_test.drop(columns=['CreditScore', 'Balance', 'EstimatedSalary', 'Point Earned', 'HasCrCard_1', \n",
    "                'IsActiveMember_1', 'Satisfaction Score_2', 'Satisfaction Score_3', \n",
    "                'Satisfaction Score_4', 'Satisfaction Score_5', 'Card Type_GOLD', \n",
    "                'Card Type_PLATINUM', 'Card Type_SILVER', 'Gender_Male', 'Geography_Spain'])\n"
   ]
  },
  {
   "cell_type": "markdown",
   "id": "d675fc70-5e8a-49b0-b194-17e8756b0d23",
   "metadata": {},
   "source": [
    "I adapted it to the Random Forest and XGBoost classifiers to understand if better results could be achieved."
   ]
  },
  {
   "cell_type": "markdown",
   "id": "d362b736-9bfd-4def-a8ee-8e29f3cef33a",
   "metadata": {},
   "source": [
    "#### RandomForestClassifier"
   ]
  },
  {
   "cell_type": "code",
   "execution_count": 42,
   "id": "b365e453-e17b-4e1c-9822-e5236ec1aedb",
   "metadata": {},
   "outputs": [
    {
     "name": "stdout",
     "output_type": "stream",
     "text": [
      "MAE: 0.1750000000\n",
      "Accuracy: 0.825\n",
      "Confusion Matrix:\n",
      "[[2210  206]\n",
      " [ 319  265]]\n",
      "\n",
      "Classification Report:\n",
      "              precision    recall  f1-score   support\n",
      "\n",
      "           0       0.87      0.91      0.89      2416\n",
      "           1       0.56      0.45      0.50       584\n",
      "\n",
      "    accuracy                           0.82      3000\n",
      "   macro avg       0.72      0.68      0.70      3000\n",
      "weighted avg       0.81      0.82      0.82      3000\n",
      "\n"
     ]
    }
   ],
   "source": [
    "# Train the model\n",
    "rfc.fit(X_train_sfs ,y_train_iso)\n",
    "\n",
    "# Make predictions\n",
    "y_pred_sfs = rfc.predict(X_test_sfs)\n",
    "\n",
    "# Evaluate predictions\n",
    "mae_sfs = mean_absolute_error(y_test, y_pred_sfs)\n",
    "print('MAE: %.10f' % mae_sfs)\n",
    "\n",
    "# Evaluate the model\n",
    "accuracy = rfc.score(X_test_sfs, y_test)\n",
    "print(\"Accuracy:\", accuracy)\n",
    "\n",
    "# Confusion Matrix\n",
    "conf_matrix_sfs = confusion_matrix(y_test, y_pred_sfs)\n",
    "print(\"Confusion Matrix:\")\n",
    "print(conf_matrix_sfs)\n",
    "\n",
    "# Classification Report\n",
    "class_report_sfs = classification_report(y_test, y_pred_sfs)\n",
    "print(\"\\nClassification Report:\")\n",
    "print(class_report_sfs)"
   ]
  },
  {
   "cell_type": "markdown",
   "id": "e27d07db-8bc3-4412-9395-928be284be2e",
   "metadata": {},
   "source": [
    "#### eXtreme Gradient Boosting (XGBoost)"
   ]
  },
  {
   "cell_type": "code",
   "execution_count": 43,
   "id": "cda52e62-fbc2-44f4-a575-4f02ff6753f0",
   "metadata": {},
   "outputs": [
    {
     "name": "stdout",
     "output_type": "stream",
     "text": [
      "MAE: 0.1586666667\n",
      "Accuracy: 0.8413333333333334\n",
      "Confusion Matrix:\n",
      "[[2249  167]\n",
      " [ 309  275]]\n",
      "\n",
      "Classification Report:\n",
      "              precision    recall  f1-score   support\n",
      "\n",
      "           0       0.88      0.93      0.90      2416\n",
      "           1       0.62      0.47      0.54       584\n",
      "\n",
      "    accuracy                           0.84      3000\n",
      "   macro avg       0.75      0.70      0.72      3000\n",
      "weighted avg       0.83      0.84      0.83      3000\n",
      "\n"
     ]
    }
   ],
   "source": [
    "# Train the model\n",
    "xgboost.fit(X_train_sfs ,y_train_iso)\n",
    "\n",
    "# Make predictions\n",
    "y_pred_sfs = xgboost.predict(X_test_sfs)\n",
    "\n",
    "# Evaluate predictions\n",
    "mae_sfs = mean_absolute_error(y_test, y_pred_sfs)\n",
    "print('MAE: %.10f' % mae_sfs)\n",
    "\n",
    "# Evaluate the model\n",
    "accuracy = xgboost.score(X_test_sfs, y_test)\n",
    "print(\"Accuracy:\", accuracy)\n",
    "\n",
    "# Confusion Matrix\n",
    "conf_matrix_sfs = confusion_matrix(y_test, y_pred_sfs)\n",
    "print(\"Confusion Matrix:\")\n",
    "print(conf_matrix_sfs)\n",
    "\n",
    "# Classification Report\n",
    "class_report_sfs = classification_report(y_test, y_pred_sfs)\n",
    "print(\"\\nClassification Report:\")\n",
    "print(class_report_sfs)"
   ]
  },
  {
   "cell_type": "markdown",
   "id": "fc996f6e-c1cc-4a3d-a7f5-989ee149ac9c",
   "metadata": {},
   "source": [
    "### Forward Feature Selection"
   ]
  },
  {
   "cell_type": "markdown",
   "id": "4fdb2841-c621-40c0-b884-2d146175b5e9",
   "metadata": {},
   "source": [
    "Unlike 'Backward Feature Selection', which starts with all features and iteratively removes them, 'Forward Feature Selection' starts with an empty set of features and adds them one by one, evaluating the model's performance at each step.  \n",
    "They are considered 'greedy' algorithms, because they make the decision to remove/add the least important feature at each step, based only on the information available at that time, without considering the overall impact of feature removal/add."
   ]
  },
  {
   "cell_type": "code",
   "execution_count": 44,
   "id": "921f1883-6657-4377-9ea3-00870ebafd90",
   "metadata": {},
   "outputs": [
    {
     "name": "stderr",
     "output_type": "stream",
     "text": [
      "[Parallel(n_jobs=1)]: Using backend SequentialBackend with 1 concurrent workers.\n",
      "[Parallel(n_jobs=1)]: Done  19 out of  19 | elapsed:   29.8s finished\n",
      "Features: 1/4[Parallel(n_jobs=1)]: Using backend SequentialBackend with 1 concurrent workers.\n",
      "[Parallel(n_jobs=1)]: Done  18 out of  18 | elapsed:   27.1s finished\n",
      "Features: 2/4[Parallel(n_jobs=1)]: Using backend SequentialBackend with 1 concurrent workers.\n",
      "[Parallel(n_jobs=1)]: Done  17 out of  17 | elapsed:   28.1s finished\n",
      "Features: 3/4[Parallel(n_jobs=1)]: Using backend SequentialBackend with 1 concurrent workers.\n",
      "[Parallel(n_jobs=1)]: Done  16 out of  16 | elapsed:   28.9s finished\n",
      "Features: 4/4"
     ]
    },
    {
     "data": {
      "text/html": [
       "<style>#sk-container-id-2 {color: black;background-color: white;}#sk-container-id-2 pre{padding: 0;}#sk-container-id-2 div.sk-toggleable {background-color: white;}#sk-container-id-2 label.sk-toggleable__label {cursor: pointer;display: block;width: 100%;margin-bottom: 0;padding: 0.3em;box-sizing: border-box;text-align: center;}#sk-container-id-2 label.sk-toggleable__label-arrow:before {content: \"▸\";float: left;margin-right: 0.25em;color: #696969;}#sk-container-id-2 label.sk-toggleable__label-arrow:hover:before {color: black;}#sk-container-id-2 div.sk-estimator:hover label.sk-toggleable__label-arrow:before {color: black;}#sk-container-id-2 div.sk-toggleable__content {max-height: 0;max-width: 0;overflow: hidden;text-align: left;background-color: #f0f8ff;}#sk-container-id-2 div.sk-toggleable__content pre {margin: 0.2em;color: black;border-radius: 0.25em;background-color: #f0f8ff;}#sk-container-id-2 input.sk-toggleable__control:checked~div.sk-toggleable__content {max-height: 200px;max-width: 100%;overflow: auto;}#sk-container-id-2 input.sk-toggleable__control:checked~label.sk-toggleable__label-arrow:before {content: \"▾\";}#sk-container-id-2 div.sk-estimator input.sk-toggleable__control:checked~label.sk-toggleable__label {background-color: #d4ebff;}#sk-container-id-2 div.sk-label input.sk-toggleable__control:checked~label.sk-toggleable__label {background-color: #d4ebff;}#sk-container-id-2 input.sk-hidden--visually {border: 0;clip: rect(1px 1px 1px 1px);clip: rect(1px, 1px, 1px, 1px);height: 1px;margin: -1px;overflow: hidden;padding: 0;position: absolute;width: 1px;}#sk-container-id-2 div.sk-estimator {font-family: monospace;background-color: #f0f8ff;border: 1px dotted black;border-radius: 0.25em;box-sizing: border-box;margin-bottom: 0.5em;}#sk-container-id-2 div.sk-estimator:hover {background-color: #d4ebff;}#sk-container-id-2 div.sk-parallel-item::after {content: \"\";width: 100%;border-bottom: 1px solid gray;flex-grow: 1;}#sk-container-id-2 div.sk-label:hover label.sk-toggleable__label {background-color: #d4ebff;}#sk-container-id-2 div.sk-serial::before {content: \"\";position: absolute;border-left: 1px solid gray;box-sizing: border-box;top: 0;bottom: 0;left: 50%;z-index: 0;}#sk-container-id-2 div.sk-serial {display: flex;flex-direction: column;align-items: center;background-color: white;padding-right: 0.2em;padding-left: 0.2em;position: relative;}#sk-container-id-2 div.sk-item {position: relative;z-index: 1;}#sk-container-id-2 div.sk-parallel {display: flex;align-items: stretch;justify-content: center;background-color: white;position: relative;}#sk-container-id-2 div.sk-item::before, #sk-container-id-2 div.sk-parallel-item::before {content: \"\";position: absolute;border-left: 1px solid gray;box-sizing: border-box;top: 0;bottom: 0;left: 50%;z-index: -1;}#sk-container-id-2 div.sk-parallel-item {display: flex;flex-direction: column;z-index: 1;position: relative;background-color: white;}#sk-container-id-2 div.sk-parallel-item:first-child::after {align-self: flex-end;width: 50%;}#sk-container-id-2 div.sk-parallel-item:last-child::after {align-self: flex-start;width: 50%;}#sk-container-id-2 div.sk-parallel-item:only-child::after {width: 0;}#sk-container-id-2 div.sk-dashed-wrapped {border: 1px dashed gray;margin: 0 0.4em 0.5em 0.4em;box-sizing: border-box;padding-bottom: 0.4em;background-color: white;}#sk-container-id-2 div.sk-label label {font-family: monospace;font-weight: bold;display: inline-block;line-height: 1.2em;}#sk-container-id-2 div.sk-label-container {text-align: center;}#sk-container-id-2 div.sk-container {/* jupyter's `normalize.less` sets `[hidden] { display: none; }` but bootstrap.min.css set `[hidden] { display: none !important; }` so we also need the `!important` here to be able to override the default hidden behavior on the sphinx rendered scikit-learn.org. See: https://github.com/scikit-learn/scikit-learn/issues/21755 */display: inline-block !important;position: relative;}#sk-container-id-2 div.sk-text-repr-fallback {display: none;}</style><div id=\"sk-container-id-2\" class=\"sk-top-container\"><div class=\"sk-text-repr-fallback\"><pre>SequentialFeatureSelector(estimator=RandomForestClassifier(random_state=42),\n",
       "                          k_features=(4, 4), scoring=&#x27;neg_mean_squared_error&#x27;,\n",
       "                          verbose=1)</pre><b>In a Jupyter environment, please rerun this cell to show the HTML representation or trust the notebook. <br />On GitHub, the HTML representation is unable to render, please try loading this page with nbviewer.org.</b></div><div class=\"sk-container\" hidden><div class=\"sk-item sk-dashed-wrapped\"><div class=\"sk-label-container\"><div class=\"sk-label sk-toggleable\"><input class=\"sk-toggleable__control sk-hidden--visually\" id=\"sk-estimator-id-4\" type=\"checkbox\" ><label for=\"sk-estimator-id-4\" class=\"sk-toggleable__label sk-toggleable__label-arrow\">SequentialFeatureSelector</label><div class=\"sk-toggleable__content\"><pre>SequentialFeatureSelector(estimator=RandomForestClassifier(random_state=42),\n",
       "                          k_features=(4, 4), scoring=&#x27;neg_mean_squared_error&#x27;,\n",
       "                          verbose=1)</pre></div></div></div><div class=\"sk-parallel\"><div class=\"sk-parallel-item\"><div class=\"sk-item\"><div class=\"sk-label-container\"><div class=\"sk-label sk-toggleable\"><input class=\"sk-toggleable__control sk-hidden--visually\" id=\"sk-estimator-id-5\" type=\"checkbox\" ><label for=\"sk-estimator-id-5\" class=\"sk-toggleable__label sk-toggleable__label-arrow\">estimator: RandomForestClassifier</label><div class=\"sk-toggleable__content\"><pre>RandomForestClassifier(random_state=42)</pre></div></div></div><div class=\"sk-serial\"><div class=\"sk-item\"><div class=\"sk-estimator sk-toggleable\"><input class=\"sk-toggleable__control sk-hidden--visually\" id=\"sk-estimator-id-6\" type=\"checkbox\" ><label for=\"sk-estimator-id-6\" class=\"sk-toggleable__label sk-toggleable__label-arrow\">RandomForestClassifier</label><div class=\"sk-toggleable__content\"><pre>RandomForestClassifier(random_state=42)</pre></div></div></div></div></div></div></div></div></div></div>"
      ],
      "text/plain": [
       "SequentialFeatureSelector(estimator=RandomForestClassifier(random_state=42),\n",
       "                          k_features=(4, 4), scoring='neg_mean_squared_error',\n",
       "                          verbose=1)"
      ]
     },
     "execution_count": 44,
     "metadata": {},
     "output_type": "execute_result"
    }
   ],
   "source": [
    "ffs = SequentialFeatureSelector(rfc, k_features=4, forward=True, verbose=1, scoring='neg_mean_squared_error')\n",
    "\n",
    "ffs.fit(X_train_iso, y_train_iso)"
   ]
  },
  {
   "cell_type": "code",
   "execution_count": 45,
   "id": "fb09917c-57d4-4f7d-9967-1e51f72d9af9",
   "metadata": {},
   "outputs": [
    {
     "name": "stdout",
     "output_type": "stream",
     "text": [
      "['Age', 'NumOfProducts', 'IsActiveMember_1', 'Satisfaction Score_3']\n"
     ]
    }
   ],
   "source": [
    "feat_names_ffs = list(ffs.k_feature_names_)\n",
    "print(feat_names_ffs)"
   ]
  },
  {
   "cell_type": "code",
   "execution_count": 46,
   "id": "0b91386b-7724-4d06-bb1c-a1cbc0bc1597",
   "metadata": {},
   "outputs": [],
   "source": [
    "# drop of columns that were not selected.\n",
    "\n",
    "X_train_ffs = X_train_iso.drop(columns=['CreditScore', 'Tenure', 'Balance', 'EstimatedSalary', 'Point Earned', \n",
    "                'HasCrCard_1', 'Satisfaction Score_2', 'Satisfaction Score_3', \n",
    "                'Satisfaction Score_4', 'Satisfaction Score_5', 'Card Type_GOLD', \n",
    "                'Card Type_PLATINUM', 'Card Type_SILVER', 'Gender_Male', 'Geography_Spain'])\n",
    "X_test_ffs = X_test.drop(columns=['CreditScore', 'Tenure', 'Balance', 'EstimatedSalary', 'Point Earned', \n",
    "                'HasCrCard_1', 'Satisfaction Score_2', 'Satisfaction Score_3', \n",
    "                'Satisfaction Score_4', 'Satisfaction Score_5', 'Card Type_GOLD', \n",
    "                'Card Type_PLATINUM', 'Card Type_SILVER', 'Gender_Male', 'Geography_Spain'])"
   ]
  },
  {
   "cell_type": "markdown",
   "id": "c0e58c6d-a7ed-4b3d-84a5-d30ba4c786ad",
   "metadata": {},
   "source": [
    "I adapted it to the Random Forest and XGBoost classifiers to understand if better results could be achieved."
   ]
  },
  {
   "cell_type": "markdown",
   "id": "498088a3-8079-42f5-b34b-989af2c3c83b",
   "metadata": {},
   "source": [
    "#### RandomForestClassifier"
   ]
  },
  {
   "cell_type": "code",
   "execution_count": 47,
   "id": "3585f45a-1d80-4810-a391-c58217518b60",
   "metadata": {},
   "outputs": [
    {
     "name": "stdout",
     "output_type": "stream",
     "text": [
      "MAE: 0.1406666667\n",
      "Accuracy: 0.8593333333333333\n",
      "Confusion Matrix:\n",
      "[[2303  113]\n",
      " [ 309  275]]\n",
      "\n",
      "Classification Report:\n",
      "              precision    recall  f1-score   support\n",
      "\n",
      "           0       0.88      0.95      0.92      2416\n",
      "           1       0.71      0.47      0.57       584\n",
      "\n",
      "    accuracy                           0.86      3000\n",
      "   macro avg       0.80      0.71      0.74      3000\n",
      "weighted avg       0.85      0.86      0.85      3000\n",
      "\n"
     ]
    }
   ],
   "source": [
    "# Train the model\n",
    "rfc.fit(X_train_ffs ,y_train_iso)\n",
    "\n",
    "# Make predictions\n",
    "y_pred_ffs = rfc.predict(X_test_ffs)\n",
    "\n",
    "# Evaluate predictions\n",
    "mae_ffs = mean_absolute_error(y_test, y_pred_ffs)\n",
    "print('MAE: %.10f' % mae_ffs)\n",
    "\n",
    "# Evaluate the model\n",
    "accuracy_ffs = rfc.score(X_test_ffs, y_test)\n",
    "print(\"Accuracy:\", accuracy_ffs)\n",
    "\n",
    "# Confusion Matrix\n",
    "conf_matrix_ffs = confusion_matrix(y_test, y_pred_ffs)\n",
    "print(\"Confusion Matrix:\")\n",
    "print(conf_matrix_ffs)\n",
    "\n",
    "# Classification Report\n",
    "class_report_ffs = classification_report(y_test, y_pred_ffs)\n",
    "print(\"\\nClassification Report:\")\n",
    "print(class_report_ffs)"
   ]
  },
  {
   "cell_type": "markdown",
   "id": "1900b70c-5c6d-4135-90ea-ed88c2bff069",
   "metadata": {},
   "source": [
    "#### eXtreme Gradient Boosting (XGBoost)"
   ]
  },
  {
   "cell_type": "code",
   "execution_count": 48,
   "id": "b8200133-2c1c-4b12-a4fc-680afd3b9415",
   "metadata": {},
   "outputs": [
    {
     "name": "stdout",
     "output_type": "stream",
     "text": [
      "MAE: 0.1376666667\n",
      "Accuracy: 0.8623333333333333\n",
      "Confusion Matrix:\n",
      "[[2301  115]\n",
      " [ 298  286]]\n",
      "\n",
      "Classification Report:\n",
      "              precision    recall  f1-score   support\n",
      "\n",
      "           0       0.89      0.95      0.92      2416\n",
      "           1       0.71      0.49      0.58       584\n",
      "\n",
      "    accuracy                           0.86      3000\n",
      "   macro avg       0.80      0.72      0.75      3000\n",
      "weighted avg       0.85      0.86      0.85      3000\n",
      "\n"
     ]
    }
   ],
   "source": [
    "# Train the model\n",
    "xgboost.fit(X_train_ffs ,y_train_iso)\n",
    "\n",
    "# Make predictions\n",
    "y_pred_ffs = xgboost.predict(X_test_ffs)\n",
    "\n",
    "# Evaluate predictions\n",
    "mae_ffs = mean_absolute_error(y_test, y_pred_ffs)\n",
    "print('MAE: %.10f' % mae_ffs)\n",
    "\n",
    "# Evaluate the model\n",
    "accuracy_ffs = xgboost.score(X_test_ffs, y_test)\n",
    "print(\"Accuracy:\", accuracy_ffs)\n",
    "\n",
    "# Confusion Matrix\n",
    "conf_matrix_ffs = confusion_matrix(y_test, y_pred_ffs)\n",
    "print(\"Confusion Matrix:\")\n",
    "print(conf_matrix_ffs)\n",
    "\n",
    "# Classification Report\n",
    "class_report_ffs = classification_report(y_test, y_pred_ffs)\n",
    "print(\"\\nClassification Report:\")\n",
    "print(class_report_ffs)"
   ]
  },
  {
   "cell_type": "markdown",
   "id": "933ed0b0-7bb8-4d2b-9295-86699a4ac503",
   "metadata": {},
   "source": [
    "Forward Feature Selection slightly increased the accuracy of each class in the model (0 and 1), but there was no improvement in the other metrics. On the other hand, in the case of the Backward Feature Selection, there was a decrease in the accuracy of each class. Therefore, in this specific case, the Forward Feature Selection could be a potential approach to improve the model, unlike the Backward Feature Selection."
   ]
  },
  {
   "cell_type": "markdown",
   "id": "9ed4e980-afdd-4c11-a013-74d4f0c4d6a1",
   "metadata": {},
   "source": [
    "## Hyperparameter Tuning"
   ]
  },
  {
   "cell_type": "markdown",
   "id": "8b65aecc-4eba-48ce-a7f0-b046fb98576d",
   "metadata": {},
   "source": [
    "The goal of 'hyperparameter tuning' is to find the best combination of values that optimizes model performance. By adjusting the hyperparameters appropriately, it is possible to significantly improve the model's performance. In this case, 'hyperparameter tuning' will be performed for XGBoost and Random Forest Classifier.  \n",
    "'RandomizedSearchCV' was the option chosen to perform the hyperparameter search, as it is computationally more dynamic and at the same time efficient."
   ]
  },
  {
   "cell_type": "markdown",
   "id": "cc63a2cf-84bc-43e6-8fc4-6a63ee5e58e8",
   "metadata": {},
   "source": [
    "### RandomForestClassifier"
   ]
  },
  {
   "cell_type": "code",
   "execution_count": 49,
   "id": "21bcbd90-c797-4b22-bf43-944d65463e7a",
   "metadata": {},
   "outputs": [],
   "source": [
    "param_distributions = {\n",
    "    'n_estimators': list(range(100, 1001)),  # Number of trees in the forest\n",
    "    'max_depth': [None, 10, 20, 30],       # Maximum depth of the trees\n",
    "    'min_samples_split': [2, 5, 10],       # Minimum number of samples required to split an internal node\n",
    "    'min_samples_leaf': [1, 2, 4],         # Minimum number of samples required to be at a leaf node\n",
    "    'bootstrap': [True, False]             # Whether bootstrap samples are used when building trees\n",
    "}"
   ]
  },
  {
   "cell_type": "code",
   "execution_count": 50,
   "id": "98ee27a5-7b11-4cf0-a9ef-9c49b6b785ee",
   "metadata": {},
   "outputs": [],
   "source": [
    "randomized_search = RandomizedSearchCV(\n",
    "    estimator=rfc,  \n",
    "    param_distributions = param_distributions,  \n",
    "    cv=5,  #\n",
    "    n_iter=10, \n",
    "    scoring=\"recall\",  \n",
    "    return_train_score=True  \n",
    ")"
   ]
  },
  {
   "cell_type": "code",
   "execution_count": 51,
   "id": "1da78f8c-cac6-4658-9da0-499f54116de8",
   "metadata": {},
   "outputs": [
    {
     "data": {
      "text/html": [
       "<style>#sk-container-id-3 {color: black;background-color: white;}#sk-container-id-3 pre{padding: 0;}#sk-container-id-3 div.sk-toggleable {background-color: white;}#sk-container-id-3 label.sk-toggleable__label {cursor: pointer;display: block;width: 100%;margin-bottom: 0;padding: 0.3em;box-sizing: border-box;text-align: center;}#sk-container-id-3 label.sk-toggleable__label-arrow:before {content: \"▸\";float: left;margin-right: 0.25em;color: #696969;}#sk-container-id-3 label.sk-toggleable__label-arrow:hover:before {color: black;}#sk-container-id-3 div.sk-estimator:hover label.sk-toggleable__label-arrow:before {color: black;}#sk-container-id-3 div.sk-toggleable__content {max-height: 0;max-width: 0;overflow: hidden;text-align: left;background-color: #f0f8ff;}#sk-container-id-3 div.sk-toggleable__content pre {margin: 0.2em;color: black;border-radius: 0.25em;background-color: #f0f8ff;}#sk-container-id-3 input.sk-toggleable__control:checked~div.sk-toggleable__content {max-height: 200px;max-width: 100%;overflow: auto;}#sk-container-id-3 input.sk-toggleable__control:checked~label.sk-toggleable__label-arrow:before {content: \"▾\";}#sk-container-id-3 div.sk-estimator input.sk-toggleable__control:checked~label.sk-toggleable__label {background-color: #d4ebff;}#sk-container-id-3 div.sk-label input.sk-toggleable__control:checked~label.sk-toggleable__label {background-color: #d4ebff;}#sk-container-id-3 input.sk-hidden--visually {border: 0;clip: rect(1px 1px 1px 1px);clip: rect(1px, 1px, 1px, 1px);height: 1px;margin: -1px;overflow: hidden;padding: 0;position: absolute;width: 1px;}#sk-container-id-3 div.sk-estimator {font-family: monospace;background-color: #f0f8ff;border: 1px dotted black;border-radius: 0.25em;box-sizing: border-box;margin-bottom: 0.5em;}#sk-container-id-3 div.sk-estimator:hover {background-color: #d4ebff;}#sk-container-id-3 div.sk-parallel-item::after {content: \"\";width: 100%;border-bottom: 1px solid gray;flex-grow: 1;}#sk-container-id-3 div.sk-label:hover label.sk-toggleable__label {background-color: #d4ebff;}#sk-container-id-3 div.sk-serial::before {content: \"\";position: absolute;border-left: 1px solid gray;box-sizing: border-box;top: 0;bottom: 0;left: 50%;z-index: 0;}#sk-container-id-3 div.sk-serial {display: flex;flex-direction: column;align-items: center;background-color: white;padding-right: 0.2em;padding-left: 0.2em;position: relative;}#sk-container-id-3 div.sk-item {position: relative;z-index: 1;}#sk-container-id-3 div.sk-parallel {display: flex;align-items: stretch;justify-content: center;background-color: white;position: relative;}#sk-container-id-3 div.sk-item::before, #sk-container-id-3 div.sk-parallel-item::before {content: \"\";position: absolute;border-left: 1px solid gray;box-sizing: border-box;top: 0;bottom: 0;left: 50%;z-index: -1;}#sk-container-id-3 div.sk-parallel-item {display: flex;flex-direction: column;z-index: 1;position: relative;background-color: white;}#sk-container-id-3 div.sk-parallel-item:first-child::after {align-self: flex-end;width: 50%;}#sk-container-id-3 div.sk-parallel-item:last-child::after {align-self: flex-start;width: 50%;}#sk-container-id-3 div.sk-parallel-item:only-child::after {width: 0;}#sk-container-id-3 div.sk-dashed-wrapped {border: 1px dashed gray;margin: 0 0.4em 0.5em 0.4em;box-sizing: border-box;padding-bottom: 0.4em;background-color: white;}#sk-container-id-3 div.sk-label label {font-family: monospace;font-weight: bold;display: inline-block;line-height: 1.2em;}#sk-container-id-3 div.sk-label-container {text-align: center;}#sk-container-id-3 div.sk-container {/* jupyter's `normalize.less` sets `[hidden] { display: none; }` but bootstrap.min.css set `[hidden] { display: none !important; }` so we also need the `!important` here to be able to override the default hidden behavior on the sphinx rendered scikit-learn.org. See: https://github.com/scikit-learn/scikit-learn/issues/21755 */display: inline-block !important;position: relative;}#sk-container-id-3 div.sk-text-repr-fallback {display: none;}</style><div id=\"sk-container-id-3\" class=\"sk-top-container\"><div class=\"sk-text-repr-fallback\"><pre>RandomizedSearchCV(cv=5, estimator=RandomForestClassifier(random_state=42),\n",
       "                   param_distributions={&#x27;bootstrap&#x27;: [True, False],\n",
       "                                        &#x27;max_depth&#x27;: [None, 10, 20, 30],\n",
       "                                        &#x27;min_samples_leaf&#x27;: [1, 2, 4],\n",
       "                                        &#x27;min_samples_split&#x27;: [2, 5, 10],\n",
       "                                        &#x27;n_estimators&#x27;: [100, 101, 102, 103,\n",
       "                                                         104, 105, 106, 107,\n",
       "                                                         108, 109, 110, 111,\n",
       "                                                         112, 113, 114, 115,\n",
       "                                                         116, 117, 118, 119,\n",
       "                                                         120, 121, 122, 123,\n",
       "                                                         124, 125, 126, 127,\n",
       "                                                         128, 129, ...]},\n",
       "                   return_train_score=True, scoring=&#x27;recall&#x27;)</pre><b>In a Jupyter environment, please rerun this cell to show the HTML representation or trust the notebook. <br />On GitHub, the HTML representation is unable to render, please try loading this page with nbviewer.org.</b></div><div class=\"sk-container\" hidden><div class=\"sk-item sk-dashed-wrapped\"><div class=\"sk-label-container\"><div class=\"sk-label sk-toggleable\"><input class=\"sk-toggleable__control sk-hidden--visually\" id=\"sk-estimator-id-7\" type=\"checkbox\" ><label for=\"sk-estimator-id-7\" class=\"sk-toggleable__label sk-toggleable__label-arrow\">RandomizedSearchCV</label><div class=\"sk-toggleable__content\"><pre>RandomizedSearchCV(cv=5, estimator=RandomForestClassifier(random_state=42),\n",
       "                   param_distributions={&#x27;bootstrap&#x27;: [True, False],\n",
       "                                        &#x27;max_depth&#x27;: [None, 10, 20, 30],\n",
       "                                        &#x27;min_samples_leaf&#x27;: [1, 2, 4],\n",
       "                                        &#x27;min_samples_split&#x27;: [2, 5, 10],\n",
       "                                        &#x27;n_estimators&#x27;: [100, 101, 102, 103,\n",
       "                                                         104, 105, 106, 107,\n",
       "                                                         108, 109, 110, 111,\n",
       "                                                         112, 113, 114, 115,\n",
       "                                                         116, 117, 118, 119,\n",
       "                                                         120, 121, 122, 123,\n",
       "                                                         124, 125, 126, 127,\n",
       "                                                         128, 129, ...]},\n",
       "                   return_train_score=True, scoring=&#x27;recall&#x27;)</pre></div></div></div><div class=\"sk-parallel\"><div class=\"sk-parallel-item\"><div class=\"sk-item\"><div class=\"sk-label-container\"><div class=\"sk-label sk-toggleable\"><input class=\"sk-toggleable__control sk-hidden--visually\" id=\"sk-estimator-id-8\" type=\"checkbox\" ><label for=\"sk-estimator-id-8\" class=\"sk-toggleable__label sk-toggleable__label-arrow\">estimator: RandomForestClassifier</label><div class=\"sk-toggleable__content\"><pre>RandomForestClassifier(random_state=42)</pre></div></div></div><div class=\"sk-serial\"><div class=\"sk-item\"><div class=\"sk-estimator sk-toggleable\"><input class=\"sk-toggleable__control sk-hidden--visually\" id=\"sk-estimator-id-9\" type=\"checkbox\" ><label for=\"sk-estimator-id-9\" class=\"sk-toggleable__label sk-toggleable__label-arrow\">RandomForestClassifier</label><div class=\"sk-toggleable__content\"><pre>RandomForestClassifier(random_state=42)</pre></div></div></div></div></div></div></div></div></div></div>"
      ],
      "text/plain": [
       "RandomizedSearchCV(cv=5, estimator=RandomForestClassifier(random_state=42),\n",
       "                   param_distributions={'bootstrap': [True, False],\n",
       "                                        'max_depth': [None, 10, 20, 30],\n",
       "                                        'min_samples_leaf': [1, 2, 4],\n",
       "                                        'min_samples_split': [2, 5, 10],\n",
       "                                        'n_estimators': [100, 101, 102, 103,\n",
       "                                                         104, 105, 106, 107,\n",
       "                                                         108, 109, 110, 111,\n",
       "                                                         112, 113, 114, 115,\n",
       "                                                         116, 117, 118, 119,\n",
       "                                                         120, 121, 122, 123,\n",
       "                                                         124, 125, 126, 127,\n",
       "                                                         128, 129, ...]},\n",
       "                   return_train_score=True, scoring='recall')"
      ]
     },
     "execution_count": 51,
     "metadata": {},
     "output_type": "execute_result"
    }
   ],
   "source": [
    "randomized_search.fit(X_train_iso, y_train_iso)"
   ]
  },
  {
   "cell_type": "code",
   "execution_count": 52,
   "id": "b59dffbe-088f-437e-b57e-e56690667194",
   "metadata": {},
   "outputs": [
    {
     "data": {
      "text/html": [
       "<style>#sk-container-id-4 {color: black;background-color: white;}#sk-container-id-4 pre{padding: 0;}#sk-container-id-4 div.sk-toggleable {background-color: white;}#sk-container-id-4 label.sk-toggleable__label {cursor: pointer;display: block;width: 100%;margin-bottom: 0;padding: 0.3em;box-sizing: border-box;text-align: center;}#sk-container-id-4 label.sk-toggleable__label-arrow:before {content: \"▸\";float: left;margin-right: 0.25em;color: #696969;}#sk-container-id-4 label.sk-toggleable__label-arrow:hover:before {color: black;}#sk-container-id-4 div.sk-estimator:hover label.sk-toggleable__label-arrow:before {color: black;}#sk-container-id-4 div.sk-toggleable__content {max-height: 0;max-width: 0;overflow: hidden;text-align: left;background-color: #f0f8ff;}#sk-container-id-4 div.sk-toggleable__content pre {margin: 0.2em;color: black;border-radius: 0.25em;background-color: #f0f8ff;}#sk-container-id-4 input.sk-toggleable__control:checked~div.sk-toggleable__content {max-height: 200px;max-width: 100%;overflow: auto;}#sk-container-id-4 input.sk-toggleable__control:checked~label.sk-toggleable__label-arrow:before {content: \"▾\";}#sk-container-id-4 div.sk-estimator input.sk-toggleable__control:checked~label.sk-toggleable__label {background-color: #d4ebff;}#sk-container-id-4 div.sk-label input.sk-toggleable__control:checked~label.sk-toggleable__label {background-color: #d4ebff;}#sk-container-id-4 input.sk-hidden--visually {border: 0;clip: rect(1px 1px 1px 1px);clip: rect(1px, 1px, 1px, 1px);height: 1px;margin: -1px;overflow: hidden;padding: 0;position: absolute;width: 1px;}#sk-container-id-4 div.sk-estimator {font-family: monospace;background-color: #f0f8ff;border: 1px dotted black;border-radius: 0.25em;box-sizing: border-box;margin-bottom: 0.5em;}#sk-container-id-4 div.sk-estimator:hover {background-color: #d4ebff;}#sk-container-id-4 div.sk-parallel-item::after {content: \"\";width: 100%;border-bottom: 1px solid gray;flex-grow: 1;}#sk-container-id-4 div.sk-label:hover label.sk-toggleable__label {background-color: #d4ebff;}#sk-container-id-4 div.sk-serial::before {content: \"\";position: absolute;border-left: 1px solid gray;box-sizing: border-box;top: 0;bottom: 0;left: 50%;z-index: 0;}#sk-container-id-4 div.sk-serial {display: flex;flex-direction: column;align-items: center;background-color: white;padding-right: 0.2em;padding-left: 0.2em;position: relative;}#sk-container-id-4 div.sk-item {position: relative;z-index: 1;}#sk-container-id-4 div.sk-parallel {display: flex;align-items: stretch;justify-content: center;background-color: white;position: relative;}#sk-container-id-4 div.sk-item::before, #sk-container-id-4 div.sk-parallel-item::before {content: \"\";position: absolute;border-left: 1px solid gray;box-sizing: border-box;top: 0;bottom: 0;left: 50%;z-index: -1;}#sk-container-id-4 div.sk-parallel-item {display: flex;flex-direction: column;z-index: 1;position: relative;background-color: white;}#sk-container-id-4 div.sk-parallel-item:first-child::after {align-self: flex-end;width: 50%;}#sk-container-id-4 div.sk-parallel-item:last-child::after {align-self: flex-start;width: 50%;}#sk-container-id-4 div.sk-parallel-item:only-child::after {width: 0;}#sk-container-id-4 div.sk-dashed-wrapped {border: 1px dashed gray;margin: 0 0.4em 0.5em 0.4em;box-sizing: border-box;padding-bottom: 0.4em;background-color: white;}#sk-container-id-4 div.sk-label label {font-family: monospace;font-weight: bold;display: inline-block;line-height: 1.2em;}#sk-container-id-4 div.sk-label-container {text-align: center;}#sk-container-id-4 div.sk-container {/* jupyter's `normalize.less` sets `[hidden] { display: none; }` but bootstrap.min.css set `[hidden] { display: none !important; }` so we also need the `!important` here to be able to override the default hidden behavior on the sphinx rendered scikit-learn.org. See: https://github.com/scikit-learn/scikit-learn/issues/21755 */display: inline-block !important;position: relative;}#sk-container-id-4 div.sk-text-repr-fallback {display: none;}</style><div id=\"sk-container-id-4\" class=\"sk-top-container\"><div class=\"sk-text-repr-fallback\"><pre>RandomForestClassifier(bootstrap=False, n_estimators=128, random_state=42)</pre><b>In a Jupyter environment, please rerun this cell to show the HTML representation or trust the notebook. <br />On GitHub, the HTML representation is unable to render, please try loading this page with nbviewer.org.</b></div><div class=\"sk-container\" hidden><div class=\"sk-item\"><div class=\"sk-estimator sk-toggleable\"><input class=\"sk-toggleable__control sk-hidden--visually\" id=\"sk-estimator-id-10\" type=\"checkbox\" checked><label for=\"sk-estimator-id-10\" class=\"sk-toggleable__label sk-toggleable__label-arrow\">RandomForestClassifier</label><div class=\"sk-toggleable__content\"><pre>RandomForestClassifier(bootstrap=False, n_estimators=128, random_state=42)</pre></div></div></div></div></div>"
      ],
      "text/plain": [
       "RandomForestClassifier(bootstrap=False, n_estimators=128, random_state=42)"
      ]
     },
     "execution_count": 52,
     "metadata": {},
     "output_type": "execute_result"
    }
   ],
   "source": [
    "randomized_search.best_estimator_"
   ]
  },
  {
   "cell_type": "code",
   "execution_count": 53,
   "id": "0ac4444a-a1e4-4e40-a26e-7855405866fc",
   "metadata": {
    "scrolled": true
   },
   "outputs": [
    {
     "data": {
      "text/plain": [
       "{'bootstrap': False,\n",
       " 'ccp_alpha': 0.0,\n",
       " 'class_weight': None,\n",
       " 'criterion': 'gini',\n",
       " 'max_depth': None,\n",
       " 'max_features': 'sqrt',\n",
       " 'max_leaf_nodes': None,\n",
       " 'max_samples': None,\n",
       " 'min_impurity_decrease': 0.0,\n",
       " 'min_samples_leaf': 1,\n",
       " 'min_samples_split': 2,\n",
       " 'min_weight_fraction_leaf': 0.0,\n",
       " 'n_estimators': 128,\n",
       " 'n_jobs': None,\n",
       " 'oob_score': False,\n",
       " 'random_state': 42,\n",
       " 'verbose': 0,\n",
       " 'warm_start': False}"
      ]
     },
     "execution_count": 53,
     "metadata": {},
     "output_type": "execute_result"
    }
   ],
   "source": [
    "randomized_search.best_estimator_.get_params()"
   ]
  },
  {
   "cell_type": "code",
   "execution_count": 54,
   "id": "bef78bb2-8b11-4ae1-a70a-8b69500739b3",
   "metadata": {},
   "outputs": [
    {
     "data": {
      "text/plain": [
       "array([0, 0, 0, ..., 0, 0, 0], dtype=int64)"
      ]
     },
     "execution_count": 54,
     "metadata": {},
     "output_type": "execute_result"
    }
   ],
   "source": [
    "randomized_search.predict(X_test)"
   ]
  },
  {
   "cell_type": "code",
   "execution_count": 55,
   "id": "46e84c2b-7e2f-404e-b4fb-6576ab3de930",
   "metadata": {},
   "outputs": [
    {
     "data": {
      "text/plain": [
       "{'n_estimators': 128,\n",
       " 'min_samples_split': 2,\n",
       " 'min_samples_leaf': 1,\n",
       " 'max_depth': None,\n",
       " 'bootstrap': False}"
      ]
     },
     "execution_count": 55,
     "metadata": {},
     "output_type": "execute_result"
    }
   ],
   "source": [
    "randomized_search.best_params_"
   ]
  },
  {
   "cell_type": "code",
   "execution_count": 56,
   "id": "bd54f419-cd01-41e7-b4b7-819a7d8ad3ee",
   "metadata": {},
   "outputs": [
    {
     "data": {
      "text/plain": [
       "0.4499131298088856"
      ]
     },
     "execution_count": 56,
     "metadata": {},
     "output_type": "execute_result"
    }
   ],
   "source": [
    "randomized_search.best_score_"
   ]
  },
  {
   "cell_type": "code",
   "execution_count": 100,
   "id": "bfc566b2-d29d-44ef-883e-6c712b829090",
   "metadata": {},
   "outputs": [],
   "source": [
    "# these determined 'params' are better. \n",
    "\n",
    "params = {'n_estimators': 591,\n",
    " 'min_samples_split': 5,\n",
    " 'min_samples_leaf': 1,\n",
    " 'max_depth': None,\n",
    " 'bootstrap': False}"
   ]
  },
  {
   "cell_type": "code",
   "execution_count": 99,
   "id": "e9851e17-83a5-4365-be60-1553678bfc64",
   "metadata": {},
   "outputs": [
    {
     "name": "stdout",
     "output_type": "stream",
     "text": [
      "fit_time: 4.33214693069458 (±0.04903961489170026)\n",
      "score_time: 0.15383987426757811 (±0.007571737788829479)\n",
      "test_accuracy: 0.8614225959621586 (±0.003955590084258195)\n",
      "test_precision: 0.777842453429754 (±0.01810217716503202)\n",
      "test_recall: 0.4431904407332553 (±0.03942792356577964)\n",
      "test_f1: 0.5631418277594451 (±0.028128217710261357)\n",
      "Accuracy: 0.87\n",
      "Confusion Matrix:\n",
      "[[2322   94]\n",
      " [ 296  288]]\n",
      "\n",
      "Classification Report:\n",
      "              precision    recall  f1-score   support\n",
      "\n",
      "           0       0.89      0.96      0.92      2416\n",
      "           1       0.75      0.49      0.60       584\n",
      "\n",
      "    accuracy                           0.87      3000\n",
      "   macro avg       0.82      0.73      0.76      3000\n",
      "weighted avg       0.86      0.87      0.86      3000\n",
      "\n"
     ]
    }
   ],
   "source": [
    "# Initialize the model\n",
    "rfc = RandomForestClassifier(**params, random_state=42)\n",
    "\n",
    "# cross_validate was used to evaluate model performance on different folds of the training data during the training phase.\n",
    "scoring = {'accuracy': 'accuracy', 'precision': 'precision', 'recall': 'recall', 'f1': 'f1'}\n",
    "scores = cross_validate(rfc, X_train_iso, y_train_iso, cv=5, scoring=scoring)\n",
    "\n",
    "for metric, values in scores.items():\n",
    "    print(f\"{metric}: {scores[metric].mean()} (±{scores[metric].std()})\")\n",
    "    \n",
    "# Train the model Random Forest Classifier\n",
    "rfc.fit(X_train_iso, y_train_iso)\n",
    "\n",
    "# Make predictions\n",
    "y_pred = rfc.predict(X_test)\n",
    "\n",
    "# Evaluate the model\n",
    "accuracy = rfc.score(X_test, y_test)\n",
    "print(\"Accuracy:\", accuracy)\n",
    "\n",
    "# Confusion Matrix\n",
    "conf_matrix = confusion_matrix(y_test, y_pred)\n",
    "print(\"Confusion Matrix:\")\n",
    "print(conf_matrix)\n",
    "\n",
    "# Classification Report\n",
    "class_report = classification_report(y_test, y_pred)\n",
    "print(\"\\nClassification Report:\")\n",
    "print(class_report)"
   ]
  },
  {
   "cell_type": "code",
   "execution_count": 61,
   "id": "d505f22b-01e2-46c4-9d72-86473d31bf28",
   "metadata": {},
   "outputs": [
    {
     "data": {
      "text/plain": [
       "{'fit_time': array([4.49639535, 4.38728738, 4.27385116, 4.56781387, 4.27947855]),\n",
       " 'score_time': array([0.16112566, 0.15301633, 0.16669774, 0.14749646, 0.14175296]),\n",
       " 'test_accuracy': array([0.86042553, 0.8587234 , 0.8612766 , 0.86893617, 0.85775128]),\n",
       " 'test_precision': array([0.7890625 , 0.78571429, 0.74509804, 0.77272727, 0.79661017]),\n",
       " 'test_recall': array([0.42436975, 0.41596639, 0.4789916 , 0.5       , 0.39662447]),\n",
       " 'test_f1': array([0.55191257, 0.54395604, 0.5831202 , 0.60714286, 0.52957746])}"
      ]
     },
     "execution_count": 61,
     "metadata": {},
     "output_type": "execute_result"
    }
   ],
   "source": [
    "scores"
   ]
  },
  {
   "cell_type": "markdown",
   "id": "0adac6ab-0563-4119-bc37-94af06c6108a",
   "metadata": {},
   "source": [
    "### eXtreme Gradient Boosting (XGBoost)"
   ]
  },
  {
   "cell_type": "code",
   "execution_count": 62,
   "id": "01fe1673-d139-45ae-b388-faa81bdb5b70",
   "metadata": {},
   "outputs": [],
   "source": [
    "param_grid = {\n",
    "    'max_depth': [3, 6, 9],\n",
    "    'learning_rate': [0.01, 0.1, 0.2],\n",
    "    'n_estimators': [100, 200, 300, 500, 1000],\n",
    "    'min_child_weight': [1, 3, 5],\n",
    "    'gamma': [0, 0.1, 0.2],\n",
    "    'subsample': [0.6, 0.8, 1.0],\n",
    "    'colsample_bytree': [0.6, 0.8, 1.0],\n",
    "    'reg_alpha': [0, 0.1, 0.5],\n",
    "    'reg_lambda': [0, 0.1, 0.5]\n",
    "}"
   ]
  },
  {
   "cell_type": "code",
   "execution_count": 63,
   "id": "12463a31-452b-46de-b632-4c647e4f7109",
   "metadata": {},
   "outputs": [],
   "source": [
    "randomized_search = RandomizedSearchCV(\n",
    "    estimator=xgboost,  \n",
    "    param_distributions = param_grid,  \n",
    "    cv=5,  #\n",
    "    n_iter=10, \n",
    "    scoring= \"accuracy\",  \n",
    "    return_train_score=True  \n",
    ")"
   ]
  },
  {
   "cell_type": "code",
   "execution_count": 64,
   "id": "d4c9ee20-20e9-4852-95d8-d00aeaa071e1",
   "metadata": {},
   "outputs": [
    {
     "data": {
      "text/html": [
       "<style>#sk-container-id-5 {color: black;background-color: white;}#sk-container-id-5 pre{padding: 0;}#sk-container-id-5 div.sk-toggleable {background-color: white;}#sk-container-id-5 label.sk-toggleable__label {cursor: pointer;display: block;width: 100%;margin-bottom: 0;padding: 0.3em;box-sizing: border-box;text-align: center;}#sk-container-id-5 label.sk-toggleable__label-arrow:before {content: \"▸\";float: left;margin-right: 0.25em;color: #696969;}#sk-container-id-5 label.sk-toggleable__label-arrow:hover:before {color: black;}#sk-container-id-5 div.sk-estimator:hover label.sk-toggleable__label-arrow:before {color: black;}#sk-container-id-5 div.sk-toggleable__content {max-height: 0;max-width: 0;overflow: hidden;text-align: left;background-color: #f0f8ff;}#sk-container-id-5 div.sk-toggleable__content pre {margin: 0.2em;color: black;border-radius: 0.25em;background-color: #f0f8ff;}#sk-container-id-5 input.sk-toggleable__control:checked~div.sk-toggleable__content {max-height: 200px;max-width: 100%;overflow: auto;}#sk-container-id-5 input.sk-toggleable__control:checked~label.sk-toggleable__label-arrow:before {content: \"▾\";}#sk-container-id-5 div.sk-estimator input.sk-toggleable__control:checked~label.sk-toggleable__label {background-color: #d4ebff;}#sk-container-id-5 div.sk-label input.sk-toggleable__control:checked~label.sk-toggleable__label {background-color: #d4ebff;}#sk-container-id-5 input.sk-hidden--visually {border: 0;clip: rect(1px 1px 1px 1px);clip: rect(1px, 1px, 1px, 1px);height: 1px;margin: -1px;overflow: hidden;padding: 0;position: absolute;width: 1px;}#sk-container-id-5 div.sk-estimator {font-family: monospace;background-color: #f0f8ff;border: 1px dotted black;border-radius: 0.25em;box-sizing: border-box;margin-bottom: 0.5em;}#sk-container-id-5 div.sk-estimator:hover {background-color: #d4ebff;}#sk-container-id-5 div.sk-parallel-item::after {content: \"\";width: 100%;border-bottom: 1px solid gray;flex-grow: 1;}#sk-container-id-5 div.sk-label:hover label.sk-toggleable__label {background-color: #d4ebff;}#sk-container-id-5 div.sk-serial::before {content: \"\";position: absolute;border-left: 1px solid gray;box-sizing: border-box;top: 0;bottom: 0;left: 50%;z-index: 0;}#sk-container-id-5 div.sk-serial {display: flex;flex-direction: column;align-items: center;background-color: white;padding-right: 0.2em;padding-left: 0.2em;position: relative;}#sk-container-id-5 div.sk-item {position: relative;z-index: 1;}#sk-container-id-5 div.sk-parallel {display: flex;align-items: stretch;justify-content: center;background-color: white;position: relative;}#sk-container-id-5 div.sk-item::before, #sk-container-id-5 div.sk-parallel-item::before {content: \"\";position: absolute;border-left: 1px solid gray;box-sizing: border-box;top: 0;bottom: 0;left: 50%;z-index: -1;}#sk-container-id-5 div.sk-parallel-item {display: flex;flex-direction: column;z-index: 1;position: relative;background-color: white;}#sk-container-id-5 div.sk-parallel-item:first-child::after {align-self: flex-end;width: 50%;}#sk-container-id-5 div.sk-parallel-item:last-child::after {align-self: flex-start;width: 50%;}#sk-container-id-5 div.sk-parallel-item:only-child::after {width: 0;}#sk-container-id-5 div.sk-dashed-wrapped {border: 1px dashed gray;margin: 0 0.4em 0.5em 0.4em;box-sizing: border-box;padding-bottom: 0.4em;background-color: white;}#sk-container-id-5 div.sk-label label {font-family: monospace;font-weight: bold;display: inline-block;line-height: 1.2em;}#sk-container-id-5 div.sk-label-container {text-align: center;}#sk-container-id-5 div.sk-container {/* jupyter's `normalize.less` sets `[hidden] { display: none; }` but bootstrap.min.css set `[hidden] { display: none !important; }` so we also need the `!important` here to be able to override the default hidden behavior on the sphinx rendered scikit-learn.org. See: https://github.com/scikit-learn/scikit-learn/issues/21755 */display: inline-block !important;position: relative;}#sk-container-id-5 div.sk-text-repr-fallback {display: none;}</style><div id=\"sk-container-id-5\" class=\"sk-top-container\"><div class=\"sk-text-repr-fallback\"><pre>RandomizedSearchCV(cv=5,\n",
       "                   estimator=XGBClassifier(base_score=None, booster=None,\n",
       "                                           callbacks=None,\n",
       "                                           colsample_bylevel=None,\n",
       "                                           colsample_bynode=None,\n",
       "                                           colsample_bytree=None,\n",
       "                                           early_stopping_rounds=None,\n",
       "                                           enable_categorical=False,\n",
       "                                           eval_metric=None, feature_types=None,\n",
       "                                           gamma=None, gpu_id=None,\n",
       "                                           grow_policy=None,\n",
       "                                           importance_type=None,\n",
       "                                           interaction_constraints=None,\n",
       "                                           learning_rate...\n",
       "                                           num_parallel_tree=None,\n",
       "                                           predictor=None, random_state=42, ...),\n",
       "                   param_distributions={&#x27;colsample_bytree&#x27;: [0.6, 0.8, 1.0],\n",
       "                                        &#x27;gamma&#x27;: [0, 0.1, 0.2],\n",
       "                                        &#x27;learning_rate&#x27;: [0.01, 0.1, 0.2],\n",
       "                                        &#x27;max_depth&#x27;: [3, 6, 9],\n",
       "                                        &#x27;min_child_weight&#x27;: [1, 3, 5],\n",
       "                                        &#x27;n_estimators&#x27;: [100, 200, 300, 500,\n",
       "                                                         1000],\n",
       "                                        &#x27;reg_alpha&#x27;: [0, 0.1, 0.5],\n",
       "                                        &#x27;reg_lambda&#x27;: [0, 0.1, 0.5],\n",
       "                                        &#x27;subsample&#x27;: [0.6, 0.8, 1.0]},\n",
       "                   return_train_score=True, scoring=&#x27;accuracy&#x27;)</pre><b>In a Jupyter environment, please rerun this cell to show the HTML representation or trust the notebook. <br />On GitHub, the HTML representation is unable to render, please try loading this page with nbviewer.org.</b></div><div class=\"sk-container\" hidden><div class=\"sk-item sk-dashed-wrapped\"><div class=\"sk-label-container\"><div class=\"sk-label sk-toggleable\"><input class=\"sk-toggleable__control sk-hidden--visually\" id=\"sk-estimator-id-11\" type=\"checkbox\" ><label for=\"sk-estimator-id-11\" class=\"sk-toggleable__label sk-toggleable__label-arrow\">RandomizedSearchCV</label><div class=\"sk-toggleable__content\"><pre>RandomizedSearchCV(cv=5,\n",
       "                   estimator=XGBClassifier(base_score=None, booster=None,\n",
       "                                           callbacks=None,\n",
       "                                           colsample_bylevel=None,\n",
       "                                           colsample_bynode=None,\n",
       "                                           colsample_bytree=None,\n",
       "                                           early_stopping_rounds=None,\n",
       "                                           enable_categorical=False,\n",
       "                                           eval_metric=None, feature_types=None,\n",
       "                                           gamma=None, gpu_id=None,\n",
       "                                           grow_policy=None,\n",
       "                                           importance_type=None,\n",
       "                                           interaction_constraints=None,\n",
       "                                           learning_rate...\n",
       "                                           num_parallel_tree=None,\n",
       "                                           predictor=None, random_state=42, ...),\n",
       "                   param_distributions={&#x27;colsample_bytree&#x27;: [0.6, 0.8, 1.0],\n",
       "                                        &#x27;gamma&#x27;: [0, 0.1, 0.2],\n",
       "                                        &#x27;learning_rate&#x27;: [0.01, 0.1, 0.2],\n",
       "                                        &#x27;max_depth&#x27;: [3, 6, 9],\n",
       "                                        &#x27;min_child_weight&#x27;: [1, 3, 5],\n",
       "                                        &#x27;n_estimators&#x27;: [100, 200, 300, 500,\n",
       "                                                         1000],\n",
       "                                        &#x27;reg_alpha&#x27;: [0, 0.1, 0.5],\n",
       "                                        &#x27;reg_lambda&#x27;: [0, 0.1, 0.5],\n",
       "                                        &#x27;subsample&#x27;: [0.6, 0.8, 1.0]},\n",
       "                   return_train_score=True, scoring=&#x27;accuracy&#x27;)</pre></div></div></div><div class=\"sk-parallel\"><div class=\"sk-parallel-item\"><div class=\"sk-item\"><div class=\"sk-label-container\"><div class=\"sk-label sk-toggleable\"><input class=\"sk-toggleable__control sk-hidden--visually\" id=\"sk-estimator-id-12\" type=\"checkbox\" ><label for=\"sk-estimator-id-12\" class=\"sk-toggleable__label sk-toggleable__label-arrow\">estimator: XGBClassifier</label><div class=\"sk-toggleable__content\"><pre>XGBClassifier(base_score=None, booster=None, callbacks=None,\n",
       "              colsample_bylevel=None, colsample_bynode=None,\n",
       "              colsample_bytree=None, early_stopping_rounds=None,\n",
       "              enable_categorical=False, eval_metric=None, feature_types=None,\n",
       "              gamma=None, gpu_id=None, grow_policy=None, importance_type=None,\n",
       "              interaction_constraints=None, learning_rate=None, max_bin=None,\n",
       "              max_cat_threshold=None, max_cat_to_onehot=None,\n",
       "              max_delta_step=None, max_depth=None, max_leaves=None,\n",
       "              min_child_weight=None, missing=nan, monotone_constraints=None,\n",
       "              n_estimators=100, n_jobs=None, num_parallel_tree=None,\n",
       "              predictor=None, random_state=42, ...)</pre></div></div></div><div class=\"sk-serial\"><div class=\"sk-item\"><div class=\"sk-estimator sk-toggleable\"><input class=\"sk-toggleable__control sk-hidden--visually\" id=\"sk-estimator-id-13\" type=\"checkbox\" ><label for=\"sk-estimator-id-13\" class=\"sk-toggleable__label sk-toggleable__label-arrow\">XGBClassifier</label><div class=\"sk-toggleable__content\"><pre>XGBClassifier(base_score=None, booster=None, callbacks=None,\n",
       "              colsample_bylevel=None, colsample_bynode=None,\n",
       "              colsample_bytree=None, early_stopping_rounds=None,\n",
       "              enable_categorical=False, eval_metric=None, feature_types=None,\n",
       "              gamma=None, gpu_id=None, grow_policy=None, importance_type=None,\n",
       "              interaction_constraints=None, learning_rate=None, max_bin=None,\n",
       "              max_cat_threshold=None, max_cat_to_onehot=None,\n",
       "              max_delta_step=None, max_depth=None, max_leaves=None,\n",
       "              min_child_weight=None, missing=nan, monotone_constraints=None,\n",
       "              n_estimators=100, n_jobs=None, num_parallel_tree=None,\n",
       "              predictor=None, random_state=42, ...)</pre></div></div></div></div></div></div></div></div></div></div>"
      ],
      "text/plain": [
       "RandomizedSearchCV(cv=5,\n",
       "                   estimator=XGBClassifier(base_score=None, booster=None,\n",
       "                                           callbacks=None,\n",
       "                                           colsample_bylevel=None,\n",
       "                                           colsample_bynode=None,\n",
       "                                           colsample_bytree=None,\n",
       "                                           early_stopping_rounds=None,\n",
       "                                           enable_categorical=False,\n",
       "                                           eval_metric=None, feature_types=None,\n",
       "                                           gamma=None, gpu_id=None,\n",
       "                                           grow_policy=None,\n",
       "                                           importance_type=None,\n",
       "                                           interaction_constraints=None,\n",
       "                                           learning_rate...\n",
       "                                           num_parallel_tree=None,\n",
       "                                           predictor=None, random_state=42, ...),\n",
       "                   param_distributions={'colsample_bytree': [0.6, 0.8, 1.0],\n",
       "                                        'gamma': [0, 0.1, 0.2],\n",
       "                                        'learning_rate': [0.01, 0.1, 0.2],\n",
       "                                        'max_depth': [3, 6, 9],\n",
       "                                        'min_child_weight': [1, 3, 5],\n",
       "                                        'n_estimators': [100, 200, 300, 500,\n",
       "                                                         1000],\n",
       "                                        'reg_alpha': [0, 0.1, 0.5],\n",
       "                                        'reg_lambda': [0, 0.1, 0.5],\n",
       "                                        'subsample': [0.6, 0.8, 1.0]},\n",
       "                   return_train_score=True, scoring='accuracy')"
      ]
     },
     "execution_count": 64,
     "metadata": {},
     "output_type": "execute_result"
    }
   ],
   "source": [
    "randomized_search.fit(X_train_iso, y_train_iso)"
   ]
  },
  {
   "cell_type": "code",
   "execution_count": 65,
   "id": "f77da862-42be-4260-802b-9124257573d8",
   "metadata": {},
   "outputs": [
    {
     "data": {
      "text/html": [
       "<style>#sk-container-id-6 {color: black;background-color: white;}#sk-container-id-6 pre{padding: 0;}#sk-container-id-6 div.sk-toggleable {background-color: white;}#sk-container-id-6 label.sk-toggleable__label {cursor: pointer;display: block;width: 100%;margin-bottom: 0;padding: 0.3em;box-sizing: border-box;text-align: center;}#sk-container-id-6 label.sk-toggleable__label-arrow:before {content: \"▸\";float: left;margin-right: 0.25em;color: #696969;}#sk-container-id-6 label.sk-toggleable__label-arrow:hover:before {color: black;}#sk-container-id-6 div.sk-estimator:hover label.sk-toggleable__label-arrow:before {color: black;}#sk-container-id-6 div.sk-toggleable__content {max-height: 0;max-width: 0;overflow: hidden;text-align: left;background-color: #f0f8ff;}#sk-container-id-6 div.sk-toggleable__content pre {margin: 0.2em;color: black;border-radius: 0.25em;background-color: #f0f8ff;}#sk-container-id-6 input.sk-toggleable__control:checked~div.sk-toggleable__content {max-height: 200px;max-width: 100%;overflow: auto;}#sk-container-id-6 input.sk-toggleable__control:checked~label.sk-toggleable__label-arrow:before {content: \"▾\";}#sk-container-id-6 div.sk-estimator input.sk-toggleable__control:checked~label.sk-toggleable__label {background-color: #d4ebff;}#sk-container-id-6 div.sk-label input.sk-toggleable__control:checked~label.sk-toggleable__label {background-color: #d4ebff;}#sk-container-id-6 input.sk-hidden--visually {border: 0;clip: rect(1px 1px 1px 1px);clip: rect(1px, 1px, 1px, 1px);height: 1px;margin: -1px;overflow: hidden;padding: 0;position: absolute;width: 1px;}#sk-container-id-6 div.sk-estimator {font-family: monospace;background-color: #f0f8ff;border: 1px dotted black;border-radius: 0.25em;box-sizing: border-box;margin-bottom: 0.5em;}#sk-container-id-6 div.sk-estimator:hover {background-color: #d4ebff;}#sk-container-id-6 div.sk-parallel-item::after {content: \"\";width: 100%;border-bottom: 1px solid gray;flex-grow: 1;}#sk-container-id-6 div.sk-label:hover label.sk-toggleable__label {background-color: #d4ebff;}#sk-container-id-6 div.sk-serial::before {content: \"\";position: absolute;border-left: 1px solid gray;box-sizing: border-box;top: 0;bottom: 0;left: 50%;z-index: 0;}#sk-container-id-6 div.sk-serial {display: flex;flex-direction: column;align-items: center;background-color: white;padding-right: 0.2em;padding-left: 0.2em;position: relative;}#sk-container-id-6 div.sk-item {position: relative;z-index: 1;}#sk-container-id-6 div.sk-parallel {display: flex;align-items: stretch;justify-content: center;background-color: white;position: relative;}#sk-container-id-6 div.sk-item::before, #sk-container-id-6 div.sk-parallel-item::before {content: \"\";position: absolute;border-left: 1px solid gray;box-sizing: border-box;top: 0;bottom: 0;left: 50%;z-index: -1;}#sk-container-id-6 div.sk-parallel-item {display: flex;flex-direction: column;z-index: 1;position: relative;background-color: white;}#sk-container-id-6 div.sk-parallel-item:first-child::after {align-self: flex-end;width: 50%;}#sk-container-id-6 div.sk-parallel-item:last-child::after {align-self: flex-start;width: 50%;}#sk-container-id-6 div.sk-parallel-item:only-child::after {width: 0;}#sk-container-id-6 div.sk-dashed-wrapped {border: 1px dashed gray;margin: 0 0.4em 0.5em 0.4em;box-sizing: border-box;padding-bottom: 0.4em;background-color: white;}#sk-container-id-6 div.sk-label label {font-family: monospace;font-weight: bold;display: inline-block;line-height: 1.2em;}#sk-container-id-6 div.sk-label-container {text-align: center;}#sk-container-id-6 div.sk-container {/* jupyter's `normalize.less` sets `[hidden] { display: none; }` but bootstrap.min.css set `[hidden] { display: none !important; }` so we also need the `!important` here to be able to override the default hidden behavior on the sphinx rendered scikit-learn.org. See: https://github.com/scikit-learn/scikit-learn/issues/21755 */display: inline-block !important;position: relative;}#sk-container-id-6 div.sk-text-repr-fallback {display: none;}</style><div id=\"sk-container-id-6\" class=\"sk-top-container\"><div class=\"sk-text-repr-fallback\"><pre>XGBClassifier(base_score=None, booster=None, callbacks=None,\n",
       "              colsample_bylevel=None, colsample_bynode=None,\n",
       "              colsample_bytree=1.0, early_stopping_rounds=None,\n",
       "              enable_categorical=False, eval_metric=None, feature_types=None,\n",
       "              gamma=0.1, gpu_id=None, grow_policy=None, importance_type=None,\n",
       "              interaction_constraints=None, learning_rate=0.01, max_bin=None,\n",
       "              max_cat_threshold=None, max_cat_to_onehot=None,\n",
       "              max_delta_step=None, max_depth=6, max_leaves=None,\n",
       "              min_child_weight=5, missing=nan, monotone_constraints=None,\n",
       "              n_estimators=200, n_jobs=None, num_parallel_tree=None,\n",
       "              predictor=None, random_state=42, ...)</pre><b>In a Jupyter environment, please rerun this cell to show the HTML representation or trust the notebook. <br />On GitHub, the HTML representation is unable to render, please try loading this page with nbviewer.org.</b></div><div class=\"sk-container\" hidden><div class=\"sk-item\"><div class=\"sk-estimator sk-toggleable\"><input class=\"sk-toggleable__control sk-hidden--visually\" id=\"sk-estimator-id-14\" type=\"checkbox\" checked><label for=\"sk-estimator-id-14\" class=\"sk-toggleable__label sk-toggleable__label-arrow\">XGBClassifier</label><div class=\"sk-toggleable__content\"><pre>XGBClassifier(base_score=None, booster=None, callbacks=None,\n",
       "              colsample_bylevel=None, colsample_bynode=None,\n",
       "              colsample_bytree=1.0, early_stopping_rounds=None,\n",
       "              enable_categorical=False, eval_metric=None, feature_types=None,\n",
       "              gamma=0.1, gpu_id=None, grow_policy=None, importance_type=None,\n",
       "              interaction_constraints=None, learning_rate=0.01, max_bin=None,\n",
       "              max_cat_threshold=None, max_cat_to_onehot=None,\n",
       "              max_delta_step=None, max_depth=6, max_leaves=None,\n",
       "              min_child_weight=5, missing=nan, monotone_constraints=None,\n",
       "              n_estimators=200, n_jobs=None, num_parallel_tree=None,\n",
       "              predictor=None, random_state=42, ...)</pre></div></div></div></div></div>"
      ],
      "text/plain": [
       "XGBClassifier(base_score=None, booster=None, callbacks=None,\n",
       "              colsample_bylevel=None, colsample_bynode=None,\n",
       "              colsample_bytree=1.0, early_stopping_rounds=None,\n",
       "              enable_categorical=False, eval_metric=None, feature_types=None,\n",
       "              gamma=0.1, gpu_id=None, grow_policy=None, importance_type=None,\n",
       "              interaction_constraints=None, learning_rate=0.01, max_bin=None,\n",
       "              max_cat_threshold=None, max_cat_to_onehot=None,\n",
       "              max_delta_step=None, max_depth=6, max_leaves=None,\n",
       "              min_child_weight=5, missing=nan, monotone_constraints=None,\n",
       "              n_estimators=200, n_jobs=None, num_parallel_tree=None,\n",
       "              predictor=None, random_state=42, ...)"
      ]
     },
     "execution_count": 65,
     "metadata": {},
     "output_type": "execute_result"
    }
   ],
   "source": [
    "randomized_search.best_estimator_"
   ]
  },
  {
   "cell_type": "code",
   "execution_count": 66,
   "id": "92c80c1a-0054-4001-912c-0bb0ff31a1b5",
   "metadata": {},
   "outputs": [
    {
     "data": {
      "text/plain": [
       "{'objective': 'binary:logistic',\n",
       " 'use_label_encoder': None,\n",
       " 'base_score': None,\n",
       " 'booster': None,\n",
       " 'callbacks': None,\n",
       " 'colsample_bylevel': None,\n",
       " 'colsample_bynode': None,\n",
       " 'colsample_bytree': 1.0,\n",
       " 'early_stopping_rounds': None,\n",
       " 'enable_categorical': False,\n",
       " 'eval_metric': None,\n",
       " 'feature_types': None,\n",
       " 'gamma': 0.1,\n",
       " 'gpu_id': None,\n",
       " 'grow_policy': None,\n",
       " 'importance_type': None,\n",
       " 'interaction_constraints': None,\n",
       " 'learning_rate': 0.01,\n",
       " 'max_bin': None,\n",
       " 'max_cat_threshold': None,\n",
       " 'max_cat_to_onehot': None,\n",
       " 'max_delta_step': None,\n",
       " 'max_depth': 6,\n",
       " 'max_leaves': None,\n",
       " 'min_child_weight': 5,\n",
       " 'missing': nan,\n",
       " 'monotone_constraints': None,\n",
       " 'n_estimators': 200,\n",
       " 'n_jobs': None,\n",
       " 'num_parallel_tree': None,\n",
       " 'predictor': None,\n",
       " 'random_state': 42,\n",
       " 'reg_alpha': 0.5,\n",
       " 'reg_lambda': 0.5,\n",
       " 'sampling_method': None,\n",
       " 'scale_pos_weight': None,\n",
       " 'subsample': 1.0,\n",
       " 'tree_method': None,\n",
       " 'validate_parameters': None,\n",
       " 'verbosity': None}"
      ]
     },
     "execution_count": 66,
     "metadata": {},
     "output_type": "execute_result"
    }
   ],
   "source": [
    "randomized_search.best_estimator_.get_params()"
   ]
  },
  {
   "cell_type": "code",
   "execution_count": 67,
   "id": "d60fdaaa-dd74-435e-a398-8288029e720e",
   "metadata": {},
   "outputs": [
    {
     "data": {
      "text/plain": [
       "array([0, 0, 0, ..., 0, 0, 0])"
      ]
     },
     "execution_count": 67,
     "metadata": {},
     "output_type": "execute_result"
    }
   ],
   "source": [
    "randomized_search.predict(X_test)"
   ]
  },
  {
   "cell_type": "code",
   "execution_count": 68,
   "id": "7fb1eaa3-f2f6-425e-a5fa-0e8808ae7aea",
   "metadata": {},
   "outputs": [
    {
     "data": {
      "text/plain": [
       "{'subsample': 1.0,\n",
       " 'reg_lambda': 0.5,\n",
       " 'reg_alpha': 0.5,\n",
       " 'n_estimators': 200,\n",
       " 'min_child_weight': 5,\n",
       " 'max_depth': 6,\n",
       " 'learning_rate': 0.01,\n",
       " 'gamma': 0.1,\n",
       " 'colsample_bytree': 1.0}"
      ]
     },
     "execution_count": 68,
     "metadata": {},
     "output_type": "execute_result"
    }
   ],
   "source": [
    "randomized_search.best_params_"
   ]
  },
  {
   "cell_type": "code",
   "execution_count": 94,
   "id": "f213b6f5-f5d4-4c0a-9577-97d2d88de29c",
   "metadata": {},
   "outputs": [],
   "source": [
    "xgboost_params= {'subsample': 1.0,\n",
    " 'reg_lambda': 0.5,\n",
    " 'reg_alpha': 0.5,\n",
    " 'n_estimators': 200,\n",
    " 'min_child_weight': 5,\n",
    " 'max_depth': 6,\n",
    " 'learning_rate': 0.01,\n",
    " 'gamma': 0.1,\n",
    " 'colsample_bytree': 1.0}"
   ]
  },
  {
   "cell_type": "code",
   "execution_count": 91,
   "id": "19bfa325-ab8b-4118-9420-86f6930f77d7",
   "metadata": {},
   "outputs": [
    {
     "data": {
      "text/plain": [
       "0.8588695494581173"
      ]
     },
     "execution_count": 91,
     "metadata": {},
     "output_type": "execute_result"
    }
   ],
   "source": [
    "randomized_search.best_score_"
   ]
  },
  {
   "cell_type": "code",
   "execution_count": 95,
   "id": "3b3305ba-3720-4047-8825-60662ef1dbd0",
   "metadata": {},
   "outputs": [
    {
     "name": "stdout",
     "output_type": "stream",
     "text": [
      "Accuracy: 0.8683333333333333\n",
      "Confusion Matrix:\n",
      "[[2323   93]\n",
      " [ 302  282]]\n",
      "\n",
      "Classification Report:\n",
      "              precision    recall  f1-score   support\n",
      "\n",
      "           0       0.88      0.96      0.92      2416\n",
      "           1       0.75      0.48      0.59       584\n",
      "\n",
      "    accuracy                           0.87      3000\n",
      "   macro avg       0.82      0.72      0.75      3000\n",
      "weighted avg       0.86      0.87      0.86      3000\n",
      "\n"
     ]
    }
   ],
   "source": [
    "# Initialize the model\n",
    "xgboost = XGBClassifier(**xgboost_params, random_state=42)\n",
    "\n",
    "# Train the model\n",
    "xgboost.fit(X_train_iso, y_train_iso, verbose = False)\n",
    "\n",
    "# Make predictions\n",
    "y_pred = xgboost.predict(X_test)\n",
    "\n",
    "# Evaluate the model\n",
    "accuracy_xgboost = xgboost.score(X_test, y_test)\n",
    "print(\"Accuracy:\", accuracy_xgboost)\n",
    "\n",
    "# Confusion Matrix\n",
    "conf_matrix_xgboost = confusion_matrix(y_test, y_pred)\n",
    "print(\"Confusion Matrix:\")\n",
    "print(conf_matrix_xgboost)\n",
    "\n",
    "# Classification Report\n",
    "class_report_xgboost = classification_report(y_test, y_pred)\n",
    "print(\"\\nClassification Report:\")\n",
    "print(class_report_xgboost)"
   ]
  },
  {
   "cell_type": "markdown",
   "id": "f3b557b9-fd8e-4c90-aa22-e4f15ac5f383",
   "metadata": {},
   "source": [
    "## Statistical Tests"
   ]
  },
  {
   "cell_type": "markdown",
   "id": "da9fe33a-3466-4c33-a63d-c802bf138929",
   "metadata": {},
   "source": [
    "#### Normality Test"
   ]
  },
  {
   "cell_type": "markdown",
   "id": "791e71e6-94f9-457e-aff5-812a83c8ae37",
   "metadata": {},
   "source": [
    "If the p-value is greater than the alpha significance level (0.05), then the null hypothesis is not rejected and it is concluded that the data is probably normally distributed. Otherwise, if the p-value is less than alpha, the null hypothesis is rejected and it is concluded that the data is not normally distributed."
   ]
  },
  {
   "cell_type": "code",
   "execution_count": 83,
   "id": "e3222a27-1de7-4a38-90fd-a68809bc7fca",
   "metadata": {},
   "outputs": [
    {
     "name": "stdout",
     "output_type": "stream",
     "text": [
      "Shapiro-Wilk test statistic: 0.757\n",
      "p-value: 0.000\n",
      "The data is likely not normally distributed (reject H0)\n"
     ]
    }
   ],
   "source": [
    "data = X_train\n",
    "\n",
    "# Perform Shapiro-Wilk normality test\n",
    "stat, p = stats.shapiro(data)\n",
    "\n",
    "# Print test results\n",
    "print('Shapiro-Wilk test statistic: %.3f' % stat)\n",
    "print('p-value: %.3f' % p)\n",
    "\n",
    "# Interpret test results\n",
    "alpha = 0.05\n",
    "if p > alpha:\n",
    "    print('The data is likely normally distributed (fail to reject H0)')\n",
    "else:\n",
    "    print('The data is likely not normally distributed (reject H0)')"
   ]
  },
  {
   "cell_type": "markdown",
   "id": "420056da-ca25-453e-a53e-739158583bf3",
   "metadata": {},
   "source": [
    "### Student's Two Sample T-test"
   ]
  },
  {
   "cell_type": "markdown",
   "id": "dce0db08-a4b1-43fc-a15b-4deb627d270e",
   "metadata": {},
   "source": [
    "Based on the p-value (p) in relation to the alpha significance level (0.05), the null hypothesis (H0) that there is no significant difference between the means of the two samples is tested. If the p-value is greater than alpha, the null hypothesis is not rejected, indicating that the difference between the means of the two samples is not significant. Otherwise, if the p-value is less than alpha, the null hypothesis is rejected, indicating that there is a significant difference between the means of the two samples."
   ]
  },
  {
   "cell_type": "code",
   "execution_count": 84,
   "id": "5699d42d-aa91-47e9-b053-24eb8a1ca9b0",
   "metadata": {},
   "outputs": [
    {
     "name": "stdout",
     "output_type": "stream",
     "text": [
      "Student t-test statistic: -1.577\n",
      "p-value: 0.115\n",
      "The difference between the means of the two samples is not significant (fail to reject H0)\n"
     ]
    }
   ],
   "source": [
    "# Example datasets\n",
    "sample1 = X_train['EstimatedSalary']\n",
    "sample2 = X_train['IsActiveMember_1']\n",
    "\n",
    "# Perform Student t-test\n",
    "t, p = stats.ttest_ind(sample1, sample2)\n",
    "\n",
    "# Print test results\n",
    "print('Student t-test statistic: %.3f' % t)\n",
    "print('p-value: %.3f' % p)\n",
    "\n",
    "# Interpret test results\n",
    "alpha = 0.05\n",
    "if p > alpha:\n",
    "    print('The difference between the means of the two samples is not significant (fail to reject H0)')\n",
    "else:\n",
    "    print('The difference between the means of the two samples is significant (reject H0)')"
   ]
  },
  {
   "cell_type": "markdown",
   "id": "2b9cacad-5b12-4d90-9aab-c2c7c0352d48",
   "metadata": {},
   "source": [
    "### Chi-Squared Correlation Test"
   ]
  },
  {
   "cell_type": "markdown",
   "id": "56d385f0-7413-4c3f-bf71-31c071638b26",
   "metadata": {},
   "source": [
    "If the p-value is less than or equal to alpha (0.05), we reject the null hypothesis (H0) and conclude that the variables are dependent. Otherwise, if the p-value is greater than alpha, we fail to reject the null hypothesis and conclude that the variables are independent (dependent/independent, meaning that there is/is no significant association between them in the population, i.e., the two variables do not are related and in the case of varying in one variable it does not affect the probability of observing a specific behavior in the other variable)."
   ]
  },
  {
   "cell_type": "code",
   "execution_count": 85,
   "id": "0137cbf4-0c2e-4230-bdc0-4256bc83e5cc",
   "metadata": {},
   "outputs": [
    {
     "data": {
      "text/html": [
       "<div>\n",
       "<style scoped>\n",
       "    .dataframe tbody tr th:only-of-type {\n",
       "        vertical-align: middle;\n",
       "    }\n",
       "\n",
       "    .dataframe tbody tr th {\n",
       "        vertical-align: top;\n",
       "    }\n",
       "\n",
       "    .dataframe thead th {\n",
       "        text-align: right;\n",
       "    }\n",
       "</style>\n",
       "<table border=\"1\" class=\"dataframe\">\n",
       "  <thead>\n",
       "    <tr style=\"text-align: right;\">\n",
       "      <th>Card Type_PLATINUM</th>\n",
       "      <th>0.0</th>\n",
       "      <th>1.0</th>\n",
       "    </tr>\n",
       "    <tr>\n",
       "      <th>EstimatedSalary</th>\n",
       "      <th></th>\n",
       "      <th></th>\n",
       "    </tr>\n",
       "  </thead>\n",
       "  <tbody>\n",
       "    <tr>\n",
       "      <th>0.000000</th>\n",
       "      <td>1</td>\n",
       "      <td>0</td>\n",
       "    </tr>\n",
       "    <tr>\n",
       "      <th>0.000008</th>\n",
       "      <td>1</td>\n",
       "      <td>0</td>\n",
       "    </tr>\n",
       "    <tr>\n",
       "      <th>0.000031</th>\n",
       "      <td>1</td>\n",
       "      <td>0</td>\n",
       "    </tr>\n",
       "    <tr>\n",
       "      <th>0.000441</th>\n",
       "      <td>1</td>\n",
       "      <td>0</td>\n",
       "    </tr>\n",
       "    <tr>\n",
       "      <th>0.000631</th>\n",
       "      <td>1</td>\n",
       "      <td>0</td>\n",
       "    </tr>\n",
       "    <tr>\n",
       "      <th>...</th>\n",
       "      <td>...</td>\n",
       "      <td>...</td>\n",
       "    </tr>\n",
       "    <tr>\n",
       "      <th>0.999433</th>\n",
       "      <td>1</td>\n",
       "      <td>0</td>\n",
       "    </tr>\n",
       "    <tr>\n",
       "      <th>0.999460</th>\n",
       "      <td>1</td>\n",
       "      <td>0</td>\n",
       "    </tr>\n",
       "    <tr>\n",
       "      <th>0.999693</th>\n",
       "      <td>1</td>\n",
       "      <td>0</td>\n",
       "    </tr>\n",
       "    <tr>\n",
       "      <th>0.999913</th>\n",
       "      <td>1</td>\n",
       "      <td>0</td>\n",
       "    </tr>\n",
       "    <tr>\n",
       "      <th>1.000000</th>\n",
       "      <td>0</td>\n",
       "      <td>1</td>\n",
       "    </tr>\n",
       "  </tbody>\n",
       "</table>\n",
       "<p>6999 rows × 2 columns</p>\n",
       "</div>"
      ],
      "text/plain": [
       "Card Type_PLATINUM  0.0  1.0\n",
       "EstimatedSalary             \n",
       "0.000000              1    0\n",
       "0.000008              1    0\n",
       "0.000031              1    0\n",
       "0.000441              1    0\n",
       "0.000631              1    0\n",
       "...                 ...  ...\n",
       "0.999433              1    0\n",
       "0.999460              1    0\n",
       "0.999693              1    0\n",
       "0.999913              1    0\n",
       "1.000000              0    1\n",
       "\n",
       "[6999 rows x 2 columns]"
      ]
     },
     "metadata": {},
     "output_type": "display_data"
    },
    {
     "name": "stdout",
     "output_type": "stream",
     "text": [
      "p value is 0.4999058774168547\n",
      "Independent (H0 holds true)\n"
     ]
    }
   ],
   "source": [
    "#define the contingency table\n",
    "contigency = pd.crosstab(X_train['EstimatedSalary'], X_train['Card Type_PLATINUM'])\n",
    "display(contigency)\n",
    "\n",
    "stat, p, dof, expected = chi2_contingency(contigency)\n",
    "  \n",
    "# interpret p-value\n",
    "alpha = 0.05\n",
    "print(\"p value is \" + str(p))\n",
    "if p <= alpha:\n",
    "    print('Dependent (reject H0)')\n",
    "else:\n",
    "    print('Independent (H0 holds true)')"
   ]
  },
  {
   "cell_type": "markdown",
   "id": "eab4b921-161f-408f-ac68-01d1c66f795a",
   "metadata": {},
   "source": [
    "### ANOVA "
   ]
  },
  {
   "cell_type": "markdown",
   "id": "22e476ad-54fe-478c-8622-05d6178f0631",
   "metadata": {},
   "source": [
    "If the p-value is less than alpha (0.05), it prints out that there is a statistically significant difference between the groups; otherwise, it prints out that there is not enough evidence to reject the null hypothesis (H0) that the groups have the same mean.  \n",
    "\"Statistically significant difference\", indicates that the observed difference is considered not to be the result of random variation in the data, but rather as an indication of a true difference between the groups."
   ]
  },
  {
   "cell_type": "code",
   "execution_count": 86,
   "id": "d8390264-828f-46ea-802e-397b9cd89c8f",
   "metadata": {},
   "outputs": [
    {
     "name": "stdout",
     "output_type": "stream",
     "text": [
      "F-statistic: 4059.824999987538\n",
      "p-value: 0.0\n",
      "There is a statistically significant difference between the groups.\n"
     ]
    }
   ],
   "source": [
    "performance1 = X_train['CreditScore']\n",
    "performance2 = X_train['EstimatedSalary']\n",
    "performance3 = X_train['Tenure']\n",
    "performance4 = X_train['NumOfProducts']\n",
    " \n",
    "# Conduct the one-way ANOVA\n",
    "f_statistic, p_value = f_oneway(performance1, performance2, performance3, performance4)\n",
    "\n",
    "# Display the results\n",
    "print('F-statistic:', f_statistic)\n",
    "print('p-value:', p_value)\n",
    "\n",
    "# Interpret the results\n",
    "alpha = 0.05\n",
    "if p_value < alpha:\n",
    "    print('There is a statistically significant difference between the groups.')\n",
    "else:\n",
    "    print('There is not enough evidence to reject the null hypothesis that the groups have the same mean.')"
   ]
  },
  {
   "cell_type": "code",
   "execution_count": null,
   "id": "14d92424-e12a-430e-850a-28ac17742d68",
   "metadata": {},
   "outputs": [],
   "source": []
  }
 ],
 "metadata": {
  "kernelspec": {
   "display_name": "Python 3 (ipykernel)",
   "language": "python",
   "name": "python3"
  },
  "language_info": {
   "codemirror_mode": {
    "name": "ipython",
    "version": 3
   },
   "file_extension": ".py",
   "mimetype": "text/x-python",
   "name": "python",
   "nbconvert_exporter": "python",
   "pygments_lexer": "ipython3",
   "version": "3.11.7"
  }
 },
 "nbformat": 4,
 "nbformat_minor": 5
}
